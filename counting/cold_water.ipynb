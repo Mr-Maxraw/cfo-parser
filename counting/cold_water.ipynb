{
 "cells": [
  {
   "cell_type": "code",
   "execution_count": 7,
   "metadata": {},
   "outputs": [],
   "source": [
    "from openpyxl import Workbook, load_workbook\n",
    "import pandas as pd\n",
    "from openpyxl.utils.dataframe import dataframe_to_rows as df_to_row\n",
    "import numpy as np\n",
    "import matplotlib as mpl\n",
    "import matplotlib.pyplot as plt"
   ]
  },
  {
   "cell_type": "code",
   "execution_count": 56,
   "metadata": {},
   "outputs": [],
   "source": [
    "from szp_funcs import print_df"
   ]
  },
  {
   "cell_type": "code",
   "execution_count": 3,
   "metadata": {},
   "outputs": [],
   "source": [
    "path_to_file = 'C:/Users/PetukhovMD/Desktop/ХВС/data.xlsx'"
   ]
  },
  {
   "cell_type": "code",
   "execution_count": 4,
   "metadata": {},
   "outputs": [],
   "source": [
    "res = pd.read_excel(path_to_file)"
   ]
  },
  {
   "cell_type": "code",
   "execution_count": 5,
   "metadata": {},
   "outputs": [
    {
     "data": {
      "text/html": [
       "<div>\n",
       "<style scoped>\n",
       "    .dataframe tbody tr th:only-of-type {\n",
       "        vertical-align: middle;\n",
       "    }\n",
       "\n",
       "    .dataframe tbody tr th {\n",
       "        vertical-align: top;\n",
       "    }\n",
       "\n",
       "    .dataframe thead th {\n",
       "        text-align: right;\n",
       "    }\n",
       "</style>\n",
       "<table border=\"1\" class=\"dataframe\">\n",
       "  <thead>\n",
       "    <tr style=\"text-align: right;\">\n",
       "      <th></th>\n",
       "      <th>sch</th>\n",
       "      <th>real</th>\n",
       "      <th>perc</th>\n",
       "      <th>type</th>\n",
       "    </tr>\n",
       "  </thead>\n",
       "  <tbody>\n",
       "    <tr>\n",
       "      <th>0</th>\n",
       "      <td>ГБОУ Школа № 1501</td>\n",
       "      <td>2.918081</td>\n",
       "      <td>132.751453</td>\n",
       "      <td>Школы с интернатами</td>\n",
       "    </tr>\n",
       "    <tr>\n",
       "      <th>1</th>\n",
       "      <td>ГБОУ Школа № 108</td>\n",
       "      <td>4.878277</td>\n",
       "      <td>64.327298</td>\n",
       "      <td>Школы с интернатами</td>\n",
       "    </tr>\n",
       "    <tr>\n",
       "      <th>2</th>\n",
       "      <td>ГБОУ Школа ''Интеллектуал''</td>\n",
       "      <td>3.247956</td>\n",
       "      <td>35.721087</td>\n",
       "      <td>Школы с интернатами</td>\n",
       "    </tr>\n",
       "    <tr>\n",
       "      <th>3</th>\n",
       "      <td>ГБОУ Школа № 1454 ''Тимирязевская''</td>\n",
       "      <td>1.632934</td>\n",
       "      <td>33.313602</td>\n",
       "      <td>Школы с интернатами</td>\n",
       "    </tr>\n",
       "    <tr>\n",
       "      <th>4</th>\n",
       "      <td>ГБОУ Школа № 158</td>\n",
       "      <td>1.577868</td>\n",
       "      <td>28.601844</td>\n",
       "      <td>Школы с интернатами</td>\n",
       "    </tr>\n",
       "    <tr>\n",
       "      <th>...</th>\n",
       "      <td>...</td>\n",
       "      <td>...</td>\n",
       "      <td>...</td>\n",
       "      <td>...</td>\n",
       "    </tr>\n",
       "    <tr>\n",
       "      <th>559</th>\n",
       "      <td>ГБОУДО ЦВР ''Синегория''</td>\n",
       "      <td>0.070620</td>\n",
       "      <td>-28.777621</td>\n",
       "      <td>УДО без бассейнов</td>\n",
       "    </tr>\n",
       "    <tr>\n",
       "      <th>560</th>\n",
       "      <td>ГБОУ ДО ЦРТДЮ \"Пресня\"</td>\n",
       "      <td>0.117280</td>\n",
       "      <td>-32.729338</td>\n",
       "      <td>УДО без бассейнов</td>\n",
       "    </tr>\n",
       "    <tr>\n",
       "      <th>561</th>\n",
       "      <td>ГБДОУ Детский сад № 766</td>\n",
       "      <td>2.025221</td>\n",
       "      <td>111.675122</td>\n",
       "      <td>ДОУ</td>\n",
       "    </tr>\n",
       "    <tr>\n",
       "      <th>562</th>\n",
       "      <td>ГБДОУ Детский сад № 754 ''Солнышко''</td>\n",
       "      <td>4.345133</td>\n",
       "      <td>67.120490</td>\n",
       "      <td>ДОУ</td>\n",
       "    </tr>\n",
       "    <tr>\n",
       "      <th>563</th>\n",
       "      <td>ГАОУ ВО МГПУ</td>\n",
       "      <td>1.633498</td>\n",
       "      <td>15.158492</td>\n",
       "      <td>ВПО</td>\n",
       "    </tr>\n",
       "  </tbody>\n",
       "</table>\n",
       "<p>564 rows × 4 columns</p>\n",
       "</div>"
      ],
      "text/plain": [
       "                                      sch      real        perc  \\\n",
       "0                       ГБОУ Школа № 1501  2.918081  132.751453   \n",
       "1                        ГБОУ Школа № 108  4.878277   64.327298   \n",
       "2             ГБОУ Школа ''Интеллектуал''  3.247956   35.721087   \n",
       "3     ГБОУ Школа № 1454 ''Тимирязевская''  1.632934   33.313602   \n",
       "4                        ГБОУ Школа № 158  1.577868   28.601844   \n",
       "..                                    ...       ...         ...   \n",
       "559              ГБОУДО ЦВР ''Синегория''  0.070620  -28.777621   \n",
       "560                ГБОУ ДО ЦРТДЮ \"Пресня\"  0.117280  -32.729338   \n",
       "561               ГБДОУ Детский сад № 766  2.025221  111.675122   \n",
       "562  ГБДОУ Детский сад № 754 ''Солнышко''  4.345133   67.120490   \n",
       "563                          ГАОУ ВО МГПУ  1.633498   15.158492   \n",
       "\n",
       "                    type  \n",
       "0    Школы с интернатами  \n",
       "1    Школы с интернатами  \n",
       "2    Школы с интернатами  \n",
       "3    Школы с интернатами  \n",
       "4    Школы с интернатами  \n",
       "..                   ...  \n",
       "559    УДО без бассейнов  \n",
       "560    УДО без бассейнов  \n",
       "561                  ДОУ  \n",
       "562                  ДОУ  \n",
       "563                  ВПО  \n",
       "\n",
       "[564 rows x 4 columns]"
      ]
     },
     "execution_count": 5,
     "metadata": {},
     "output_type": "execute_result"
    }
   ],
   "source": [
    "res"
   ]
  },
  {
   "cell_type": "code",
   "execution_count": 13,
   "metadata": {},
   "outputs": [
    {
     "data": {
      "text/plain": [
       "count    564.000000\n",
       "mean       1.283637\n",
       "std        0.694475\n",
       "min        0.000000\n",
       "1%         0.076269\n",
       "10%        0.735733\n",
       "25%        0.968648\n",
       "50%        1.214599\n",
       "75%        1.454036\n",
       "90%        1.883198\n",
       "99%        3.957800\n",
       "max        7.715274\n",
       "Name: real, dtype: float64"
      ]
     },
     "execution_count": 13,
     "metadata": {},
     "output_type": "execute_result"
    }
   ],
   "source": [
    "res['real'].describe(percentiles=[0.01, 0.1, 0.25, 0.50, 0.75, 0.90, 0.99])"
   ]
  },
  {
   "cell_type": "code",
   "execution_count": 14,
   "metadata": {},
   "outputs": [
    {
     "data": {
      "text/plain": [
       "count     564.000000\n",
       "mean       14.429895\n",
       "std       129.482147\n",
       "min       -86.961196\n",
       "1%        -52.213345\n",
       "10%       -21.181283\n",
       "25%        -8.886947\n",
       "50%         4.590207\n",
       "75%        19.005333\n",
       "90%        41.861450\n",
       "99%       124.547765\n",
       "max      2921.996774\n",
       "Name: perc, dtype: float64"
      ]
     },
     "execution_count": 14,
     "metadata": {},
     "output_type": "execute_result"
    }
   ],
   "source": [
    "res['perc'].describe(percentiles=[0.01, 0.1, 0.25, 0.50, 0.75, 0.90, 0.99])"
   ]
  },
  {
   "cell_type": "code",
   "execution_count": 36,
   "metadata": {},
   "outputs": [
    {
     "ename": "TypeError",
     "evalue": "cannot unpack non-iterable PathCollection object",
     "output_type": "error",
     "traceback": [
      "\u001b[1;31m---------------------------------------------------------------------------\u001b[0m",
      "\u001b[1;31mTypeError\u001b[0m                                 Traceback (most recent call last)",
      "\u001b[1;32mc:\\Users\\PetukhovMD\\Documents\\code\\montly reports\\counting\\cold_water.ipynb Cell 7'\u001b[0m in \u001b[0;36m<cell line: 1>\u001b[1;34m()\u001b[0m\n\u001b[1;32m----> <a href='vscode-notebook-cell:/c%3A/Users/PetukhovMD/Documents/code/montly%20reports/counting/cold_water.ipynb#ch0000004?line=0'>1</a>\u001b[0m n_real, bins_real, patches_real \u001b[39m=\u001b[39m plt\u001b[39m.\u001b[39mscatter(x\u001b[39m=\u001b[39mres[res\u001b[39m.\u001b[39mperc \u001b[39m<\u001b[39m \u001b[39m1000\u001b[39m][\u001b[39m'\u001b[39m\u001b[39mreal\u001b[39m\u001b[39m'\u001b[39m]\u001b[39m.\u001b[39mto_list(), y\u001b[39m=\u001b[39mres[res\u001b[39m.\u001b[39mperc \u001b[39m<\u001b[39m \u001b[39m1000\u001b[39m][\u001b[39m'\u001b[39m\u001b[39mperc\u001b[39m\u001b[39m'\u001b[39m]\u001b[39m.\u001b[39mto_list())\n",
      "\u001b[1;31mTypeError\u001b[0m: cannot unpack non-iterable PathCollection object"
     ]
    },
    {
     "data": {
      "image/png": "[encoded data removed]",
      "text/plain": [
       "<Figure size 432x288 with 1 Axes>"
      ]
     },
     "metadata": {
      "needs_background": "light"
     },
     "output_type": "display_data"
    }
   ],
   "source": [
    "plt.scatter(x=res[res.perc < 1000]['real'].to_list(), y=res[res.perc < 1000]['perc'].to_list())"
   ]
  },
  {
   "cell_type": "code",
   "execution_count": 35,
   "metadata": {},
   "outputs": [
    {
     "ename": "TypeError",
     "evalue": "'PathCollection' object is not subscriptable",
     "output_type": "error",
     "traceback": [
      "\u001b[1;31m---------------------------------------------------------------------------\u001b[0m",
      "\u001b[1;31mTypeError\u001b[0m                                 Traceback (most recent call last)",
      "\u001b[1;32mc:\\Users\\PetukhovMD\\Documents\\code\\montly reports\\counting\\cold_water.ipynb Cell 8'\u001b[0m in \u001b[0;36m<cell line: 1>\u001b[1;34m()\u001b[0m\n\u001b[1;32m----> <a href='vscode-notebook-cell:/c%3A/Users/PetukhovMD/Documents/code/montly%20reports/counting/cold_water.ipynb#ch0000009?line=0'>1</a>\u001b[0m real[\u001b[39m'\u001b[39;49m\u001b[39mn\u001b[39;49m\u001b[39m'\u001b[39;49m]\n",
      "\u001b[1;31mTypeError\u001b[0m: 'PathCollection' object is not subscriptable"
     ]
    }
   ],
   "source": []
  },
  {
   "cell_type": "code",
   "execution_count": 37,
   "metadata": {},
   "outputs": [
    {
     "data": {
      "image/png": "[encoded data removed]",
      "text/plain": [
       "<Figure size 432x288 with 1 Axes>"
      ]
     },
     "metadata": {
      "needs_background": "light"
     },
     "output_type": "display_data"
    }
   ],
   "source": [
    "n_real, bins_real, patches_real = plt.hist(res['real'].to_list(), 100)"
   ]
  },
  {
   "cell_type": "code",
   "execution_count": 43,
   "metadata": {},
   "outputs": [
    {
     "data": {
      "text/plain": [
       "array([ 6., 12.,  8.,  1.,  1.,  9.,  4.,  3., 10., 11., 23., 33., 37.,\n",
       "       37., 61., 40., 52., 48., 31., 22., 15., 19.,  8., 11., 12.,  8.,\n",
       "        6.,  2.,  2.,  7.,  1.,  3.,  0.,  2.,  2.,  2.,  3.,  1.,  0.,\n",
       "        0.,  2.,  0.,  1.,  0.,  0.,  1.,  0.,  0.,  1.,  0.,  0.,  0.,\n",
       "        0.,  0.,  0.,  0.,  1.,  0.,  0.,  0.,  0.,  0.,  0.,  2.,  0.,\n",
       "        0.,  0.,  0.,  0.,  0.,  1.,  0.,  0.,  0.,  0.,  0.,  0.,  0.,\n",
       "        0.,  0.,  0.,  1.,  0.,  0.,  0.,  0.,  0.,  0.,  0.,  0.,  0.,\n",
       "        0.,  0.,  0.,  0.,  0.,  0.,  0.,  0.,  1.])"
      ]
     },
     "execution_count": 43,
     "metadata": {},
     "output_type": "execute_result"
    }
   ],
   "source": [
    "n_real"
   ]
  },
  {
   "cell_type": "code",
   "execution_count": 44,
   "metadata": {},
   "outputs": [
    {
     "data": {
      "text/plain": [
       "10"
      ]
     },
     "execution_count": 44,
     "metadata": {},
     "output_type": "execute_result"
    }
   ],
   "source": [
    "n_real.tolist().index(23)"
   ]
  },
  {
   "cell_type": "code",
   "execution_count": 42,
   "metadata": {},
   "outputs": [
    {
     "data": {
      "text/plain": [
       "19"
      ]
     },
     "execution_count": 42,
     "metadata": {},
     "output_type": "execute_result"
    }
   ],
   "source": [
    "n_real.tolist().index(22)"
   ]
  },
  {
   "cell_type": "code",
   "execution_count": 40,
   "metadata": {},
   "outputs": [
    {
     "data": {
      "text/plain": [
       "array([0.        , 0.07715274, 0.15430549, 0.23145823, 0.30861097,\n",
       "       0.38576372, 0.46291646, 0.5400692 , 0.61722195, 0.69437469,\n",
       "       0.77152743, 0.84868018, 0.92583292, 1.00298566, 1.08013841,\n",
       "       1.15729115, 1.2344439 , 1.31159664, 1.38874938, 1.46590213,\n",
       "       1.54305487, 1.62020761, 1.69736036, 1.7745131 , 1.85166584,\n",
       "       1.92881859, 2.00597133, 2.08312407, 2.16027682, 2.23742956,\n",
       "       2.3145823 , 2.39173505, 2.46888779, 2.54604053, 2.62319328,\n",
       "       2.70034602, 2.77749876, 2.85465151, 2.93180425, 3.00895699,\n",
       "       3.08610974, 3.16326248, 3.24041522, 3.31756797, 3.39472071,\n",
       "       3.47187346, 3.5490262 , 3.62617894, 3.70333169, 3.78048443,\n",
       "       3.85763717, 3.93478992, 4.01194266, 4.0890954 , 4.16624815,\n",
       "       4.24340089, 4.32055363, 4.39770638, 4.47485912, 4.55201186,\n",
       "       4.62916461, 4.70631735, 4.78347009, 4.86062284, 4.93777558,\n",
       "       5.01492832, 5.09208107, 5.16923381, 5.24638655, 5.3235393 ,\n",
       "       5.40069204, 5.47784478, 5.55499753, 5.63215027, 5.70930302,\n",
       "       5.78645576, 5.8636085 , 5.94076125, 6.01791399, 6.09506673,\n",
       "       6.17221948, 6.24937222, 6.32652496, 6.40367771, 6.48083045,\n",
       "       6.55798319, 6.63513594, 6.71228868, 6.78944142, 6.86659417,\n",
       "       6.94374691, 7.02089965, 7.0980524 , 7.17520514, 7.25235788,\n",
       "       7.32951063, 7.40666337, 7.48381611, 7.56096886, 7.6381216 ,\n",
       "       7.71527435])"
      ]
     },
     "execution_count": 40,
     "metadata": {},
     "output_type": "execute_result"
    }
   ],
   "source": [
    "bins_real"
   ]
  },
  {
   "cell_type": "code",
   "execution_count": 46,
   "metadata": {},
   "outputs": [
    {
     "data": {
      "text/plain": [
       "0.8486801779535343"
      ]
     },
     "execution_count": 46,
     "metadata": {},
     "output_type": "execute_result"
    }
   ],
   "source": [
    "bins_real[11]"
   ]
  },
  {
   "cell_type": "code",
   "execution_count": 47,
   "metadata": {},
   "outputs": [
    {
     "data": {
      "text/plain": [
       "1.4659021255561049"
      ]
     },
     "execution_count": 47,
     "metadata": {},
     "output_type": "execute_result"
    }
   ],
   "source": [
    "bins_real[19]"
   ]
  },
  {
   "cell_type": "code",
   "execution_count": 38,
   "metadata": {},
   "outputs": [
    {
     "data": {
      "image/png": "[encoded data removed]",
      "text/plain": [
       "<Figure size 432x288 with 1 Axes>"
      ]
     },
     "metadata": {
      "needs_background": "light"
     },
     "output_type": "display_data"
    }
   ],
   "source": [
    "n_perc, bins_perc, patches_perc = plt.hist(res[res.perc < 1000]['perc'].to_list(), 100)"
   ]
  },
  {
   "cell_type": "code",
   "execution_count": 48,
   "metadata": {},
   "outputs": [
    {
     "data": {
      "text/plain": [
       "array([ 3.,  1.,  0.,  0.,  2.,  3.,  6.,  8., 11., 20., 30., 60., 51.,\n",
       "       84., 79., 57., 38., 17., 27., 14., 18.,  7.,  5.,  3.,  2.,  2.,\n",
       "        3.,  1.,  1.,  1.,  2.,  1.,  2.,  1.,  0.,  0.,  0.,  1.,  0.,\n",
       "        0.,  0.,  0.,  0.,  0.,  0.,  0.,  0.,  0.,  0.,  0.,  0.,  0.,\n",
       "        0.,  0.,  0.,  0.,  0.,  0.,  0.,  0.,  0.,  0.,  0.,  0.,  0.,\n",
       "        0.,  0.,  0.,  0.,  0.,  0.,  0.,  0.,  0.,  0.,  0.,  0.,  0.,\n",
       "        0.,  0.,  0.,  0.,  0.,  1.,  0.,  0.,  0.,  0.,  0.,  0.,  0.,\n",
       "        0.,  0.,  0.,  0.,  0.,  0.,  0.,  0.,  1.])"
      ]
     },
     "execution_count": 48,
     "metadata": {},
     "output_type": "execute_result"
    }
   ],
   "source": [
    "n_perc"
   ]
  },
  {
   "cell_type": "code",
   "execution_count": 50,
   "metadata": {},
   "outputs": [
    {
     "data": {
      "text/plain": [
       "7"
      ]
     },
     "execution_count": 50,
     "metadata": {},
     "output_type": "execute_result"
    }
   ],
   "source": [
    "n_perc.tolist().index(8)"
   ]
  },
  {
   "cell_type": "code",
   "execution_count": 51,
   "metadata": {},
   "outputs": [
    {
     "data": {
      "text/plain": [
       "-34.759390467157154"
      ]
     },
     "execution_count": 51,
     "metadata": {},
     "output_type": "execute_result"
    }
   ],
   "source": [
    "bins_perc[8]"
   ]
  },
  {
   "cell_type": "code",
   "execution_count": 52,
   "metadata": {},
   "outputs": [
    {
     "data": {
      "text/plain": [
       "21"
      ]
     },
     "execution_count": 52,
     "metadata": {},
     "output_type": "execute_result"
    }
   ],
   "source": [
    "n_perc.tolist().index(7)"
   ]
  },
  {
   "cell_type": "code",
   "execution_count": 53,
   "metadata": {},
   "outputs": [
    {
     "data": {
      "text/plain": [
       "50.06854400471779"
      ]
     },
     "execution_count": 53,
     "metadata": {},
     "output_type": "execute_result"
    }
   ],
   "source": [
    "bins_perc[21]"
   ]
  },
  {
   "cell_type": "code",
   "execution_count": 49,
   "metadata": {},
   "outputs": [
    {
     "data": {
      "text/plain": [
       "array([-86.9611963 , -80.43597057, -73.91074484, -67.38551911,\n",
       "       -60.86029338, -54.33506765, -47.80984192, -41.2846162 ,\n",
       "       -34.75939047, -28.23416474, -21.70893901, -15.18371328,\n",
       "        -8.65848755,  -2.13326182,   4.3919639 ,  10.91718963,\n",
       "        17.44241536,  23.96764109,  30.49286682,  37.01809255,\n",
       "        43.54331828,  50.068544  ,  56.59376973,  63.11899546,\n",
       "        69.64422119,  76.16944692,  82.69467265,  89.21989838,\n",
       "        95.7451241 , 102.27034983, 108.79557556, 115.32080129,\n",
       "       121.84602702, 128.37125275, 134.89647848, 141.42170421,\n",
       "       147.94692993, 154.47215566, 160.99738139, 167.52260712,\n",
       "       174.04783285, 180.57305858, 187.09828431, 193.62351003,\n",
       "       200.14873576, 206.67396149, 213.19918722, 219.72441295,\n",
       "       226.24963868, 232.77486441, 239.30009013, 245.82531586,\n",
       "       252.35054159, 258.87576732, 265.40099305, 271.92621878,\n",
       "       278.45144451, 284.97667023, 291.50189596, 298.02712169,\n",
       "       304.55234742, 311.07757315, 317.60279888, 324.12802461,\n",
       "       330.65325033, 337.17847606, 343.70370179, 350.22892752,\n",
       "       356.75415325, 363.27937898, 369.80460471, 376.32983044,\n",
       "       382.85505616, 389.38028189, 395.90550762, 402.43073335,\n",
       "       408.95595908, 415.48118481, 422.00641054, 428.53163626,\n",
       "       435.05686199, 441.58208772, 448.10731345, 454.63253918,\n",
       "       461.15776491, 467.68299064, 474.20821636, 480.73344209,\n",
       "       487.25866782, 493.78389355, 500.30911928, 506.83434501,\n",
       "       513.35957074, 519.88479646, 526.41002219, 532.93524792,\n",
       "       539.46047365, 545.98569938, 552.51092511, 559.03615084,\n",
       "       565.56137656])"
      ]
     },
     "execution_count": 49,
     "metadata": {},
     "output_type": "execute_result"
    }
   ],
   "source": [
    "bins_perc"
   ]
  },
  {
   "cell_type": "code",
   "execution_count": 54,
   "metadata": {},
   "outputs": [],
   "source": [
    "def give_real_grp(row):\n",
    "    if row['real'] <= 0.8486:\n",
    "        return 'small'\n",
    "    if row['real'] >= 1.4659:\n",
    "        return 'big'\n",
    "    return 'avg'"
   ]
  },
  {
   "cell_type": "code",
   "execution_count": 55,
   "metadata": {},
   "outputs": [],
   "source": [
    "def give_perc_grp(row):\n",
    "    if row['perc'] <= -34.7593:\n",
    "        return 'small'\n",
    "    if row['perc'] >= 50.0685:\n",
    "        return 'big'\n",
    "    return 'avg'"
   ]
  },
  {
   "cell_type": "code",
   "execution_count": 57,
   "metadata": {},
   "outputs": [],
   "source": [
    "res['real_grp'] = res.apply(lambda row: give_real_grp(row), axis=1)\n",
    "res['perc_grp'] = res.apply(lambda row: give_perc_grp(row), axis=1)"
   ]
  },
  {
   "cell_type": "code",
   "execution_count": 58,
   "metadata": {},
   "outputs": [
    {
     "data": {
      "text/html": [
       "<div>\n",
       "<style scoped>\n",
       "    .dataframe tbody tr th:only-of-type {\n",
       "        vertical-align: middle;\n",
       "    }\n",
       "\n",
       "    .dataframe tbody tr th {\n",
       "        vertical-align: top;\n",
       "    }\n",
       "\n",
       "    .dataframe thead th {\n",
       "        text-align: right;\n",
       "    }\n",
       "</style>\n",
       "<table border=\"1\" class=\"dataframe\">\n",
       "  <thead>\n",
       "    <tr style=\"text-align: right;\">\n",
       "      <th></th>\n",
       "      <th>sch</th>\n",
       "      <th>real</th>\n",
       "      <th>perc</th>\n",
       "      <th>type</th>\n",
       "      <th>real_grp</th>\n",
       "      <th>perc_grp</th>\n",
       "    </tr>\n",
       "  </thead>\n",
       "  <tbody>\n",
       "    <tr>\n",
       "      <th>287</th>\n",
       "      <td>ГБОУ Школа № 2087</td>\n",
       "      <td>0.707691</td>\n",
       "      <td>-38.707757</td>\n",
       "      <td>Школы с бассейнами</td>\n",
       "      <td>small</td>\n",
       "      <td>small</td>\n",
       "    </tr>\n",
       "    <tr>\n",
       "      <th>289</th>\n",
       "      <td>ГБОУ Школа № 1195</td>\n",
       "      <td>0.730113</td>\n",
       "      <td>-43.062485</td>\n",
       "      <td>Школы с бассейнами</td>\n",
       "      <td>small</td>\n",
       "      <td>small</td>\n",
       "    </tr>\n",
       "    <tr>\n",
       "      <th>292</th>\n",
       "      <td>ГБОУ Школа № 1238</td>\n",
       "      <td>0.390257</td>\n",
       "      <td>-43.861793</td>\n",
       "      <td>Школы с бассейнами</td>\n",
       "      <td>small</td>\n",
       "      <td>small</td>\n",
       "    </tr>\n",
       "    <tr>\n",
       "      <th>293</th>\n",
       "      <td>ГБОУ Школа № 1905</td>\n",
       "      <td>0.759395</td>\n",
       "      <td>-55.521508</td>\n",
       "      <td>Школы с бассейнами</td>\n",
       "      <td>small</td>\n",
       "      <td>small</td>\n",
       "    </tr>\n",
       "    <tr>\n",
       "      <th>295</th>\n",
       "      <td>ГБОУ Школа № 1539</td>\n",
       "      <td>0.829627</td>\n",
       "      <td>-86.961196</td>\n",
       "      <td>Школы с бассейнами</td>\n",
       "      <td>small</td>\n",
       "      <td>small</td>\n",
       "    </tr>\n",
       "    <tr>\n",
       "      <th>479</th>\n",
       "      <td>ГБОУ Школа № 1520 им. Капцовых</td>\n",
       "      <td>0.299794</td>\n",
       "      <td>-39.260042</td>\n",
       "      <td>Школы без интернатов и бассейнов</td>\n",
       "      <td>small</td>\n",
       "      <td>small</td>\n",
       "    </tr>\n",
       "    <tr>\n",
       "      <th>480</th>\n",
       "      <td>ГБОУ Школа № 2042</td>\n",
       "      <td>0.439582</td>\n",
       "      <td>-40.053869</td>\n",
       "      <td>Школы без интернатов и бассейнов</td>\n",
       "      <td>small</td>\n",
       "      <td>small</td>\n",
       "    </tr>\n",
       "    <tr>\n",
       "      <th>482</th>\n",
       "      <td>ГБОУ Школа № 1553 имени В.И. Вернадского</td>\n",
       "      <td>0.668762</td>\n",
       "      <td>-45.654161</td>\n",
       "      <td>Школы без интернатов и бассейнов</td>\n",
       "      <td>small</td>\n",
       "      <td>small</td>\n",
       "    </tr>\n",
       "    <tr>\n",
       "      <th>484</th>\n",
       "      <td>ГБОУ Школа № 1371 ''Крылатское''</td>\n",
       "      <td>0.604249</td>\n",
       "      <td>-49.962020</td>\n",
       "      <td>Школы без интернатов и бассейнов</td>\n",
       "      <td>small</td>\n",
       "      <td>small</td>\n",
       "    </tr>\n",
       "    <tr>\n",
       "      <th>485</th>\n",
       "      <td>ГБОУ Школа № 222</td>\n",
       "      <td>0.818746</td>\n",
       "      <td>-80.759408</td>\n",
       "      <td>Школы без интернатов и бассейнов</td>\n",
       "      <td>small</td>\n",
       "      <td>small</td>\n",
       "    </tr>\n",
       "    <tr>\n",
       "      <th>486</th>\n",
       "      <td>ГБОУ Школа № 1249</td>\n",
       "      <td>0.181728</td>\n",
       "      <td>-82.594614</td>\n",
       "      <td>Школы без интернатов и бассейнов</td>\n",
       "      <td>small</td>\n",
       "      <td>small</td>\n",
       "    </tr>\n",
       "    <tr>\n",
       "      <th>534</th>\n",
       "      <td>ГБПОУ ЭТК № 22</td>\n",
       "      <td>0.493844</td>\n",
       "      <td>-50.740430</td>\n",
       "      <td>Колледжи без интернатов и бассейнов</td>\n",
       "      <td>small</td>\n",
       "      <td>small</td>\n",
       "    </tr>\n",
       "  </tbody>\n",
       "</table>\n",
       "</div>"
      ],
      "text/plain": [
       "                                          sch      real       perc  \\\n",
       "287                         ГБОУ Школа № 2087  0.707691 -38.707757   \n",
       "289                         ГБОУ Школа № 1195  0.730113 -43.062485   \n",
       "292                         ГБОУ Школа № 1238  0.390257 -43.861793   \n",
       "293                         ГБОУ Школа № 1905  0.759395 -55.521508   \n",
       "295                         ГБОУ Школа № 1539  0.829627 -86.961196   \n",
       "479            ГБОУ Школа № 1520 им. Капцовых  0.299794 -39.260042   \n",
       "480                         ГБОУ Школа № 2042  0.439582 -40.053869   \n",
       "482  ГБОУ Школа № 1553 имени В.И. Вернадского  0.668762 -45.654161   \n",
       "484          ГБОУ Школа № 1371 ''Крылатское''  0.604249 -49.962020   \n",
       "485                          ГБОУ Школа № 222  0.818746 -80.759408   \n",
       "486                         ГБОУ Школа № 1249  0.181728 -82.594614   \n",
       "534                            ГБПОУ ЭТК № 22  0.493844 -50.740430   \n",
       "\n",
       "                                    type real_grp perc_grp  \n",
       "287                   Школы с бассейнами    small    small  \n",
       "289                   Школы с бассейнами    small    small  \n",
       "292                   Школы с бассейнами    small    small  \n",
       "293                   Школы с бассейнами    small    small  \n",
       "295                   Школы с бассейнами    small    small  \n",
       "479     Школы без интернатов и бассейнов    small    small  \n",
       "480     Школы без интернатов и бассейнов    small    small  \n",
       "482     Школы без интернатов и бассейнов    small    small  \n",
       "484     Школы без интернатов и бассейнов    small    small  \n",
       "485     Школы без интернатов и бассейнов    small    small  \n",
       "486     Школы без интернатов и бассейнов    small    small  \n",
       "534  Колледжи без интернатов и бассейнов    small    small  "
      ]
     },
     "execution_count": 58,
     "metadata": {},
     "output_type": "execute_result"
    }
   ],
   "source": [
    "res[(res.real_grp == 'small') & (res.perc_grp == 'small')]"
   ]
  },
  {
   "cell_type": "code",
   "execution_count": 59,
   "metadata": {},
   "outputs": [
    {
     "data": {
      "text/html": [
       "<div>\n",
       "<style scoped>\n",
       "    .dataframe tbody tr th:only-of-type {\n",
       "        vertical-align: middle;\n",
       "    }\n",
       "\n",
       "    .dataframe tbody tr th {\n",
       "        vertical-align: top;\n",
       "    }\n",
       "\n",
       "    .dataframe thead th {\n",
       "        text-align: right;\n",
       "    }\n",
       "</style>\n",
       "<table border=\"1\" class=\"dataframe\">\n",
       "  <thead>\n",
       "    <tr style=\"text-align: right;\">\n",
       "      <th></th>\n",
       "      <th>sch</th>\n",
       "      <th>real</th>\n",
       "      <th>perc</th>\n",
       "      <th>type</th>\n",
       "      <th>real_grp</th>\n",
       "      <th>perc_grp</th>\n",
       "    </tr>\n",
       "  </thead>\n",
       "  <tbody>\n",
       "    <tr>\n",
       "      <th>0</th>\n",
       "      <td>ГБОУ Школа № 1501</td>\n",
       "      <td>2.918081</td>\n",
       "      <td>132.751453</td>\n",
       "      <td>Школы с интернатами</td>\n",
       "      <td>big</td>\n",
       "      <td>big</td>\n",
       "    </tr>\n",
       "    <tr>\n",
       "      <th>1</th>\n",
       "      <td>ГБОУ Школа № 108</td>\n",
       "      <td>4.878277</td>\n",
       "      <td>64.327298</td>\n",
       "      <td>Школы с интернатами</td>\n",
       "      <td>big</td>\n",
       "      <td>big</td>\n",
       "    </tr>\n",
       "    <tr>\n",
       "      <th>9</th>\n",
       "      <td>ГБОУ Школа № 1220</td>\n",
       "      <td>7.715274</td>\n",
       "      <td>565.561377</td>\n",
       "      <td>Школы с бассейнами</td>\n",
       "      <td>big</td>\n",
       "      <td>big</td>\n",
       "    </tr>\n",
       "    <tr>\n",
       "      <th>10</th>\n",
       "      <td>ГБОУ Школа № 629</td>\n",
       "      <td>2.821034</td>\n",
       "      <td>123.853209</td>\n",
       "      <td>Школы с бассейнами</td>\n",
       "      <td>big</td>\n",
       "      <td>big</td>\n",
       "    </tr>\n",
       "    <tr>\n",
       "      <th>11</th>\n",
       "      <td>ГБОУ Школа № 1811</td>\n",
       "      <td>1.775820</td>\n",
       "      <td>96.658887</td>\n",
       "      <td>Школы с бассейнами</td>\n",
       "      <td>big</td>\n",
       "      <td>big</td>\n",
       "    </tr>\n",
       "    <tr>\n",
       "      <th>12</th>\n",
       "      <td>ГБОУ Школа № 2005</td>\n",
       "      <td>2.297164</td>\n",
       "      <td>95.137498</td>\n",
       "      <td>Школы с бассейнами</td>\n",
       "      <td>big</td>\n",
       "      <td>big</td>\n",
       "    </tr>\n",
       "    <tr>\n",
       "      <th>14</th>\n",
       "      <td>ГБОУ Школа № 851</td>\n",
       "      <td>2.167500</td>\n",
       "      <td>55.255592</td>\n",
       "      <td>Школы с бассейнами</td>\n",
       "      <td>big</td>\n",
       "      <td>big</td>\n",
       "    </tr>\n",
       "    <tr>\n",
       "      <th>296</th>\n",
       "      <td>ГБОУ Школа № 727</td>\n",
       "      <td>1.893258</td>\n",
       "      <td>2921.996774</td>\n",
       "      <td>Школы без интернатов и бассейнов</td>\n",
       "      <td>big</td>\n",
       "      <td>big</td>\n",
       "    </tr>\n",
       "    <tr>\n",
       "      <th>297</th>\n",
       "      <td>ГБОУ Школа № 1541</td>\n",
       "      <td>5.425375</td>\n",
       "      <td>460.839930</td>\n",
       "      <td>Школы без интернатов и бассейнов</td>\n",
       "      <td>big</td>\n",
       "      <td>big</td>\n",
       "    </tr>\n",
       "    <tr>\n",
       "      <th>301</th>\n",
       "      <td>ГБОУ Школа № 1065</td>\n",
       "      <td>2.590106</td>\n",
       "      <td>86.575206</td>\n",
       "      <td>Школы без интернатов и бассейнов</td>\n",
       "      <td>big</td>\n",
       "      <td>big</td>\n",
       "    </tr>\n",
       "    <tr>\n",
       "      <th>307</th>\n",
       "      <td>ГБОУ Кадетская школа № 1784</td>\n",
       "      <td>2.036556</td>\n",
       "      <td>55.955820</td>\n",
       "      <td>Школы без интернатов и бассейнов</td>\n",
       "      <td>big</td>\n",
       "      <td>big</td>\n",
       "    </tr>\n",
       "    <tr>\n",
       "      <th>308</th>\n",
       "      <td>ГБОУ Школа № 705</td>\n",
       "      <td>1.910959</td>\n",
       "      <td>54.212329</td>\n",
       "      <td>Школы без интернатов и бассейнов</td>\n",
       "      <td>big</td>\n",
       "      <td>big</td>\n",
       "    </tr>\n",
       "    <tr>\n",
       "      <th>309</th>\n",
       "      <td>ГБОУ Школа № 1125</td>\n",
       "      <td>2.049777</td>\n",
       "      <td>50.666485</td>\n",
       "      <td>Школы без интернатов и бассейнов</td>\n",
       "      <td>big</td>\n",
       "      <td>big</td>\n",
       "    </tr>\n",
       "    <tr>\n",
       "      <th>497</th>\n",
       "      <td>ГБПОУ МИПК им. И. Федорова</td>\n",
       "      <td>2.553123</td>\n",
       "      <td>119.730908</td>\n",
       "      <td>Колледжи без интернатов и бассейнов</td>\n",
       "      <td>big</td>\n",
       "      <td>big</td>\n",
       "    </tr>\n",
       "    <tr>\n",
       "      <th>561</th>\n",
       "      <td>ГБДОУ Детский сад № 766</td>\n",
       "      <td>2.025221</td>\n",
       "      <td>111.675122</td>\n",
       "      <td>ДОУ</td>\n",
       "      <td>big</td>\n",
       "      <td>big</td>\n",
       "    </tr>\n",
       "    <tr>\n",
       "      <th>562</th>\n",
       "      <td>ГБДОУ Детский сад № 754 ''Солнышко''</td>\n",
       "      <td>4.345133</td>\n",
       "      <td>67.120490</td>\n",
       "      <td>ДОУ</td>\n",
       "      <td>big</td>\n",
       "      <td>big</td>\n",
       "    </tr>\n",
       "  </tbody>\n",
       "</table>\n",
       "</div>"
      ],
      "text/plain": [
       "                                      sch      real         perc  \\\n",
       "0                       ГБОУ Школа № 1501  2.918081   132.751453   \n",
       "1                        ГБОУ Школа № 108  4.878277    64.327298   \n",
       "9                       ГБОУ Школа № 1220  7.715274   565.561377   \n",
       "10                       ГБОУ Школа № 629  2.821034   123.853209   \n",
       "11                      ГБОУ Школа № 1811  1.775820    96.658887   \n",
       "12                      ГБОУ Школа № 2005  2.297164    95.137498   \n",
       "14                       ГБОУ Школа № 851  2.167500    55.255592   \n",
       "296                      ГБОУ Школа № 727  1.893258  2921.996774   \n",
       "297                     ГБОУ Школа № 1541  5.425375   460.839930   \n",
       "301                     ГБОУ Школа № 1065  2.590106    86.575206   \n",
       "307           ГБОУ Кадетская школа № 1784  2.036556    55.955820   \n",
       "308                      ГБОУ Школа № 705  1.910959    54.212329   \n",
       "309                     ГБОУ Школа № 1125  2.049777    50.666485   \n",
       "497            ГБПОУ МИПК им. И. Федорова  2.553123   119.730908   \n",
       "561               ГБДОУ Детский сад № 766  2.025221   111.675122   \n",
       "562  ГБДОУ Детский сад № 754 ''Солнышко''  4.345133    67.120490   \n",
       "\n",
       "                                    type real_grp perc_grp  \n",
       "0                    Школы с интернатами      big      big  \n",
       "1                    Школы с интернатами      big      big  \n",
       "9                     Школы с бассейнами      big      big  \n",
       "10                    Школы с бассейнами      big      big  \n",
       "11                    Школы с бассейнами      big      big  \n",
       "12                    Школы с бассейнами      big      big  \n",
       "14                    Школы с бассейнами      big      big  \n",
       "296     Школы без интернатов и бассейнов      big      big  \n",
       "297     Школы без интернатов и бассейнов      big      big  \n",
       "301     Школы без интернатов и бассейнов      big      big  \n",
       "307     Школы без интернатов и бассейнов      big      big  \n",
       "308     Школы без интернатов и бассейнов      big      big  \n",
       "309     Школы без интернатов и бассейнов      big      big  \n",
       "497  Колледжи без интернатов и бассейнов      big      big  \n",
       "561                                  ДОУ      big      big  \n",
       "562                                  ДОУ      big      big  "
      ]
     },
     "execution_count": 59,
     "metadata": {},
     "output_type": "execute_result"
    }
   ],
   "source": [
    "res[(res.real_grp == 'big') & (res.perc_grp == 'big')]"
   ]
  },
  {
   "cell_type": "code",
   "execution_count": 60,
   "metadata": {},
   "outputs": [
    {
     "data": {
      "text/plain": [
       "'C:/Users/PetukhovMD/Desktop/ХВС'"
      ]
     },
     "execution_count": 60,
     "metadata": {},
     "output_type": "execute_result"
    }
   ],
   "source": [
    "'/'.join(path_to_file.split('/')[:-1])"
   ]
  },
  {
   "cell_type": "code",
   "execution_count": 61,
   "metadata": {},
   "outputs": [],
   "source": [
    "print_df(res, '/'.join(path_to_file.split('/')[:-1]) + '/для сводов')"
   ]
  }
 ],
 "metadata": {
  "interpreter": {
   "hash": "074f563457da44d7ed57bdc37c43fd9dc993318bca70a60ea87af59e9047f938"
  },
  "kernelspec": {
   "display_name": "Python 3.10.2 64-bit",
   "language": "python",
   "name": "python3"
  },
  "language_info": {
   "codemirror_mode": {
    "name": "ipython",
    "version": 3
   },
   "file_extension": ".py",
   "mimetype": "text/x-python",
   "name": "python",
   "nbconvert_exporter": "python",
   "pygments_lexer": "ipython3",
   "version": "3.10.2"
  },
  "orig_nbformat": 4
 },
 "nbformat": 4,
 "nbformat_minor": 2
}
