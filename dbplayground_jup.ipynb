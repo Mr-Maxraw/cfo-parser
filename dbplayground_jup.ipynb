{
 "cells": [
  {
   "cell_type": "code",
   "execution_count": 1,
   "metadata": {},
   "outputs": [],
   "source": [
    "import dbcommands.inserts as ins\n",
    "import dbcommands.selects as sel\n",
    "import pandas as pd\n",
    "import duckdb"
   ]
  },
  {
   "cell_type": "code",
   "execution_count": 5,
   "metadata": {},
   "outputs": [],
   "source": [
    "con = duckdb.connect(database='test.duckdb')"
   ]
  },
  {
   "cell_type": "code",
   "execution_count": 4,
   "metadata": {},
   "outputs": [],
   "source": [
    "con.close()"
   ]
  },
  {
   "cell_type": "code",
   "execution_count": 7,
   "metadata": {},
   "outputs": [
    {
     "data": {
      "text/html": [
       "<div>\n",
       "<style scoped>\n",
       "    .dataframe tbody tr th:only-of-type {\n",
       "        vertical-align: middle;\n",
       "    }\n",
       "\n",
       "    .dataframe tbody tr th {\n",
       "        vertical-align: top;\n",
       "    }\n",
       "\n",
       "    .dataframe thead th {\n",
       "        text-align: right;\n",
       "    }\n",
       "</style>\n",
       "<table border=\"1\" class=\"dataframe\">\n",
       "  <thead>\n",
       "    <tr style=\"text-align: right;\">\n",
       "      <th></th>\n",
       "      <th>inn</th>\n",
       "      <th>type</th>\n",
       "      <th>name</th>\n",
       "      <th>snils</th>\n",
       "      <th>fio</th>\n",
       "      <th>sum</th>\n",
       "      <th>part</th>\n",
       "      <th>type_2</th>\n",
       "      <th>status</th>\n",
       "      <th>title</th>\n",
       "      <th>day</th>\n",
       "    </tr>\n",
       "  </thead>\n",
       "  <tbody>\n",
       "    <tr>\n",
       "      <th>0</th>\n",
       "      <td>213123</td>\n",
       "      <td>normal school</td>\n",
       "      <td>School #1</td>\n",
       "      <td>123123</td>\n",
       "      <td>Sampe Samplovich</td>\n",
       "      <td>123</td>\n",
       "      <td>1.0</td>\n",
       "      <td>Osn</td>\n",
       "      <td>Rab</td>\n",
       "      <td>job</td>\n",
       "      <td>True</td>\n",
       "    </tr>\n",
       "  </tbody>\n",
       "</table>\n",
       "</div>"
      ],
      "text/plain": [
       "      inn           type       name   snils               fio  sum  part  \\\n",
       "0  213123  normal school  School #1  123123  Sampe Samplovich  123   1.0   \n",
       "\n",
       "  type_2 status title   day  \n",
       "0    Osn    Rab   job  True  "
      ]
     },
     "execution_count": 7,
     "metadata": {},
     "output_type": "execute_result"
    }
   ],
   "source": [
    "sel.monthly_report(con, 1, 1999)"
   ]
  },
  {
   "cell_type": "code",
   "execution_count": 12,
   "metadata": {},
   "outputs": [
    {
     "data": {
      "text/plain": [
       "<duckdb.DuckDBPyConnection at 0x222876bdeb0>"
      ]
     },
     "execution_count": 12,
     "metadata": {},
     "output_type": "execute_result"
    }
   ],
   "source": [
    "con.execute('delete from job where true')"
   ]
  },
  {
   "cell_type": "code",
   "execution_count": 6,
   "metadata": {},
   "outputs": [],
   "source": [
    "ins.to_job(con, ['123123', 'job', '1999-01-01', 123, 213123, 'Osn', 'Rab', 1.00, True])"
   ]
  }
 ],
 "metadata": {
  "interpreter": {
   "hash": "9086a9f3d68dfde60c8c4c50cddae0f31bfdd88b219c176f349b145997fbdd59"
  },
  "kernelspec": {
   "display_name": "Python 3.10.2 64-bit",
   "language": "python",
   "name": "python3"
  },
  "language_info": {
   "codemirror_mode": {
    "name": "ipython",
    "version": 3
   },
   "file_extension": ".py",
   "mimetype": "text/x-python",
   "name": "python",
   "nbconvert_exporter": "python",
   "pygments_lexer": "ipython3",
   "version": "3.10.2"
  },
  "orig_nbformat": 4
 },
 "nbformat": 4,
 "nbformat_minor": 2
}
