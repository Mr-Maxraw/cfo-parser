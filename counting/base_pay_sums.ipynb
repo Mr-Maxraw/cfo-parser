{
 "cells": [
  {
   "cell_type": "code",
   "execution_count": 1,
   "metadata": {},
   "outputs": [],
   "source": [
    "import pandas as pd\n",
    "import numpy as np\n",
    "from openpyxl import Workbook\n",
    "from openpyxl.utils.dataframe import dataframe_to_rows as df_to_row"
   ]
  },
  {
   "cell_type": "code",
   "execution_count": 6,
   "metadata": {},
   "outputs": [],
   "source": [
    "from szp_funcs import get_fio, print_df, load_groups, gku_inn, path_to_docs, to_double, path_to_data"
   ]
  },
  {
   "cell_type": "code",
   "execution_count": 3,
   "metadata": {},
   "outputs": [],
   "source": [
    "months = ['mar']"
   ]
  },
  {
   "cell_type": "code",
   "execution_count": 8,
   "metadata": {},
   "outputs": [],
   "source": [
    "relevant_types = ['Оклад (должностной оклад)',\n",
    "'Тарифная ставка',\n",
    "'Оклад(Должностной оклад)пл.ул.',\n",
    "'Оклад педагога по тарификации',\n",
    "'Оклад педагога по тарификации ДО',\n",
    "'Должностной оклад по тарификации',\n",
    "'Должностной оклад',\n",
    "'Оклад при индивидуальном обучении',\n",
    "'Оплата по окладу'\n",
    "]"
   ]
  },
  {
   "cell_type": "code",
   "execution_count": 7,
   "metadata": {},
   "outputs": [],
   "source": [
    "inns = [7734241813,\n",
    "7734132109,\n",
    "7733126624,\n",
    "7725144330,\n",
    "7723103106,\n",
    "7719894832,\n",
    "7718261587,\n",
    "7718259267,\n",
    "7715789629,\n",
    "7712013764,\n",
    "7704853583\n",
    "]"
   ]
  },
  {
   "cell_type": "code",
   "execution_count": 17,
   "metadata": {},
   "outputs": [],
   "source": [
    "def create_res(file):\n",
    "    df = pd.read_excel(path_to_data + file + '.xlsx')\n",
    "    sample = df[(df.inn.isin(inns)) & (df.pay_type.isin(relevant_types))]\n",
    "    sums = sample.groupby(['inn', 'snils']).sum().reset_index()\n",
    "    sums = pd.merge(sums, sample[sample.type == 'Основное место работы'], how='left', on=['inn', 'snils'])\n",
    "    return sums"
   ]
  },
  {
   "cell_type": "code",
   "execution_count": 18,
   "metadata": {},
   "outputs": [],
   "source": [
    "res = create_res('pay_type_mar')"
   ]
  },
  {
   "cell_type": "code",
   "execution_count": 20,
   "metadata": {},
   "outputs": [],
   "source": [
    "res = res.drop(columns=['type', 'pay_type', 'sum_y']).rename(columns={'sum_x':'sum'})"
   ]
  },
  {
   "cell_type": "code",
   "execution_count": 21,
   "metadata": {},
   "outputs": [
    {
     "data": {
      "text/html": [
       "<div>\n",
       "<style scoped>\n",
       "    .dataframe tbody tr th:only-of-type {\n",
       "        vertical-align: middle;\n",
       "    }\n",
       "\n",
       "    .dataframe tbody tr th {\n",
       "        vertical-align: top;\n",
       "    }\n",
       "\n",
       "    .dataframe thead th {\n",
       "        text-align: right;\n",
       "    }\n",
       "</style>\n",
       "<table border=\"1\" class=\"dataframe\">\n",
       "  <thead>\n",
       "    <tr style=\"text-align: right;\">\n",
       "      <th></th>\n",
       "      <th>inn</th>\n",
       "      <th>snils</th>\n",
       "      <th>sum</th>\n",
       "    </tr>\n",
       "  </thead>\n",
       "  <tbody>\n",
       "    <tr>\n",
       "      <th>4434</th>\n",
       "      <td>7734241813</td>\n",
       "      <td>019-678-392 01</td>\n",
       "      <td>50400.0</td>\n",
       "    </tr>\n",
       "  </tbody>\n",
       "</table>\n",
       "</div>"
      ],
      "text/plain": [
       "             inn           snils      sum\n",
       "4434  7734241813  019-678-392 01  50400.0"
      ]
     },
     "execution_count": 21,
     "metadata": {},
     "output_type": "execute_result"
    }
   ],
   "source": [
    "res[res.snils == '019-678-392 01']"
   ]
  },
  {
   "cell_type": "code",
   "execution_count": 22,
   "metadata": {},
   "outputs": [],
   "source": [
    "print_df(res, 'Базовая часть 11 школ')"
   ]
  }
 ],
 "metadata": {
  "interpreter": {
   "hash": "9086a9f3d68dfde60c8c4c50cddae0f31bfdd88b219c176f349b145997fbdd59"
  },
  "kernelspec": {
   "display_name": "Python 3.10.2 64-bit",
   "language": "python",
   "name": "python3"
  },
  "language_info": {
   "codemirror_mode": {
    "name": "ipython",
    "version": 3
   },
   "file_extension": ".py",
   "mimetype": "text/x-python",
   "name": "python",
   "nbconvert_exporter": "python",
   "pygments_lexer": "ipython3",
   "version": "3.10.2"
  },
  "orig_nbformat": 4
 },
 "nbformat": 4,
 "nbformat_minor": 2
}
