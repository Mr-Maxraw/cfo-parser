{
 "cells": [
  {
   "cell_type": "code",
   "execution_count": 57,
   "metadata": {},
   "outputs": [],
   "source": [
    "import pandas as pd\n",
    "import numpy as np\n",
    "from openpyxl import Workbook\n",
    "from openpyxl.utils.dataframe import dataframe_to_rows as df_to_row\n",
    "from fuzzywuzzy import process, fuzz"
   ]
  },
  {
   "cell_type": "code",
   "execution_count": 48,
   "metadata": {},
   "outputs": [],
   "source": [
    "from szp_funcs import print_df, get_otv, load_month, path_to_docs"
   ]
  },
  {
   "cell_type": "code",
   "execution_count": 43,
   "metadata": {},
   "outputs": [],
   "source": [
    "month = 'may'\n",
    "status = ['Увольнение']"
   ]
  },
  {
   "cell_type": "code",
   "execution_count": 20,
   "metadata": {},
   "outputs": [],
   "source": [
    "res = load_month(month)\n",
    "otv = get_otv()"
   ]
  },
  {
   "cell_type": "code",
   "execution_count": 38,
   "metadata": {},
   "outputs": [
    {
     "data": {
      "text/html": [
       "<div>\n",
       "<style scoped>\n",
       "    .dataframe tbody tr th:only-of-type {\n",
       "        vertical-align: middle;\n",
       "    }\n",
       "\n",
       "    .dataframe tbody tr th {\n",
       "        vertical-align: top;\n",
       "    }\n",
       "\n",
       "    .dataframe thead th {\n",
       "        text-align: right;\n",
       "    }\n",
       "</style>\n",
       "<table border=\"1\" class=\"dataframe\">\n",
       "  <thead>\n",
       "    <tr style=\"text-align: right;\">\n",
       "      <th></th>\n",
       "      <th>inn</th>\n",
       "      <th>snils</th>\n",
       "      <th>sum_may</th>\n",
       "      <th>job_may</th>\n",
       "      <th>day_may</th>\n",
       "      <th>type_may</th>\n",
       "      <th>stv_may</th>\n",
       "      <th>status_may</th>\n",
       "      <th>status_pref_may</th>\n",
       "      <th>wday_may</th>\n",
       "      <th>nday_may</th>\n",
       "    </tr>\n",
       "  </thead>\n",
       "  <tbody>\n",
       "    <tr>\n",
       "      <th>0</th>\n",
       "      <td>5003021368</td>\n",
       "      <td>001-171-362 75</td>\n",
       "      <td>58500.00</td>\n",
       "      <td>Помощник воспитателя</td>\n",
       "      <td>1.0</td>\n",
       "      <td>Основное место работы</td>\n",
       "      <td>1.0</td>\n",
       "      <td>Работа</td>\n",
       "      <td>Работа</td>\n",
       "      <td>18.0</td>\n",
       "      <td>18.0</td>\n",
       "    </tr>\n",
       "    <tr>\n",
       "      <th>1</th>\n",
       "      <td>5003021368</td>\n",
       "      <td>001-191-281 85</td>\n",
       "      <td>112184.88</td>\n",
       "      <td>Учитель</td>\n",
       "      <td>1.0</td>\n",
       "      <td>Основное место работы</td>\n",
       "      <td>1.0</td>\n",
       "      <td>Работа</td>\n",
       "      <td>Работа</td>\n",
       "      <td>18.0</td>\n",
       "      <td>18.0</td>\n",
       "    </tr>\n",
       "    <tr>\n",
       "      <th>2</th>\n",
       "      <td>5003021368</td>\n",
       "      <td>001-244-107 65</td>\n",
       "      <td>118681.78</td>\n",
       "      <td>Учитель</td>\n",
       "      <td>0.0</td>\n",
       "      <td>Основное место работы</td>\n",
       "      <td>1.0</td>\n",
       "      <td>Работа</td>\n",
       "      <td>Работа</td>\n",
       "      <td>15.0</td>\n",
       "      <td>18.0</td>\n",
       "    </tr>\n",
       "    <tr>\n",
       "      <th>3</th>\n",
       "      <td>5003021368</td>\n",
       "      <td>001-263-234 77</td>\n",
       "      <td>79619.03</td>\n",
       "      <td>Воспитатель</td>\n",
       "      <td>0.0</td>\n",
       "      <td>Основное место работы</td>\n",
       "      <td>1.0</td>\n",
       "      <td>Отпуск основной</td>\n",
       "      <td>Работа</td>\n",
       "      <td>16.0</td>\n",
       "      <td>18.0</td>\n",
       "    </tr>\n",
       "    <tr>\n",
       "      <th>4</th>\n",
       "      <td>5003021368</td>\n",
       "      <td>001-322-594 80</td>\n",
       "      <td>37907.50</td>\n",
       "      <td>Специалист</td>\n",
       "      <td>0.0</td>\n",
       "      <td>Основное место работы</td>\n",
       "      <td>1.0</td>\n",
       "      <td>Работа</td>\n",
       "      <td>Работа</td>\n",
       "      <td>9.0</td>\n",
       "      <td>18.0</td>\n",
       "    </tr>\n",
       "    <tr>\n",
       "      <th>...</th>\n",
       "      <td>...</td>\n",
       "      <td>...</td>\n",
       "      <td>...</td>\n",
       "      <td>...</td>\n",
       "      <td>...</td>\n",
       "      <td>...</td>\n",
       "      <td>...</td>\n",
       "      <td>...</td>\n",
       "      <td>...</td>\n",
       "      <td>...</td>\n",
       "      <td>...</td>\n",
       "    </tr>\n",
       "    <tr>\n",
       "      <th>188387</th>\n",
       "      <td>9718071371</td>\n",
       "      <td>198-317-420 02</td>\n",
       "      <td>110851.00</td>\n",
       "      <td>Бухгалтер</td>\n",
       "      <td>1.0</td>\n",
       "      <td>Основное место работы</td>\n",
       "      <td>1.0</td>\n",
       "      <td>Работа</td>\n",
       "      <td>Работа</td>\n",
       "      <td>18.0</td>\n",
       "      <td>18.0</td>\n",
       "    </tr>\n",
       "    <tr>\n",
       "      <th>188388</th>\n",
       "      <td>9718071371</td>\n",
       "      <td>199-418-719 35</td>\n",
       "      <td>153851.00</td>\n",
       "      <td>Бухгалтер</td>\n",
       "      <td>1.0</td>\n",
       "      <td>Основное место работы</td>\n",
       "      <td>1.0</td>\n",
       "      <td>Работа</td>\n",
       "      <td>Работа</td>\n",
       "      <td>18.0</td>\n",
       "      <td>18.0</td>\n",
       "    </tr>\n",
       "    <tr>\n",
       "      <th>188389</th>\n",
       "      <td>9718071371</td>\n",
       "      <td>205-412-630 13</td>\n",
       "      <td>209199.25</td>\n",
       "      <td>Начальник группы</td>\n",
       "      <td>0.0</td>\n",
       "      <td>Основное место работы</td>\n",
       "      <td>1.0</td>\n",
       "      <td>Работа</td>\n",
       "      <td>Работа</td>\n",
       "      <td>13.0</td>\n",
       "      <td>18.0</td>\n",
       "    </tr>\n",
       "    <tr>\n",
       "      <th>188390</th>\n",
       "      <td>9718071371</td>\n",
       "      <td>206-135-584 35</td>\n",
       "      <td>27528.33</td>\n",
       "      <td>Бухгалтер</td>\n",
       "      <td>0.0</td>\n",
       "      <td>Основное место работы</td>\n",
       "      <td>1.0</td>\n",
       "      <td>NaN</td>\n",
       "      <td>NaN</td>\n",
       "      <td>6.0</td>\n",
       "      <td>11.0</td>\n",
       "    </tr>\n",
       "    <tr>\n",
       "      <th>188391</th>\n",
       "      <td>9718071371</td>\n",
       "      <td>207-424-489 53</td>\n",
       "      <td>62789.11</td>\n",
       "      <td>Бухгалтер</td>\n",
       "      <td>0.0</td>\n",
       "      <td>Основное место работы</td>\n",
       "      <td>1.0</td>\n",
       "      <td>Работа</td>\n",
       "      <td>Работа</td>\n",
       "      <td>8.0</td>\n",
       "      <td>18.0</td>\n",
       "    </tr>\n",
       "  </tbody>\n",
       "</table>\n",
       "<p>164754 rows × 11 columns</p>\n",
       "</div>"
      ],
      "text/plain": [
       "               inn           snils    sum_may               job_may  day_may  \\\n",
       "0       5003021368  001-171-362 75   58500.00  Помощник воспитателя      1.0   \n",
       "1       5003021368  001-191-281 85  112184.88               Учитель      1.0   \n",
       "2       5003021368  001-244-107 65  118681.78               Учитель      0.0   \n",
       "3       5003021368  001-263-234 77   79619.03           Воспитатель      0.0   \n",
       "4       5003021368  001-322-594 80   37907.50            Специалист      0.0   \n",
       "...            ...             ...        ...                   ...      ...   \n",
       "188387  9718071371  198-317-420 02  110851.00             Бухгалтер      1.0   \n",
       "188388  9718071371  199-418-719 35  153851.00             Бухгалтер      1.0   \n",
       "188389  9718071371  205-412-630 13  209199.25      Начальник группы      0.0   \n",
       "188390  9718071371  206-135-584 35   27528.33             Бухгалтер      0.0   \n",
       "188391  9718071371  207-424-489 53   62789.11             Бухгалтер      0.0   \n",
       "\n",
       "                     type_may  stv_may       status_may status_pref_may  \\\n",
       "0       Основное место работы      1.0           Работа          Работа   \n",
       "1       Основное место работы      1.0           Работа          Работа   \n",
       "2       Основное место работы      1.0           Работа          Работа   \n",
       "3       Основное место работы      1.0  Отпуск основной          Работа   \n",
       "4       Основное место работы      1.0           Работа          Работа   \n",
       "...                       ...      ...              ...             ...   \n",
       "188387  Основное место работы      1.0           Работа          Работа   \n",
       "188388  Основное место работы      1.0           Работа          Работа   \n",
       "188389  Основное место работы      1.0           Работа          Работа   \n",
       "188390  Основное место работы      1.0              NaN             NaN   \n",
       "188391  Основное место работы      1.0           Работа          Работа   \n",
       "\n",
       "        wday_may  nday_may  \n",
       "0           18.0      18.0  \n",
       "1           18.0      18.0  \n",
       "2           15.0      18.0  \n",
       "3           16.0      18.0  \n",
       "4            9.0      18.0  \n",
       "...          ...       ...  \n",
       "188387      18.0      18.0  \n",
       "188388      18.0      18.0  \n",
       "188389      13.0      18.0  \n",
       "188390       6.0      11.0  \n",
       "188391       8.0      18.0  \n",
       "\n",
       "[164754 rows x 11 columns]"
      ]
     },
     "execution_count": 38,
     "metadata": {},
     "output_type": "execute_result"
    }
   ],
   "source": [
    "res"
   ]
  },
  {
   "cell_type": "code",
   "execution_count": 44,
   "metadata": {},
   "outputs": [],
   "source": [
    "ans = res[(res.status_may.isin(status) == False) & (res.type_may == 'Основное место работы') & (res.job_may == 'Учитель')][['inn', 'snils']].groupby('inn').nunique().reset_index()"
   ]
  },
  {
   "cell_type": "code",
   "execution_count": 46,
   "metadata": {},
   "outputs": [
    {
     "data": {
      "text/plain": [
       "56583"
      ]
     },
     "execution_count": 46,
     "metadata": {},
     "output_type": "execute_result"
    }
   ],
   "source": [
    "ans['snils'].sum()"
   ]
  },
  {
   "cell_type": "code",
   "execution_count": 36,
   "metadata": {},
   "outputs": [
    {
     "data": {
      "text/html": [
       "<div>\n",
       "<style scoped>\n",
       "    .dataframe tbody tr th:only-of-type {\n",
       "        vertical-align: middle;\n",
       "    }\n",
       "\n",
       "    .dataframe tbody tr th {\n",
       "        vertical-align: top;\n",
       "    }\n",
       "\n",
       "    .dataframe thead th {\n",
       "        text-align: right;\n",
       "    }\n",
       "</style>\n",
       "<table border=\"1\" class=\"dataframe\">\n",
       "  <thead>\n",
       "    <tr style=\"text-align: right;\">\n",
       "      <th></th>\n",
       "      <th>inn</th>\n",
       "      <th>okr</th>\n",
       "      <th>otv</th>\n",
       "      <th>sch_name</th>\n",
       "      <th>ekis</th>\n",
       "    </tr>\n",
       "  </thead>\n",
       "  <tbody>\n",
       "    <tr>\n",
       "      <th>0</th>\n",
       "      <td>7743085543</td>\n",
       "      <td>САО</td>\n",
       "      <td>Рагимова Виктория Олеговна</td>\n",
       "      <td>ГБОУ Спецшкола № 1</td>\n",
       "      <td>13964.0</td>\n",
       "    </tr>\n",
       "    <tr>\n",
       "      <th>1</th>\n",
       "      <td>7713229928</td>\n",
       "      <td>САО</td>\n",
       "      <td>Горбанева Светлана Васильевна</td>\n",
       "      <td>ГБОУ ПМКК</td>\n",
       "      <td>13136.0</td>\n",
       "    </tr>\n",
       "    <tr>\n",
       "      <th>2</th>\n",
       "      <td>7704271031</td>\n",
       "      <td>ЦАО</td>\n",
       "      <td>Майильян Елена Александровна</td>\n",
       "      <td>ГБПОУ ПТ № 2</td>\n",
       "      <td>13277.0</td>\n",
       "    </tr>\n",
       "    <tr>\n",
       "      <th>3</th>\n",
       "      <td>7714093099</td>\n",
       "      <td>САО</td>\n",
       "      <td>Горбанева Светлана Васильевна</td>\n",
       "      <td>ГКОУ СКОШИ № 2</td>\n",
       "      <td>13139.0</td>\n",
       "    </tr>\n",
       "    <tr>\n",
       "      <th>4</th>\n",
       "      <td>7709438340</td>\n",
       "      <td>ЦАО</td>\n",
       "      <td>Майильян Елена Александровна</td>\n",
       "      <td>ГБПОУ КСУ № 3</td>\n",
       "      <td>11681.0</td>\n",
       "    </tr>\n",
       "    <tr>\n",
       "      <th>...</th>\n",
       "      <td>...</td>\n",
       "      <td>...</td>\n",
       "      <td>...</td>\n",
       "      <td>...</td>\n",
       "      <td>...</td>\n",
       "    </tr>\n",
       "    <tr>\n",
       "      <th>935</th>\n",
       "      <td>7728113806</td>\n",
       "      <td>NaN</td>\n",
       "      <td>NaN</td>\n",
       "      <td>ИКИ РАН</td>\n",
       "      <td>NaN</td>\n",
       "    </tr>\n",
       "    <tr>\n",
       "      <th>936</th>\n",
       "      <td>7728013512</td>\n",
       "      <td>NaN</td>\n",
       "      <td>NaN</td>\n",
       "      <td>ИПУ РАН</td>\n",
       "      <td>NaN</td>\n",
       "    </tr>\n",
       "    <tr>\n",
       "      <th>937</th>\n",
       "      <td>7717067481</td>\n",
       "      <td>NaN</td>\n",
       "      <td>NaN</td>\n",
       "      <td>ГБОУ ШОР № 1</td>\n",
       "      <td>NaN</td>\n",
       "    </tr>\n",
       "    <tr>\n",
       "      <th>938</th>\n",
       "      <td>7729133548</td>\n",
       "      <td>NaN</td>\n",
       "      <td>NaN</td>\n",
       "      <td>СУНЦ МГУ</td>\n",
       "      <td>NaN</td>\n",
       "    </tr>\n",
       "    <tr>\n",
       "      <th>939</th>\n",
       "      <td>7734121555</td>\n",
       "      <td>NaN</td>\n",
       "      <td>NaN</td>\n",
       "      <td>ФГАУ «УИСП» Минобороны России</td>\n",
       "      <td>NaN</td>\n",
       "    </tr>\n",
       "  </tbody>\n",
       "</table>\n",
       "<p>940 rows × 5 columns</p>\n",
       "</div>"
      ],
      "text/plain": [
       "            inn  okr                            otv  \\\n",
       "0    7743085543  САО     Рагимова Виктория Олеговна   \n",
       "1    7713229928  САО  Горбанева Светлана Васильевна   \n",
       "2    7704271031  ЦАО   Майильян Елена Александровна   \n",
       "3    7714093099  САО  Горбанева Светлана Васильевна   \n",
       "4    7709438340  ЦАО   Майильян Елена Александровна   \n",
       "..          ...  ...                            ...   \n",
       "935  7728113806  NaN                            NaN   \n",
       "936  7728013512  NaN                            NaN   \n",
       "937  7717067481  NaN                            NaN   \n",
       "938  7729133548  NaN                            NaN   \n",
       "939  7734121555  NaN                            NaN   \n",
       "\n",
       "                          sch_name     ekis  \n",
       "0               ГБОУ Спецшкола № 1  13964.0  \n",
       "1                        ГБОУ ПМКК  13136.0  \n",
       "2                     ГБПОУ ПТ № 2  13277.0  \n",
       "3                   ГКОУ СКОШИ № 2  13139.0  \n",
       "4                    ГБПОУ КСУ № 3  11681.0  \n",
       "..                             ...      ...  \n",
       "935                        ИКИ РАН      NaN  \n",
       "936                        ИПУ РАН      NaN  \n",
       "937                   ГБОУ ШОР № 1      NaN  \n",
       "938                       СУНЦ МГУ      NaN  \n",
       "939  ФГАУ «УИСП» Минобороны России      NaN  \n",
       "\n",
       "[940 rows x 5 columns]"
      ]
     },
     "execution_count": 36,
     "metadata": {},
     "output_type": "execute_result"
    }
   ],
   "source": [
    "otv"
   ]
  },
  {
   "cell_type": "code",
   "execution_count": 49,
   "metadata": {},
   "outputs": [],
   "source": [
    "kadr = pd.read_excel(path_to_docs + 'ppl_with_status.xlsx')"
   ]
  },
  {
   "cell_type": "code",
   "execution_count": 64,
   "metadata": {},
   "outputs": [],
   "source": [
    "def matcher(row, look_up, name):\n",
    "    if pd.isna(row[name]):\n",
    "        return np.nan\n",
    "    ans = process.extractOne(row[name], look_up, scorer=fuzz.WRatio, score_cutoff=60)\n",
    "    if ans:\n",
    "        return ans[0]\n",
    "    return ans"
   ]
  },
  {
   "cell_type": "code",
   "execution_count": 61,
   "metadata": {},
   "outputs": [],
   "source": [
    "uniq_jobs = pd.DataFrame(kadr['job'].unique())\n",
    "uniq_jobs.columns = ['job']"
   ]
  },
  {
   "cell_type": "code",
   "execution_count": 62,
   "metadata": {},
   "outputs": [],
   "source": [
    "jobs = pd.read_excel(path_to_docs + 'input.xlsx', sheet_name='должности')\n",
    "jobs.columns = ['pre_job', 'job_106']\n",
    "look_up = jobs['pre_job'].to_list()"
   ]
  },
  {
   "cell_type": "code",
   "execution_count": 65,
   "metadata": {},
   "outputs": [],
   "source": [
    "uniq_jobs['pre_job'] = uniq_jobs.apply(lambda row: matcher(row, look_up, 'job'), axis=1)"
   ]
  },
  {
   "cell_type": "code",
   "execution_count": 67,
   "metadata": {},
   "outputs": [],
   "source": [
    "uniq_jobs = pd.merge(uniq_jobs, jobs, how='left')"
   ]
  },
  {
   "cell_type": "code",
   "execution_count": 69,
   "metadata": {},
   "outputs": [],
   "source": [
    "kadr = pd.merge(kadr, uniq_jobs[['job', 'job_106']])"
   ]
  },
  {
   "cell_type": "code",
   "execution_count": 78,
   "metadata": {},
   "outputs": [],
   "source": [
    "ans = pd.merge(ans, kadr[(kadr['type'] == 'Внешнее совместительство') & (kadr['job_106'] == 'Учитель')].groupby('inn')['snils'].nunique().reset_index().rename(columns= {'snils': 'vnesh'}), how='left')"
   ]
  },
  {
   "cell_type": "code",
   "execution_count": 73,
   "metadata": {},
   "outputs": [
    {
     "data": {
      "text/plain": [
       "array(['Работа', 'Отпуск по уходу за ребенком', 'Отпуск основной', nan,\n",
       "       'Отпуск по беременности и родам', 'Болезнь',\n",
       "       'Отпуск учебный оплачиваемый',\n",
       "       'Отпуск неоплачиваемый по разрешению работодателя',\n",
       "       'Работа в отпуске по уходу за ребенком', 'Командировка',\n",
       "       'Отсутствие с сохранением оплаты', 'Дополнительный отпуск',\n",
       "       'Болезнь без оплаты', 'Отсутствие по невыясненным причинам',\n",
       "       'Увольнение', 'Простой, отстранение по вине работника',\n",
       "       'Дополнительный отпуск (неоплачиваемый)',\n",
       "       'Отпуск неоплачиваемый по законодательству',\n",
       "       'Отпуск учебный неоплачиваемый',\n",
       "       'Отпуск на санаторно-курортное лечение', 'Прогул'], dtype=object)"
      ]
     },
     "execution_count": 73,
     "metadata": {},
     "output_type": "execute_result"
    }
   ],
   "source": [
    "kadr.status.unique()"
   ]
  },
  {
   "cell_type": "code",
   "execution_count": 80,
   "metadata": {},
   "outputs": [],
   "source": [
    "ans = pd.merge(ans, kadr[(kadr['status'].isin(['Отпуск по беременности и родам', 'Отпуск по уходу за ребенком'])) & (kadr['job_106'] == 'Учитель')].groupby('inn')['snils'].nunique().reset_index().rename(columns= {'snils': 'obr'}), how='left')"
   ]
  },
  {
   "cell_type": "code",
   "execution_count": 81,
   "metadata": {},
   "outputs": [],
   "source": [
    "print_df(pd.merge(ans, otv[['inn', 'sch_name']], how='left'), 'Список учителей для МЭШ ' + month)"
   ]
  }
 ],
 "metadata": {
  "kernelspec": {
   "display_name": "Python 3.10.2 64-bit",
   "language": "python",
   "name": "python3"
  },
  "language_info": {
   "codemirror_mode": {
    "name": "ipython",
    "version": 3
   },
   "file_extension": ".py",
   "mimetype": "text/x-python",
   "name": "python",
   "nbconvert_exporter": "python",
   "pygments_lexer": "ipython3",
   "version": "3.10.2"
  },
  "orig_nbformat": 4,
  "vscode": {
   "interpreter": {
    "hash": "074f563457da44d7ed57bdc37c43fd9dc993318bca70a60ea87af59e9047f938"
   }
  }
 },
 "nbformat": 4,
 "nbformat_minor": 2
}
