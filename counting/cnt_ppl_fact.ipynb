{
 "cells": [
  {
   "cell_type": "code",
   "execution_count": 1,
   "metadata": {},
   "outputs": [],
   "source": [
    "import pandas as pd\n",
    "import numpy as np\n",
    "from openpyxl import Workbook\n",
    "from openpyxl.utils.dataframe import dataframe_to_rows as df_to_row\n",
    "import pathlib"
   ]
  },
  {
   "cell_type": "code",
   "execution_count": 2,
   "metadata": {},
   "outputs": [],
   "source": [
    "from szp_funcs import print_df, path_to_docs"
   ]
  },
  {
   "cell_type": "code",
   "execution_count": 4,
   "metadata": {},
   "outputs": [],
   "source": [
    "res = pd.read_excel(path_to_docs + 'ppl_with_status.xlsx')"
   ]
  },
  {
   "cell_type": "code",
   "execution_count": 5,
   "metadata": {},
   "outputs": [
    {
     "data": {
      "text/html": [
       "<div>\n",
       "<style scoped>\n",
       "    .dataframe tbody tr th:only-of-type {\n",
       "        vertical-align: middle;\n",
       "    }\n",
       "\n",
       "    .dataframe tbody tr th {\n",
       "        vertical-align: top;\n",
       "    }\n",
       "\n",
       "    .dataframe thead th {\n",
       "        text-align: right;\n",
       "    }\n",
       "</style>\n",
       "<table border=\"1\" class=\"dataframe\">\n",
       "  <thead>\n",
       "    <tr style=\"text-align: right;\">\n",
       "      <th></th>\n",
       "      <th>inn</th>\n",
       "      <th>snils</th>\n",
       "      <th>type</th>\n",
       "      <th>status</th>\n",
       "    </tr>\n",
       "  </thead>\n",
       "  <tbody>\n",
       "    <tr>\n",
       "      <th>0</th>\n",
       "      <td>7734408766</td>\n",
       "      <td>170-535-764 66</td>\n",
       "      <td>Основное место работы</td>\n",
       "      <td>Работа</td>\n",
       "    </tr>\n",
       "    <tr>\n",
       "      <th>1</th>\n",
       "      <td>7734408766</td>\n",
       "      <td>170-535-764 66</td>\n",
       "      <td>Основное место работы</td>\n",
       "      <td>Работа</td>\n",
       "    </tr>\n",
       "    <tr>\n",
       "      <th>2</th>\n",
       "      <td>7734408766</td>\n",
       "      <td>159-429-243 98</td>\n",
       "      <td>Основное место работы</td>\n",
       "      <td>Работа</td>\n",
       "    </tr>\n",
       "    <tr>\n",
       "      <th>3</th>\n",
       "      <td>7734408766</td>\n",
       "      <td>054-243-407 30</td>\n",
       "      <td>Основное место работы</td>\n",
       "      <td>Работа</td>\n",
       "    </tr>\n",
       "    <tr>\n",
       "      <th>4</th>\n",
       "      <td>7734408766</td>\n",
       "      <td>016-429-807 50</td>\n",
       "      <td>Основное место работы</td>\n",
       "      <td>Работа</td>\n",
       "    </tr>\n",
       "    <tr>\n",
       "      <th>...</th>\n",
       "      <td>...</td>\n",
       "      <td>...</td>\n",
       "      <td>...</td>\n",
       "      <td>...</td>\n",
       "    </tr>\n",
       "    <tr>\n",
       "      <th>216518</th>\n",
       "      <td>7722069597</td>\n",
       "      <td>016-022-613 91</td>\n",
       "      <td>Основное место работы</td>\n",
       "      <td>Работа</td>\n",
       "    </tr>\n",
       "    <tr>\n",
       "      <th>216519</th>\n",
       "      <td>7722069597</td>\n",
       "      <td>176-492-809 15</td>\n",
       "      <td>Основное место работы</td>\n",
       "      <td>Работа</td>\n",
       "    </tr>\n",
       "    <tr>\n",
       "      <th>216520</th>\n",
       "      <td>7722069597</td>\n",
       "      <td>151-620-104 08</td>\n",
       "      <td>Основное место работы</td>\n",
       "      <td>Работа</td>\n",
       "    </tr>\n",
       "    <tr>\n",
       "      <th>216521</th>\n",
       "      <td>7722069597</td>\n",
       "      <td>113-021-844 88</td>\n",
       "      <td>Основное место работы</td>\n",
       "      <td>Отсутствие с сохранением оплаты</td>\n",
       "    </tr>\n",
       "    <tr>\n",
       "      <th>216522</th>\n",
       "      <td>7722069597</td>\n",
       "      <td>114-954-354 62</td>\n",
       "      <td>Основное место работы</td>\n",
       "      <td>Работа</td>\n",
       "    </tr>\n",
       "  </tbody>\n",
       "</table>\n",
       "<p>216523 rows × 4 columns</p>\n",
       "</div>"
      ],
      "text/plain": [
       "               inn           snils                   type  \\\n",
       "0       7734408766  170-535-764 66  Основное место работы   \n",
       "1       7734408766  170-535-764 66  Основное место работы   \n",
       "2       7734408766  159-429-243 98  Основное место работы   \n",
       "3       7734408766  054-243-407 30  Основное место работы   \n",
       "4       7734408766  016-429-807 50  Основное место работы   \n",
       "...            ...             ...                    ...   \n",
       "216518  7722069597  016-022-613 91  Основное место работы   \n",
       "216519  7722069597  176-492-809 15  Основное место работы   \n",
       "216520  7722069597  151-620-104 08  Основное место работы   \n",
       "216521  7722069597  113-021-844 88  Основное место работы   \n",
       "216522  7722069597  114-954-354 62  Основное место работы   \n",
       "\n",
       "                                 status  \n",
       "0                                Работа  \n",
       "1                                Работа  \n",
       "2                                Работа  \n",
       "3                                Работа  \n",
       "4                                Работа  \n",
       "...                                 ...  \n",
       "216518                           Работа  \n",
       "216519                           Работа  \n",
       "216520                           Работа  \n",
       "216521  Отсутствие с сохранением оплаты  \n",
       "216522                           Работа  \n",
       "\n",
       "[216523 rows x 4 columns]"
      ]
     },
     "execution_count": 5,
     "metadata": {},
     "output_type": "execute_result"
    }
   ],
   "source": [
    "res"
   ]
  },
  {
   "cell_type": "code",
   "execution_count": 17,
   "metadata": {},
   "outputs": [
    {
     "data": {
      "text/plain": [
       "inn        1\n",
       "snils     90\n",
       "type       1\n",
       "status     4\n",
       "dtype: int64"
      ]
     },
     "execution_count": 17,
     "metadata": {},
     "output_type": "execute_result"
    }
   ],
   "source": [
    "res[(res.inn == 7709438340) & (res.type == 'Основное место работы')].nunique()"
   ]
  },
  {
   "cell_type": "code",
   "execution_count": 9,
   "metadata": {},
   "outputs": [
    {
     "data": {
      "text/html": [
       "<div>\n",
       "<style scoped>\n",
       "    .dataframe tbody tr th:only-of-type {\n",
       "        vertical-align: middle;\n",
       "    }\n",
       "\n",
       "    .dataframe tbody tr th {\n",
       "        vertical-align: top;\n",
       "    }\n",
       "\n",
       "    .dataframe thead th {\n",
       "        text-align: right;\n",
       "    }\n",
       "</style>\n",
       "<table border=\"1\" class=\"dataframe\">\n",
       "  <thead>\n",
       "    <tr style=\"text-align: right;\">\n",
       "      <th></th>\n",
       "      <th>inn</th>\n",
       "      <th>Общая</th>\n",
       "    </tr>\n",
       "  </thead>\n",
       "  <tbody>\n",
       "    <tr>\n",
       "      <th>0</th>\n",
       "      <td>5003021368</td>\n",
       "      <td>1032</td>\n",
       "    </tr>\n",
       "    <tr>\n",
       "      <th>1</th>\n",
       "      <td>5003021495</td>\n",
       "      <td>1131</td>\n",
       "    </tr>\n",
       "    <tr>\n",
       "      <th>2</th>\n",
       "      <td>5003021640</td>\n",
       "      <td>838</td>\n",
       "    </tr>\n",
       "    <tr>\n",
       "      <th>3</th>\n",
       "      <td>5003096290</td>\n",
       "      <td>561</td>\n",
       "    </tr>\n",
       "    <tr>\n",
       "      <th>4</th>\n",
       "      <td>5030032182</td>\n",
       "      <td>308</td>\n",
       "    </tr>\n",
       "    <tr>\n",
       "      <th>...</th>\n",
       "      <td>...</td>\n",
       "      <td>...</td>\n",
       "    </tr>\n",
       "    <tr>\n",
       "      <th>595</th>\n",
       "      <td>7743940590</td>\n",
       "      <td>318</td>\n",
       "    </tr>\n",
       "    <tr>\n",
       "      <th>596</th>\n",
       "      <td>9705101759</td>\n",
       "      <td>405</td>\n",
       "    </tr>\n",
       "    <tr>\n",
       "      <th>597</th>\n",
       "      <td>9715206976</td>\n",
       "      <td>509</td>\n",
       "    </tr>\n",
       "    <tr>\n",
       "      <th>598</th>\n",
       "      <td>9715217689</td>\n",
       "      <td>263</td>\n",
       "    </tr>\n",
       "    <tr>\n",
       "      <th>599</th>\n",
       "      <td>9718071371</td>\n",
       "      <td>4390</td>\n",
       "    </tr>\n",
       "  </tbody>\n",
       "</table>\n",
       "<p>600 rows × 2 columns</p>\n",
       "</div>"
      ],
      "text/plain": [
       "            inn  Общая\n",
       "0    5003021368   1032\n",
       "1    5003021495   1131\n",
       "2    5003021640    838\n",
       "3    5003096290    561\n",
       "4    5030032182    308\n",
       "..          ...    ...\n",
       "595  7743940590    318\n",
       "596  9705101759    405\n",
       "597  9715206976    509\n",
       "598  9715217689    263\n",
       "599  9718071371   4390\n",
       "\n",
       "[600 rows x 2 columns]"
      ]
     },
     "execution_count": 9,
     "metadata": {},
     "output_type": "execute_result"
    }
   ],
   "source": [
    "res[res.type == 'Основное место работы'].groupby('inn')['snils'].nunique().reset_index().rename(columns= {'snils': 'Общая'})"
   ]
  },
  {
   "cell_type": "code",
   "execution_count": 10,
   "metadata": {},
   "outputs": [
    {
     "data": {
      "text/html": [
       "<div>\n",
       "<style scoped>\n",
       "    .dataframe tbody tr th:only-of-type {\n",
       "        vertical-align: middle;\n",
       "    }\n",
       "\n",
       "    .dataframe tbody tr th {\n",
       "        vertical-align: top;\n",
       "    }\n",
       "\n",
       "    .dataframe thead th {\n",
       "        text-align: right;\n",
       "    }\n",
       "</style>\n",
       "<table border=\"1\" class=\"dataframe\">\n",
       "  <thead>\n",
       "    <tr style=\"text-align: right;\">\n",
       "      <th></th>\n",
       "      <th>inn</th>\n",
       "      <th>Отпуск по уходу</th>\n",
       "    </tr>\n",
       "  </thead>\n",
       "  <tbody>\n",
       "    <tr>\n",
       "      <th>0</th>\n",
       "      <td>5003021368</td>\n",
       "      <td>63</td>\n",
       "    </tr>\n",
       "    <tr>\n",
       "      <th>1</th>\n",
       "      <td>5003021495</td>\n",
       "      <td>63</td>\n",
       "    </tr>\n",
       "    <tr>\n",
       "      <th>2</th>\n",
       "      <td>5003021640</td>\n",
       "      <td>37</td>\n",
       "    </tr>\n",
       "    <tr>\n",
       "      <th>3</th>\n",
       "      <td>5003096290</td>\n",
       "      <td>20</td>\n",
       "    </tr>\n",
       "    <tr>\n",
       "      <th>4</th>\n",
       "      <td>5030032182</td>\n",
       "      <td>19</td>\n",
       "    </tr>\n",
       "    <tr>\n",
       "      <th>...</th>\n",
       "      <td>...</td>\n",
       "      <td>...</td>\n",
       "    </tr>\n",
       "    <tr>\n",
       "      <th>575</th>\n",
       "      <td>7743940590</td>\n",
       "      <td>9</td>\n",
       "    </tr>\n",
       "    <tr>\n",
       "      <th>576</th>\n",
       "      <td>9705101759</td>\n",
       "      <td>14</td>\n",
       "    </tr>\n",
       "    <tr>\n",
       "      <th>577</th>\n",
       "      <td>9715206976</td>\n",
       "      <td>17</td>\n",
       "    </tr>\n",
       "    <tr>\n",
       "      <th>578</th>\n",
       "      <td>9715217689</td>\n",
       "      <td>13</td>\n",
       "    </tr>\n",
       "    <tr>\n",
       "      <th>579</th>\n",
       "      <td>9718071371</td>\n",
       "      <td>41</td>\n",
       "    </tr>\n",
       "  </tbody>\n",
       "</table>\n",
       "<p>580 rows × 2 columns</p>\n",
       "</div>"
      ],
      "text/plain": [
       "            inn  Отпуск по уходу\n",
       "0    5003021368               63\n",
       "1    5003021495               63\n",
       "2    5003021640               37\n",
       "3    5003096290               20\n",
       "4    5030032182               19\n",
       "..          ...              ...\n",
       "575  7743940590                9\n",
       "576  9705101759               14\n",
       "577  9715206976               17\n",
       "578  9715217689               13\n",
       "579  9718071371               41\n",
       "\n",
       "[580 rows x 2 columns]"
      ]
     },
     "execution_count": 10,
     "metadata": {},
     "output_type": "execute_result"
    }
   ],
   "source": [
    "res[(res.type == 'Основное место работы') & (res.status == 'Отпуск по уходу за ребенком')].groupby('inn')['snils'].nunique().reset_index().rename(columns= {'snils': 'Отпуск по уходу'})"
   ]
  },
  {
   "cell_type": "code",
   "execution_count": 18,
   "metadata": {},
   "outputs": [],
   "source": [
    "ans = pd.merge(res[res.type == 'Основное место работы'].groupby('inn')['snils'].nunique().reset_index().rename(columns= {'snils': 'Общая'}), res[(res.type == 'Основное место работы') & (res.status == 'Отпуск по уходу за ребенком')].groupby('inn')['snils'].nunique().reset_index().rename(columns= {'snils': 'Отпуск по уходу'}), how='outer')"
   ]
  },
  {
   "cell_type": "code",
   "execution_count": 13,
   "metadata": {},
   "outputs": [
    {
     "data": {
      "text/plain": [
       "inn                4452816790055\n",
       "Общая                     175708\n",
       "Отпуск по уходу             6934\n",
       "dtype: int64"
      ]
     },
     "execution_count": 13,
     "metadata": {},
     "output_type": "execute_result"
    }
   ],
   "source": [
    "ans.sum()"
   ]
  },
  {
   "cell_type": "code",
   "execution_count": 19,
   "metadata": {},
   "outputs": [],
   "source": [
    "print_df(ans, 'Численность на май')"
   ]
  }
 ],
 "metadata": {
  "kernelspec": {
   "display_name": "Python 3.10.2 64-bit",
   "language": "python",
   "name": "python3"
  },
  "language_info": {
   "codemirror_mode": {
    "name": "ipython",
    "version": 3
   },
   "file_extension": ".py",
   "mimetype": "text/x-python",
   "name": "python",
   "nbconvert_exporter": "python",
   "pygments_lexer": "ipython3",
   "version": "3.10.2"
  },
  "orig_nbformat": 4,
  "vscode": {
   "interpreter": {
    "hash": "074f563457da44d7ed57bdc37c43fd9dc993318bca70a60ea87af59e9047f938"
   }
  }
 },
 "nbformat": 4,
 "nbformat_minor": 2
}
