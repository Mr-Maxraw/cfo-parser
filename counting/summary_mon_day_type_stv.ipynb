{
 "cells": [
  {
   "cell_type": "code",
   "execution_count": 1,
   "metadata": {},
   "outputs": [],
   "source": [
    "from openpyxl import Workbook, load_workbook\n",
    "import pandas as pd\n",
    "from openpyxl.utils.dataframe import dataframe_to_rows as df_to_row\n",
    "import numpy as np"
   ]
  },
  {
   "cell_type": "code",
   "execution_count": 2,
   "metadata": {},
   "outputs": [],
   "source": [
    "from szp_funcs import print_df, path_to_data, day_types, to_double"
   ]
  },
  {
   "cell_type": "code",
   "execution_count": 3,
   "metadata": {},
   "outputs": [],
   "source": [
    "month = 'apr'\n",
    "nday = 21"
   ]
  },
  {
   "cell_type": "code",
   "execution_count": 4,
   "metadata": {},
   "outputs": [],
   "source": [
    "bad_stat = ['Отпуск по уходу за ребенком', 'Отпуск по беременности и родам']"
   ]
  },
  {
   "cell_type": "code",
   "execution_count": 5,
   "metadata": {},
   "outputs": [],
   "source": [
    "res = pd.read_excel(path_to_data + month + '.xlsx')"
   ]
  },
  {
   "cell_type": "code",
   "execution_count": 6,
   "metadata": {},
   "outputs": [],
   "source": [
    "res['stv'] = res.apply(lambda row: to_double(row, 'stv'), axis=1)"
   ]
  },
  {
   "cell_type": "code",
   "execution_count": 26,
   "metadata": {},
   "outputs": [],
   "source": [
    "def give_norm(row):\n",
    "    if row['status'] == 'Увольнение':\n",
    "        return nday\n",
    "    return row['nday']"
   ]
  },
  {
   "cell_type": "code",
   "execution_count": 27,
   "metadata": {},
   "outputs": [],
   "source": [
    "res['nday'] = res.apply(lambda row: give_norm(row), axis=1)"
   ]
  },
  {
   "cell_type": "code",
   "execution_count": 18,
   "metadata": {},
   "outputs": [],
   "source": [
    "print_df(res[(res.inn == 7736110982) & (res.type == day_types[2])],'qwe')"
   ]
  },
  {
   "cell_type": "code",
   "execution_count": 7,
   "metadata": {},
   "outputs": [],
   "source": [
    "res['stv'].fillna(1, inplace=True)\n",
    "res['nday'].fillna(1, inplace=True)\n",
    "res['wday'].fillna(res['nday'], inplace=True)"
   ]
  },
  {
   "cell_type": "code",
   "execution_count": 11,
   "metadata": {},
   "outputs": [],
   "source": [
    "res['spis'] = res.apply(lambda row: row['stv'] * row['wday'] / nday if row['wday'] <= nday else row['stv'], axis=1)"
   ]
  },
  {
   "cell_type": "code",
   "execution_count": 12,
   "metadata": {},
   "outputs": [
    {
     "data": {
      "text/html": [
       "<div>\n",
       "<style scoped>\n",
       "    .dataframe tbody tr th:only-of-type {\n",
       "        vertical-align: middle;\n",
       "    }\n",
       "\n",
       "    .dataframe tbody tr th {\n",
       "        vertical-align: top;\n",
       "    }\n",
       "\n",
       "    .dataframe thead th {\n",
       "        text-align: right;\n",
       "    }\n",
       "</style>\n",
       "<table border=\"1\" class=\"dataframe\">\n",
       "  <thead>\n",
       "    <tr style=\"text-align: right;\">\n",
       "      <th></th>\n",
       "      <th>inn</th>\n",
       "      <th>snils</th>\n",
       "      <th>sum</th>\n",
       "      <th>job</th>\n",
       "      <th>day</th>\n",
       "      <th>type</th>\n",
       "      <th>stv</th>\n",
       "      <th>status</th>\n",
       "      <th>status_pref</th>\n",
       "      <th>wday</th>\n",
       "      <th>nday</th>\n",
       "      <th>spis</th>\n",
       "    </tr>\n",
       "  </thead>\n",
       "  <tbody>\n",
       "    <tr>\n",
       "      <th>0</th>\n",
       "      <td>7734408766</td>\n",
       "      <td>001-879-913 57</td>\n",
       "      <td>135113.91</td>\n",
       "      <td>Преподаватель</td>\n",
       "      <td>1</td>\n",
       "      <td>Основное место работы</td>\n",
       "      <td>1.0</td>\n",
       "      <td>Работа</td>\n",
       "      <td>Работа</td>\n",
       "      <td>22.0</td>\n",
       "      <td>21.0</td>\n",
       "      <td>1.000000</td>\n",
       "    </tr>\n",
       "    <tr>\n",
       "      <th>1</th>\n",
       "      <td>7734408766</td>\n",
       "      <td>001-896-420 39</td>\n",
       "      <td>126320.51</td>\n",
       "      <td>Преподаватель</td>\n",
       "      <td>1</td>\n",
       "      <td>Основное место работы</td>\n",
       "      <td>1.0</td>\n",
       "      <td>Работа</td>\n",
       "      <td>Работа</td>\n",
       "      <td>23.0</td>\n",
       "      <td>21.0</td>\n",
       "      <td>1.000000</td>\n",
       "    </tr>\n",
       "    <tr>\n",
       "      <th>2</th>\n",
       "      <td>7734408766</td>\n",
       "      <td>002-050-383 67</td>\n",
       "      <td>68007.79</td>\n",
       "      <td>Преподаватель</td>\n",
       "      <td>1</td>\n",
       "      <td>Основное место работы</td>\n",
       "      <td>1.0</td>\n",
       "      <td>Работа</td>\n",
       "      <td>Работа</td>\n",
       "      <td>21.0</td>\n",
       "      <td>21.0</td>\n",
       "      <td>1.000000</td>\n",
       "    </tr>\n",
       "    <tr>\n",
       "      <th>3</th>\n",
       "      <td>7734408766</td>\n",
       "      <td>002-065-271 85</td>\n",
       "      <td>76705.72</td>\n",
       "      <td>Преподаватель</td>\n",
       "      <td>1</td>\n",
       "      <td>Основное место работы</td>\n",
       "      <td>1.0</td>\n",
       "      <td>Работа</td>\n",
       "      <td>Работа</td>\n",
       "      <td>21.0</td>\n",
       "      <td>21.0</td>\n",
       "      <td>1.000000</td>\n",
       "    </tr>\n",
       "    <tr>\n",
       "      <th>4</th>\n",
       "      <td>7734408766</td>\n",
       "      <td>002-845-525 25</td>\n",
       "      <td>125265.61</td>\n",
       "      <td>Преподаватель</td>\n",
       "      <td>1</td>\n",
       "      <td>Основное место работы</td>\n",
       "      <td>1.0</td>\n",
       "      <td>Работа</td>\n",
       "      <td>Работа</td>\n",
       "      <td>22.0</td>\n",
       "      <td>21.0</td>\n",
       "      <td>1.000000</td>\n",
       "    </tr>\n",
       "    <tr>\n",
       "      <th>...</th>\n",
       "      <td>...</td>\n",
       "      <td>...</td>\n",
       "      <td>...</td>\n",
       "      <td>...</td>\n",
       "      <td>...</td>\n",
       "      <td>...</td>\n",
       "      <td>...</td>\n",
       "      <td>...</td>\n",
       "      <td>...</td>\n",
       "      <td>...</td>\n",
       "      <td>...</td>\n",
       "      <td>...</td>\n",
       "    </tr>\n",
       "    <tr>\n",
       "      <th>198966</th>\n",
       "      <td>7722069597</td>\n",
       "      <td>186-373-917 14</td>\n",
       "      <td>96600.00</td>\n",
       "      <td>Специалист по интернет-маркетингу</td>\n",
       "      <td>1</td>\n",
       "      <td>Основное место работы</td>\n",
       "      <td>1.0</td>\n",
       "      <td>Работа</td>\n",
       "      <td>Работа</td>\n",
       "      <td>21.0</td>\n",
       "      <td>21.0</td>\n",
       "      <td>1.000000</td>\n",
       "    </tr>\n",
       "    <tr>\n",
       "      <th>198967</th>\n",
       "      <td>7722069597</td>\n",
       "      <td>187-703-552 01</td>\n",
       "      <td>38146.67</td>\n",
       "      <td>Воспитатель</td>\n",
       "      <td>0</td>\n",
       "      <td>Основное место работы</td>\n",
       "      <td>1.0</td>\n",
       "      <td>Работа</td>\n",
       "      <td>Отпуск учебный оплачиваемый</td>\n",
       "      <td>8.0</td>\n",
       "      <td>21.0</td>\n",
       "      <td>0.380952</td>\n",
       "    </tr>\n",
       "    <tr>\n",
       "      <th>198968</th>\n",
       "      <td>7722069597</td>\n",
       "      <td>198-391-256 24</td>\n",
       "      <td>83680.00</td>\n",
       "      <td>Воспитатель</td>\n",
       "      <td>1</td>\n",
       "      <td>Основное место работы</td>\n",
       "      <td>1.0</td>\n",
       "      <td>Работа</td>\n",
       "      <td>Работа</td>\n",
       "      <td>21.0</td>\n",
       "      <td>21.0</td>\n",
       "      <td>1.000000</td>\n",
       "    </tr>\n",
       "    <tr>\n",
       "      <th>198969</th>\n",
       "      <td>7722069597</td>\n",
       "      <td>202-693-820 52</td>\n",
       "      <td>84515.24</td>\n",
       "      <td>Учитель</td>\n",
       "      <td>1</td>\n",
       "      <td>Основное место работы</td>\n",
       "      <td>1.0</td>\n",
       "      <td>Работа</td>\n",
       "      <td>Работа</td>\n",
       "      <td>21.0</td>\n",
       "      <td>21.0</td>\n",
       "      <td>1.000000</td>\n",
       "    </tr>\n",
       "    <tr>\n",
       "      <th>198970</th>\n",
       "      <td>7722069597</td>\n",
       "      <td>212-582-793 59</td>\n",
       "      <td>58392.86</td>\n",
       "      <td>Помощник воспитателя</td>\n",
       "      <td>1</td>\n",
       "      <td>Основное место работы</td>\n",
       "      <td>1.0</td>\n",
       "      <td>Работа</td>\n",
       "      <td>Работа</td>\n",
       "      <td>21.0</td>\n",
       "      <td>21.0</td>\n",
       "      <td>1.000000</td>\n",
       "    </tr>\n",
       "  </tbody>\n",
       "</table>\n",
       "<p>198971 rows × 12 columns</p>\n",
       "</div>"
      ],
      "text/plain": [
       "               inn           snils        sum  \\\n",
       "0       7734408766  001-879-913 57  135113.91   \n",
       "1       7734408766  001-896-420 39  126320.51   \n",
       "2       7734408766  002-050-383 67   68007.79   \n",
       "3       7734408766  002-065-271 85   76705.72   \n",
       "4       7734408766  002-845-525 25  125265.61   \n",
       "...            ...             ...        ...   \n",
       "198966  7722069597  186-373-917 14   96600.00   \n",
       "198967  7722069597  187-703-552 01   38146.67   \n",
       "198968  7722069597  198-391-256 24   83680.00   \n",
       "198969  7722069597  202-693-820 52   84515.24   \n",
       "198970  7722069597  212-582-793 59   58392.86   \n",
       "\n",
       "                                      job  day                   type  stv  \\\n",
       "0                           Преподаватель    1  Основное место работы  1.0   \n",
       "1                           Преподаватель    1  Основное место работы  1.0   \n",
       "2                           Преподаватель    1  Основное место работы  1.0   \n",
       "3                           Преподаватель    1  Основное место работы  1.0   \n",
       "4                           Преподаватель    1  Основное место работы  1.0   \n",
       "...                                   ...  ...                    ...  ...   \n",
       "198966  Специалист по интернет-маркетингу    1  Основное место работы  1.0   \n",
       "198967                        Воспитатель    0  Основное место работы  1.0   \n",
       "198968                        Воспитатель    1  Основное место работы  1.0   \n",
       "198969                            Учитель    1  Основное место работы  1.0   \n",
       "198970               Помощник воспитателя    1  Основное место работы  1.0   \n",
       "\n",
       "        status                  status_pref  wday  nday      spis  \n",
       "0       Работа                       Работа  22.0  21.0  1.000000  \n",
       "1       Работа                       Работа  23.0  21.0  1.000000  \n",
       "2       Работа                       Работа  21.0  21.0  1.000000  \n",
       "3       Работа                       Работа  21.0  21.0  1.000000  \n",
       "4       Работа                       Работа  22.0  21.0  1.000000  \n",
       "...        ...                          ...   ...   ...       ...  \n",
       "198966  Работа                       Работа  21.0  21.0  1.000000  \n",
       "198967  Работа  Отпуск учебный оплачиваемый   8.0  21.0  0.380952  \n",
       "198968  Работа                       Работа  21.0  21.0  1.000000  \n",
       "198969  Работа                       Работа  21.0  21.0  1.000000  \n",
       "198970  Работа                       Работа  21.0  21.0  1.000000  \n",
       "\n",
       "[198971 rows x 12 columns]"
      ]
     },
     "execution_count": 12,
     "metadata": {},
     "output_type": "execute_result"
    }
   ],
   "source": [
    "res"
   ]
  },
  {
   "cell_type": "code",
   "execution_count": 13,
   "metadata": {},
   "outputs": [],
   "source": [
    "ppl = res[res.status.isin(bad_stat) == False][['inn', 'type', 'snils']].groupby(['inn', 'type']).nunique().unstack().fillna(0.0)\n",
    "ppl.index.names = ['inn']\n",
    "ppl.columns = [s[1] + ' головы' for s in ppl.columns]"
   ]
  },
  {
   "cell_type": "code",
   "execution_count": 14,
   "metadata": {},
   "outputs": [
    {
     "data": {
      "text/html": [
       "<div>\n",
       "<style scoped>\n",
       "    .dataframe tbody tr th:only-of-type {\n",
       "        vertical-align: middle;\n",
       "    }\n",
       "\n",
       "    .dataframe tbody tr th {\n",
       "        vertical-align: top;\n",
       "    }\n",
       "\n",
       "    .dataframe thead th {\n",
       "        text-align: right;\n",
       "    }\n",
       "</style>\n",
       "<table border=\"1\" class=\"dataframe\">\n",
       "  <thead>\n",
       "    <tr style=\"text-align: right;\">\n",
       "      <th></th>\n",
       "      <th>Внешнее совместительство головы</th>\n",
       "      <th>Внутреннее совместительство головы</th>\n",
       "      <th>Основное место работы головы</th>\n",
       "    </tr>\n",
       "    <tr>\n",
       "      <th>inn</th>\n",
       "      <th></th>\n",
       "      <th></th>\n",
       "      <th></th>\n",
       "    </tr>\n",
       "  </thead>\n",
       "  <tbody>\n",
       "    <tr>\n",
       "      <th>7736110982</th>\n",
       "      <td>90.0</td>\n",
       "      <td>287.0</td>\n",
       "      <td>1424.0</td>\n",
       "    </tr>\n",
       "  </tbody>\n",
       "</table>\n",
       "</div>"
      ],
      "text/plain": [
       "            Внешнее совместительство головы  \\\n",
       "inn                                           \n",
       "7736110982                             90.0   \n",
       "\n",
       "            Внутреннее совместительство головы  Основное место работы головы  \n",
       "inn                                                                           \n",
       "7736110982                               287.0                        1424.0  "
      ]
     },
     "execution_count": 14,
     "metadata": {},
     "output_type": "execute_result"
    }
   ],
   "source": [
    "ppl[ppl.index == 7736110982]"
   ]
  },
  {
   "cell_type": "code",
   "execution_count": 15,
   "metadata": {},
   "outputs": [],
   "source": [
    "stv = res[res.status.isin(bad_stat) == False][['inn', 'type', 'stv']].groupby(['inn', 'type']).sum().unstack().fillna(0.0)\n",
    "stv.index.names = ['inn']\n",
    "stv.columns = [s[1] + ' ставки' for s in stv.columns]\n"
   ]
  },
  {
   "cell_type": "code",
   "execution_count": 16,
   "metadata": {},
   "outputs": [
    {
     "data": {
      "text/html": [
       "<div>\n",
       "<style scoped>\n",
       "    .dataframe tbody tr th:only-of-type {\n",
       "        vertical-align: middle;\n",
       "    }\n",
       "\n",
       "    .dataframe tbody tr th {\n",
       "        vertical-align: top;\n",
       "    }\n",
       "\n",
       "    .dataframe thead th {\n",
       "        text-align: right;\n",
       "    }\n",
       "</style>\n",
       "<table border=\"1\" class=\"dataframe\">\n",
       "  <thead>\n",
       "    <tr style=\"text-align: right;\">\n",
       "      <th></th>\n",
       "      <th>Внешнее совместительство ставки</th>\n",
       "      <th>Внутреннее совместительство ставки</th>\n",
       "      <th>Основное место работы ставки</th>\n",
       "    </tr>\n",
       "    <tr>\n",
       "      <th>inn</th>\n",
       "      <th></th>\n",
       "      <th></th>\n",
       "      <th></th>\n",
       "    </tr>\n",
       "  </thead>\n",
       "  <tbody>\n",
       "    <tr>\n",
       "      <th>7736110982</th>\n",
       "      <td>45.133333</td>\n",
       "      <td>101.057233</td>\n",
       "      <td>1475.267</td>\n",
       "    </tr>\n",
       "  </tbody>\n",
       "</table>\n",
       "</div>"
      ],
      "text/plain": [
       "            Внешнее совместительство ставки  \\\n",
       "inn                                           \n",
       "7736110982                        45.133333   \n",
       "\n",
       "            Внутреннее совместительство ставки  Основное место работы ставки  \n",
       "inn                                                                           \n",
       "7736110982                          101.057233                      1475.267  "
      ]
     },
     "execution_count": 16,
     "metadata": {},
     "output_type": "execute_result"
    }
   ],
   "source": [
    "stv[stv.index == 7736110982]"
   ]
  },
  {
   "cell_type": "code",
   "execution_count": 17,
   "metadata": {},
   "outputs": [],
   "source": [
    "spis = res[res.status.isin(bad_stat) == False][['inn', 'type', 'spis']].groupby(['inn', 'type']).sum().unstack().fillna(0.0)\n",
    "spis.index.names = ['inn']\n",
    "spis.columns = [s[1] + ' списоч' for s in spis.columns]"
   ]
  },
  {
   "cell_type": "code",
   "execution_count": 18,
   "metadata": {},
   "outputs": [
    {
     "data": {
      "text/html": [
       "<div>\n",
       "<style scoped>\n",
       "    .dataframe tbody tr th:only-of-type {\n",
       "        vertical-align: middle;\n",
       "    }\n",
       "\n",
       "    .dataframe tbody tr th {\n",
       "        vertical-align: top;\n",
       "    }\n",
       "\n",
       "    .dataframe thead th {\n",
       "        text-align: right;\n",
       "    }\n",
       "</style>\n",
       "<table border=\"1\" class=\"dataframe\">\n",
       "  <thead>\n",
       "    <tr style=\"text-align: right;\">\n",
       "      <th></th>\n",
       "      <th>Внешнее совместительство списоч</th>\n",
       "      <th>Внутреннее совместительство списоч</th>\n",
       "      <th>Основное место работы списоч</th>\n",
       "    </tr>\n",
       "    <tr>\n",
       "      <th>inn</th>\n",
       "      <th></th>\n",
       "      <th></th>\n",
       "      <th></th>\n",
       "    </tr>\n",
       "  </thead>\n",
       "  <tbody>\n",
       "    <tr>\n",
       "      <th>7736110982</th>\n",
       "      <td>36.256984</td>\n",
       "      <td>94.969614</td>\n",
       "      <td>1339.077238</td>\n",
       "    </tr>\n",
       "  </tbody>\n",
       "</table>\n",
       "</div>"
      ],
      "text/plain": [
       "            Внешнее совместительство списоч  \\\n",
       "inn                                           \n",
       "7736110982                        36.256984   \n",
       "\n",
       "            Внутреннее совместительство списоч  Основное место работы списоч  \n",
       "inn                                                                           \n",
       "7736110982                           94.969614                   1339.077238  "
      ]
     },
     "execution_count": 18,
     "metadata": {},
     "output_type": "execute_result"
    }
   ],
   "source": [
    "spis[spis.index == 7736110982]"
   ]
  },
  {
   "cell_type": "code",
   "execution_count": 43,
   "metadata": {},
   "outputs": [],
   "source": [
    "print_df(pd.merge(pd.merge(ppl, stv, on='inn'), spis, on='inn'), 'Сравнение количества людей ' + month)"
   ]
  }
 ],
 "metadata": {
  "interpreter": {
   "hash": "074f563457da44d7ed57bdc37c43fd9dc993318bca70a60ea87af59e9047f938"
  },
  "kernelspec": {
   "display_name": "Python 3.10.2 64-bit",
   "language": "python",
   "name": "python3"
  },
  "language_info": {
   "codemirror_mode": {
    "name": "ipython",
    "version": 3
   },
   "file_extension": ".py",
   "mimetype": "text/x-python",
   "name": "python",
   "nbconvert_exporter": "python",
   "pygments_lexer": "ipython3",
   "version": "3.10.2"
  },
  "orig_nbformat": 4
 },
 "nbformat": 4,
 "nbformat_minor": 2
}
