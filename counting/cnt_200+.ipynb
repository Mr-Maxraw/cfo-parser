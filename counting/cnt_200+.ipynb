{
 "cells": [
  {
   "cell_type": "code",
   "execution_count": 1,
   "metadata": {},
   "outputs": [],
   "source": [
    "path_to_data = 'C:/Users/PetukhovMD/Desktop/szp_2022/'\n",
    "path_to_docs = 'C:/Users/PetukhovMD/Desktop/справочники/'\n",
    "months = ['apr']"
   ]
  },
  {
   "cell_type": "code",
   "execution_count": 2,
   "metadata": {},
   "outputs": [],
   "source": [
    "from openpyxl import Workbook, load_workbook\n",
    "import pandas as pd\n",
    "from openpyxl.utils.dataframe import dataframe_to_rows as df_to_row\n",
    "import numpy as np\n",
    "from math import ceil"
   ]
  },
  {
   "cell_type": "code",
   "execution_count": 3,
   "metadata": {},
   "outputs": [],
   "source": [
    "def to_double(row, f_name):\n",
    "    if type(row[f_name]) is float:\n",
    "        return row[f_name] \n",
    "    t = str(row[f_name]).split(',')\n",
    "    if t[0] == 'nan':\n",
    "        return 0.0\n",
    "    return float(t[0]+'.'+t[1])"
   ]
  },
  {
   "cell_type": "code",
   "execution_count": 4,
   "metadata": {},
   "outputs": [],
   "source": [
    "def load_data(file):\n",
    "    df = pd.read_excel(path_to_data + file + '.xlsx')\n",
    "    df.stv = df.apply(lambda row: to_double(row, 'stv'), axis=1)\n",
    "    sample = df[((df.type == 'Основное место работы') | (df.type == 'Внутреннее совместительство'))]\n",
    "    sums = sample.iloc[:, [0,1,2,3]].groupby(['inn', 'snils']).sum().reset_index()\n",
    "    sums = pd.merge(sums, sample[sample.type == 'Основное место работы'], how='left', on='snils')\n",
    "    sums = sums[['inn_x', 'snils', 'sum_x', 'stv', 'job']].drop_duplicates(['inn_x', 'snils', 'sum_x'])\n",
    "    sums = sums.rename(columns = {'inn_x': 'inn', 'sum_x': 'sum_' + file, 'job':'job_' + file, 'stv': 'stv_' + file})\n",
    "    return sums"
   ]
  },
  {
   "cell_type": "code",
   "execution_count": 5,
   "metadata": {},
   "outputs": [],
   "source": [
    "def print_df(df, name):\n",
    "    wb = Workbook()\n",
    "    ws = wb.active\n",
    "    for  i in df_to_row(df, header=True):\n",
    "        ws.append(i)\n",
    "    wb.save(name + '.xlsx')"
   ]
  },
  {
   "cell_type": "code",
   "execution_count": 6,
   "metadata": {},
   "outputs": [],
   "source": [
    "def load_groups(file):\n",
    "    df = pd.read_excel(path_to_docs + file + '.xlsx', sheet_name='УГД')\n",
    "    ped = df[df['Педагогический'] == 1]['Должность'].tolist()\n",
    "    isp = df[df['Работники непосредственно осуществляющие и обеспечивающие основной учебно-вспомогательный процесс во взаимодействии с детьми'] == 1]['Должность'].tolist()\n",
    "    aup = df[df['УГД'] == 'Административно-управленческий персонал']['Должность'].to_list()\n",
    "    return ped, isp, aup"
   ]
  },
  {
   "cell_type": "code",
   "execution_count": 7,
   "metadata": {},
   "outputs": [],
   "source": [
    "gku = [\"ГБУ МГДУ\",\"ГАОУ ДПО ЦПМ\",\"ГАОУ ДПО МЦКО\",\"ГКУ ЦФО ДОНМ\",\"ГБУ ГППЦ ДОНМ\",\"ГКУ СФК ДОНМ\",\"ГКУ Дирекция ДОНМ\",\"ГБОУ ДПО МЦПС\",\"ГБОУ ГМЦ ДОНМ\",\"ГКУ Дирекция по строительству и реконструкции ДОНМ\",\"ГАОУ ДПО \"\"Корпоративный университет\"\"\",\"ГАУ \"\"Центр цифровизации образования\"\"\",\"ГАУ Медиацентр\",\"ГАОУ ДПО МЦРПО\"]\n",
    "gku_inn = [7702061938, 7725618950, 7725539709, 9718071371, 7726317748, 7704191153, 9705101759, 7719210793, 7705399348, 7705020295, 7714239823, 7727190237, 7718924940, 7707329480]"
   ]
  },
  {
   "cell_type": "code",
   "execution_count": 11,
   "metadata": {},
   "outputs": [],
   "source": [
    "ppl = load_data(months[-1])\n",
    "ped, isp, aup = load_groups('input')\n",
    "ppl = ppl[(ppl['job_' + months[-1]].isin(aup + ped) == False) & (ppl['sum_' + months[-1]] > 200000) & (ppl['inn'].isin(gku_inn) == False)]\n",
    "#print_df(ppl, '200+_' + months[-1])"
   ]
  },
  {
   "cell_type": "code",
   "execution_count": 14,
   "metadata": {},
   "outputs": [],
   "source": [
    "print_df(ppl, '200+_' + months[-1])"
   ]
  },
  {
   "cell_type": "code",
   "execution_count": 8,
   "metadata": {},
   "outputs": [
    {
     "data": {
      "text/html": [
       "<div>\n",
       "<style scoped>\n",
       "    .dataframe tbody tr th:only-of-type {\n",
       "        vertical-align: middle;\n",
       "    }\n",
       "\n",
       "    .dataframe tbody tr th {\n",
       "        vertical-align: top;\n",
       "    }\n",
       "\n",
       "    .dataframe thead th {\n",
       "        text-align: right;\n",
       "    }\n",
       "</style>\n",
       "<table border=\"1\" class=\"dataframe\">\n",
       "  <thead>\n",
       "    <tr style=\"text-align: right;\">\n",
       "      <th></th>\n",
       "      <th>inn</th>\n",
       "      <th>okr</th>\n",
       "      <th>otv</th>\n",
       "      <th>sch_name</th>\n",
       "    </tr>\n",
       "  </thead>\n",
       "  <tbody>\n",
       "    <tr>\n",
       "      <th>0</th>\n",
       "      <td>7743085543</td>\n",
       "      <td>САО</td>\n",
       "      <td>Рагимова Виктория Олеговна</td>\n",
       "      <td>ГБОУ Спецшкола № 1</td>\n",
       "    </tr>\n",
       "    <tr>\n",
       "      <th>1</th>\n",
       "      <td>7713229928</td>\n",
       "      <td>САО</td>\n",
       "      <td>Горбанева Светлана Васильевна</td>\n",
       "      <td>ГКОУ КШИ № 1</td>\n",
       "    </tr>\n",
       "    <tr>\n",
       "      <th>2</th>\n",
       "      <td>7704271031</td>\n",
       "      <td>ЦАО</td>\n",
       "      <td>Майильян Елена Александровна</td>\n",
       "      <td>ГБПОУ ПТ № 2</td>\n",
       "    </tr>\n",
       "    <tr>\n",
       "      <th>3</th>\n",
       "      <td>7714093099</td>\n",
       "      <td>САО</td>\n",
       "      <td>Горбанева Светлана Васильевна</td>\n",
       "      <td>ГКОУ СКОШИ № 2</td>\n",
       "    </tr>\n",
       "    <tr>\n",
       "      <th>4</th>\n",
       "      <td>7709438340</td>\n",
       "      <td>ЦАО</td>\n",
       "      <td>Майильян Елена Александровна</td>\n",
       "      <td>ГБПОУ КСУ № 3</td>\n",
       "    </tr>\n",
       "    <tr>\n",
       "      <th>...</th>\n",
       "      <td>...</td>\n",
       "      <td>...</td>\n",
       "      <td>...</td>\n",
       "      <td>...</td>\n",
       "    </tr>\n",
       "    <tr>\n",
       "      <th>935</th>\n",
       "      <td>7728113806</td>\n",
       "      <td>NaN</td>\n",
       "      <td>NaN</td>\n",
       "      <td>ИКИ РАН</td>\n",
       "    </tr>\n",
       "    <tr>\n",
       "      <th>936</th>\n",
       "      <td>7728013512</td>\n",
       "      <td>NaN</td>\n",
       "      <td>NaN</td>\n",
       "      <td>ИПУ РАН</td>\n",
       "    </tr>\n",
       "    <tr>\n",
       "      <th>937</th>\n",
       "      <td>7717067481</td>\n",
       "      <td>NaN</td>\n",
       "      <td>NaN</td>\n",
       "      <td>ГБОУ ШОР № 1</td>\n",
       "    </tr>\n",
       "    <tr>\n",
       "      <th>938</th>\n",
       "      <td>7729133548</td>\n",
       "      <td>NaN</td>\n",
       "      <td>NaN</td>\n",
       "      <td>СУНЦ МГУ</td>\n",
       "    </tr>\n",
       "    <tr>\n",
       "      <th>939</th>\n",
       "      <td>7734121555</td>\n",
       "      <td>NaN</td>\n",
       "      <td>NaN</td>\n",
       "      <td>ФГАУ «УИСП» Минобороны России</td>\n",
       "    </tr>\n",
       "  </tbody>\n",
       "</table>\n",
       "<p>940 rows × 4 columns</p>\n",
       "</div>"
      ],
      "text/plain": [
       "            inn  okr                            otv  \\\n",
       "0    7743085543  САО     Рагимова Виктория Олеговна   \n",
       "1    7713229928  САО  Горбанева Светлана Васильевна   \n",
       "2    7704271031  ЦАО   Майильян Елена Александровна   \n",
       "3    7714093099  САО  Горбанева Светлана Васильевна   \n",
       "4    7709438340  ЦАО   Майильян Елена Александровна   \n",
       "..          ...  ...                            ...   \n",
       "935  7728113806  NaN                            NaN   \n",
       "936  7728013512  NaN                            NaN   \n",
       "937  7717067481  NaN                            NaN   \n",
       "938  7729133548  NaN                            NaN   \n",
       "939  7734121555  NaN                            NaN   \n",
       "\n",
       "                          sch_name  \n",
       "0               ГБОУ Спецшкола № 1  \n",
       "1                     ГКОУ КШИ № 1  \n",
       "2                     ГБПОУ ПТ № 2  \n",
       "3                   ГКОУ СКОШИ № 2  \n",
       "4                    ГБПОУ КСУ № 3  \n",
       "..                             ...  \n",
       "935                        ИКИ РАН  \n",
       "936                        ИПУ РАН  \n",
       "937                   ГБОУ ШОР № 1  \n",
       "938                       СУНЦ МГУ  \n",
       "939  ФГАУ «УИСП» Минобороны России  \n",
       "\n",
       "[940 rows x 4 columns]"
      ]
     },
     "execution_count": 8,
     "metadata": {},
     "output_type": "execute_result"
    }
   ],
   "source": [
    "otv = pd.read_excel(path_to_docs + 'Ответственные.xlsx').rename(columns={'инн орг': 'inn', 'округ': 'okr', 'Зарпл. Обслуживание': 'otv', 'Наименование': 'sch_name'})\n",
    "otv = otv[['inn', 'okr', 'otv', 'sch_name']]\n",
    "otv"
   ]
  },
  {
   "cell_type": "code",
   "execution_count": 9,
   "metadata": {},
   "outputs": [
    {
     "data": {
      "text/html": [
       "<div>\n",
       "<style scoped>\n",
       "    .dataframe tbody tr th:only-of-type {\n",
       "        vertical-align: middle;\n",
       "    }\n",
       "\n",
       "    .dataframe tbody tr th {\n",
       "        vertical-align: top;\n",
       "    }\n",
       "\n",
       "    .dataframe thead th {\n",
       "        text-align: right;\n",
       "    }\n",
       "</style>\n",
       "<table border=\"1\" class=\"dataframe\">\n",
       "  <thead>\n",
       "    <tr style=\"text-align: right;\">\n",
       "      <th></th>\n",
       "      <th>snils</th>\n",
       "      <th>fio</th>\n",
       "    </tr>\n",
       "  </thead>\n",
       "  <tbody>\n",
       "    <tr>\n",
       "      <th>0</th>\n",
       "      <td>134-527-811 55</td>\n",
       "      <td>Аиткулова Ильмира Зарифовна</td>\n",
       "    </tr>\n",
       "    <tr>\n",
       "      <th>1</th>\n",
       "      <td>209-532-112 40</td>\n",
       "      <td>Шахова Наталья Николаевна</td>\n",
       "    </tr>\n",
       "    <tr>\n",
       "      <th>2</th>\n",
       "      <td>132-177-301 25</td>\n",
       "      <td>Трясина Дина Львовна</td>\n",
       "    </tr>\n",
       "    <tr>\n",
       "      <th>3</th>\n",
       "      <td>070-440-299 32</td>\n",
       "      <td>Салихова Ольга Васильевна</td>\n",
       "    </tr>\n",
       "    <tr>\n",
       "      <th>4</th>\n",
       "      <td>009-646-095 65</td>\n",
       "      <td>Харькова Оксана Петровна</td>\n",
       "    </tr>\n",
       "    <tr>\n",
       "      <th>...</th>\n",
       "      <td>...</td>\n",
       "      <td>...</td>\n",
       "    </tr>\n",
       "    <tr>\n",
       "      <th>185261</th>\n",
       "      <td>134-606-800 44</td>\n",
       "      <td>Скрипель Александр Фёдорович</td>\n",
       "    </tr>\n",
       "    <tr>\n",
       "      <th>185262</th>\n",
       "      <td>181-087-647 80</td>\n",
       "      <td>Петрова Екатерина Игоревна</td>\n",
       "    </tr>\n",
       "    <tr>\n",
       "      <th>185263</th>\n",
       "      <td>121-018-792 09</td>\n",
       "      <td>Блохина Мария Владимировна</td>\n",
       "    </tr>\n",
       "    <tr>\n",
       "      <th>185264</th>\n",
       "      <td>154-297-412 77</td>\n",
       "      <td>Куликова Елена Сергеевна</td>\n",
       "    </tr>\n",
       "    <tr>\n",
       "      <th>185265</th>\n",
       "      <td>087-635-186 07</td>\n",
       "      <td>Рожкова Ирина Сергеевна</td>\n",
       "    </tr>\n",
       "  </tbody>\n",
       "</table>\n",
       "<p>185266 rows × 2 columns</p>\n",
       "</div>"
      ],
      "text/plain": [
       "                 snils                           fio\n",
       "0       134-527-811 55   Аиткулова Ильмира Зарифовна\n",
       "1       209-532-112 40     Шахова Наталья Николаевна\n",
       "2       132-177-301 25          Трясина Дина Львовна\n",
       "3       070-440-299 32     Салихова Ольга Васильевна\n",
       "4       009-646-095 65      Харькова Оксана Петровна\n",
       "...                ...                           ...\n",
       "185261  134-606-800 44  Скрипель Александр Фёдорович\n",
       "185262  181-087-647 80    Петрова Екатерина Игоревна\n",
       "185263  121-018-792 09    Блохина Мария Владимировна\n",
       "185264  154-297-412 77      Куликова Елена Сергеевна\n",
       "185265  087-635-186 07       Рожкова Ирина Сергеевна\n",
       "\n",
       "[185266 rows x 2 columns]"
      ]
     },
     "execution_count": 9,
     "metadata": {},
     "output_type": "execute_result"
    }
   ],
   "source": [
    "fio = pd.read_excel(path_to_docs + 'ФИО+СНИЛС.xlsx').rename(columns={'СНИЛС': 'snils', 'ФИО': 'fio'})\n",
    "fio"
   ]
  },
  {
   "cell_type": "code",
   "execution_count": 15,
   "metadata": {},
   "outputs": [],
   "source": [
    "pretty_ppl = pd.merge(ppl, fio, how='left', on='snils')\n",
    "pretty_ppl = pd.merge(pretty_ppl, otv, how='left', on='inn')\n",
    "pretty_ppl = pretty_ppl.drop_duplicates(['snils'])"
   ]
  },
  {
   "cell_type": "code",
   "execution_count": 16,
   "metadata": {},
   "outputs": [],
   "source": [
    "print_df(pretty_ppl[['sch_name', 'okr', 'inn', 'fio', 'job_' + months[-1], 'sum_' + months[-1], 'stv_' + months[-1], 'otv']], '200+_' + months[-1] + '_cute')"
   ]
  },
  {
   "cell_type": "code",
   "execution_count": null,
   "metadata": {},
   "outputs": [
    {
     "data": {
      "text/plain": [
       "['Главный бухгалтер',\n",
       " 'Директор',\n",
       " 'Директор филиала',\n",
       " 'Заведующий',\n",
       " 'Заместитель главного бухгалтера',\n",
       " 'Заместитель директора',\n",
       " 'Заместитель начальника',\n",
       " 'Заместитель руководителя',\n",
       " 'Начальник',\n",
       " 'Первый заместитель начальника',\n",
       " 'Первый заместитель руководителя',\n",
       " 'Первый заместитель директора',\n",
       " 'Заместитель начальника - начальник управления',\n",
       " 'Первый проректор',\n",
       " 'Президент',\n",
       " 'Проректор',\n",
       " 'Ректор',\n",
       " 'Руководитель']"
      ]
     },
     "execution_count": 14,
     "metadata": {},
     "output_type": "execute_result"
    }
   ],
   "source": [
    "aup"
   ]
  }
 ],
 "metadata": {
  "interpreter": {
   "hash": "9086a9f3d68dfde60c8c4c50cddae0f31bfdd88b219c176f349b145997fbdd59"
  },
  "kernelspec": {
   "display_name": "Python 3.10.2 64-bit",
   "language": "python",
   "name": "python3"
  },
  "language_info": {
   "codemirror_mode": {
    "name": "ipython",
    "version": 3
   },
   "file_extension": ".py",
   "mimetype": "text/x-python",
   "name": "python",
   "nbconvert_exporter": "python",
   "pygments_lexer": "ipython3",
   "version": "3.10.2"
  },
  "orig_nbformat": 4
 },
 "nbformat": 4,
 "nbformat_minor": 2
}
