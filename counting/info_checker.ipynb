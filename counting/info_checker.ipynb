{
 "cells": [
  {
   "cell_type": "code",
   "execution_count": 1,
   "metadata": {},
   "outputs": [],
   "source": [
    "from openpyxl import Workbook, load_workbook\n",
    "from fuzzywuzzy import process, fuzz\n",
    "import time\n",
    "import pandas as pd\n",
    "import numpy as np"
   ]
  },
  {
   "cell_type": "code",
   "execution_count": 2,
   "metadata": {},
   "outputs": [],
   "source": [
    "from szp_funcs import print_df"
   ]
  },
  {
   "cell_type": "code",
   "execution_count": 4,
   "metadata": {},
   "outputs": [],
   "source": [
    "path_to_dir = 'C:/Users/PetukhovMD/Desktop/Направления и категории/'\n",
    "file = 'новые данные в выгрузках.xlsx'\n",
    "pages = ['job_cat', 'job_direc', 'source']"
   ]
  },
  {
   "cell_type": "code",
   "execution_count": 5,
   "metadata": {},
   "outputs": [],
   "source": [
    "categories = pd.read_excel(path_to_dir + file, sheet_name= pages[0])\n",
    "direction = pd.read_excel(path_to_dir + file, sheet_name= pages[1])\n",
    "source = pd.read_excel(path_to_dir + file, sheet_name= pages[2])"
   ]
  },
  {
   "cell_type": "code",
   "execution_count": 8,
   "metadata": {},
   "outputs": [],
   "source": [
    "jobs_source = source['job'].unique().tolist()\n",
    "jobs_no_direction = source[source['direc'].isna()]['job'].unique().tolist()\n",
    "directions_source = source['direc'].unique().tolist()"
   ]
  },
  {
   "cell_type": "code",
   "execution_count": 7,
   "metadata": {},
   "outputs": [],
   "source": [
    "def matcher(row, look_up, name):\n",
    "    ans = process.extractOne(row[name], look_up, scorer=fuzz.WRatio, score_cutoff=60)\n",
    "    if ans:\n",
    "        return ans[0]\n",
    "    return ans"
   ]
  },
  {
   "cell_type": "code",
   "execution_count": 9,
   "metadata": {},
   "outputs": [],
   "source": [
    "categories['real_job'] = categories.apply(lambda row: matcher(row, jobs_source, 'job'), axis=1)\n",
    "direction['real_job'] = direction.apply(lambda row: matcher(row, jobs_source, 'job'), axis=1)"
   ]
  },
  {
   "cell_type": "code",
   "execution_count": 49,
   "metadata": {},
   "outputs": [],
   "source": [
    "out_cat_by_job = categories.drop('job', axis=1).groupby('real_job').agg({\n",
    "    'job_cat': 'unique'\n",
    "}).reset_index()"
   ]
  },
  {
   "cell_type": "code",
   "execution_count": 44,
   "metadata": {},
   "outputs": [],
   "source": [
    "def to_good_str(row, name):\n",
    "    s = ''\n",
    "    for i in  row[name]:\n",
    "        s += str(i) + '&'\n",
    "    return s[:-1]"
   ]
  },
  {
   "cell_type": "code",
   "execution_count": 50,
   "metadata": {},
   "outputs": [],
   "source": [
    "out_cat_by_job['job_cat_str'] = out_cat_by_job.apply(lambda row: to_good_str(row, 'job_cat'), axis=1)"
   ]
  },
  {
   "cell_type": "code",
   "execution_count": 53,
   "metadata": {},
   "outputs": [],
   "source": [
    "print_df(out_cat_by_job.drop('job_cat', axis=1), path_to_dir + 'категории по должностям.xlsx')"
   ]
  },
  {
   "cell_type": "code",
   "execution_count": 17,
   "metadata": {},
   "outputs": [
    {
     "data": {
      "text/html": [
       "<div>\n",
       "<style scoped>\n",
       "    .dataframe tbody tr th:only-of-type {\n",
       "        vertical-align: middle;\n",
       "    }\n",
       "\n",
       "    .dataframe tbody tr th {\n",
       "        vertical-align: top;\n",
       "    }\n",
       "\n",
       "    .dataframe thead th {\n",
       "        text-align: right;\n",
       "    }\n",
       "</style>\n",
       "<table border=\"1\" class=\"dataframe\">\n",
       "  <thead>\n",
       "    <tr style=\"text-align: right;\">\n",
       "      <th></th>\n",
       "      <th>job</th>\n",
       "      <th>job_direc</th>\n",
       "      <th>real_job</th>\n",
       "    </tr>\n",
       "  </thead>\n",
       "  <tbody>\n",
       "    <tr>\n",
       "      <th>132</th>\n",
       "      <td>Преподаватель</td>\n",
       "      <td>производственной</td>\n",
       "      <td>Преподаватель</td>\n",
       "    </tr>\n",
       "  </tbody>\n",
       "</table>\n",
       "</div>"
      ],
      "text/plain": [
       "               job         job_direc       real_job\n",
       "132  Преподаватель  производственной  Преподаватель"
      ]
     },
     "execution_count": 17,
     "metadata": {},
     "output_type": "execute_result"
    }
   ],
   "source": [
    "direction[(direction['real_job'].isin(jobs_no_direction)) & (direction['job_direc'].isna() == False)]"
   ]
  },
  {
   "cell_type": "code",
   "execution_count": 55,
   "metadata": {},
   "outputs": [],
   "source": [
    "print_df(direction[direction['job_direc'].isin(directions_source + [np.nan]) == False][['real_job', 'job_direc']], path_to_dir + 'некорректные направления по должностям')"
   ]
  },
  {
   "cell_type": "code",
   "execution_count": 15,
   "metadata": {},
   "outputs": [
    {
     "data": {
      "text/html": [
       "<div>\n",
       "<style scoped>\n",
       "    .dataframe tbody tr th:only-of-type {\n",
       "        vertical-align: middle;\n",
       "    }\n",
       "\n",
       "    .dataframe tbody tr th {\n",
       "        vertical-align: top;\n",
       "    }\n",
       "\n",
       "    .dataframe thead th {\n",
       "        text-align: right;\n",
       "    }\n",
       "</style>\n",
       "<table border=\"1\" class=\"dataframe\">\n",
       "  <thead>\n",
       "    <tr style=\"text-align: right;\">\n",
       "      <th></th>\n",
       "      <th>job</th>\n",
       "      <th>job_cat</th>\n",
       "      <th>real_job</th>\n",
       "    </tr>\n",
       "  </thead>\n",
       "  <tbody>\n",
       "    <tr>\n",
       "      <th>0</th>\n",
       "      <td>Преподаватель</td>\n",
       "      <td>Педагогические работники дошкольных образовате...</td>\n",
       "      <td>Преподаватель</td>\n",
       "    </tr>\n",
       "    <tr>\n",
       "      <th>1</th>\n",
       "      <td>Преподаватель</td>\n",
       "      <td>Преподаватели образовательных учреждений СПО</td>\n",
       "      <td>Преподаватель</td>\n",
       "    </tr>\n",
       "    <tr>\n",
       "      <th>2</th>\n",
       "      <td>Библиотекарь</td>\n",
       "      <td>Прочий персонал</td>\n",
       "      <td>Библиотекарь</td>\n",
       "    </tr>\n",
       "    <tr>\n",
       "      <th>3</th>\n",
       "      <td>Специалист</td>\n",
       "      <td>Прочий персонал</td>\n",
       "      <td>Специалист</td>\n",
       "    </tr>\n",
       "    <tr>\n",
       "      <th>4</th>\n",
       "      <td>Педагог-организатор</td>\n",
       "      <td>Педагогические работники образовательных учреж...</td>\n",
       "      <td>Педагог-организатор</td>\n",
       "    </tr>\n",
       "    <tr>\n",
       "      <th>...</th>\n",
       "      <td>...</td>\n",
       "      <td>...</td>\n",
       "      <td>...</td>\n",
       "    </tr>\n",
       "    <tr>\n",
       "      <th>1087</th>\n",
       "      <td>Заместитель начальника Дирекции</td>\n",
       "      <td>Заместители руководителя и руководители структ...</td>\n",
       "      <td>Заместитель начальника</td>\n",
       "    </tr>\n",
       "    <tr>\n",
       "      <th>1088</th>\n",
       "      <td>Консультант в области развития цифровой грамот...</td>\n",
       "      <td>Прочий персонал</td>\n",
       "      <td>Консультант в области развития цифровой грамот...</td>\n",
       "    </tr>\n",
       "    <tr>\n",
       "      <th>1089</th>\n",
       "      <td>Руководитель</td>\n",
       "      <td>Руководитель организации</td>\n",
       "      <td>Руководитель</td>\n",
       "    </tr>\n",
       "    <tr>\n",
       "      <th>1090</th>\n",
       "      <td>Консультант</td>\n",
       "      <td>NaN</td>\n",
       "      <td>Консультант</td>\n",
       "    </tr>\n",
       "    <tr>\n",
       "      <th>1091</th>\n",
       "      <td>Заместитель руководителя</td>\n",
       "      <td>Прочий персонал</td>\n",
       "      <td>Заместитель руководителя</td>\n",
       "    </tr>\n",
       "  </tbody>\n",
       "</table>\n",
       "<p>1092 rows × 3 columns</p>\n",
       "</div>"
      ],
      "text/plain": [
       "                                                    job  \\\n",
       "0                                         Преподаватель   \n",
       "1                                         Преподаватель   \n",
       "2                                          Библиотекарь   \n",
       "3                                            Специалист   \n",
       "4                                   Педагог-организатор   \n",
       "...                                                 ...   \n",
       "1087                    Заместитель начальника Дирекции   \n",
       "1088  Консультант в области развития цифровой грамот...   \n",
       "1089                                       Руководитель   \n",
       "1090                                        Консультант   \n",
       "1091                           Заместитель руководителя   \n",
       "\n",
       "                                                job_cat  \\\n",
       "0     Педагогические работники дошкольных образовате...   \n",
       "1          Преподаватели образовательных учреждений СПО   \n",
       "2                                       Прочий персонал   \n",
       "3                                       Прочий персонал   \n",
       "4     Педагогические работники образовательных учреж...   \n",
       "...                                                 ...   \n",
       "1087  Заместители руководителя и руководители структ...   \n",
       "1088                                    Прочий персонал   \n",
       "1089                           Руководитель организации   \n",
       "1090                                                NaN   \n",
       "1091                                    Прочий персонал   \n",
       "\n",
       "                                               real_job  \n",
       "0                                         Преподаватель  \n",
       "1                                         Преподаватель  \n",
       "2                                          Библиотекарь  \n",
       "3                                            Специалист  \n",
       "4                                   Педагог-организатор  \n",
       "...                                                 ...  \n",
       "1087                             Заместитель начальника  \n",
       "1088  Консультант в области развития цифровой грамот...  \n",
       "1089                                       Руководитель  \n",
       "1090                                        Консультант  \n",
       "1091                           Заместитель руководителя  \n",
       "\n",
       "[1092 rows x 3 columns]"
      ]
     },
     "execution_count": 15,
     "metadata": {},
     "output_type": "execute_result"
    }
   ],
   "source": [
    "categories"
   ]
  },
  {
   "cell_type": "code",
   "execution_count": 11,
   "metadata": {},
   "outputs": [
    {
     "data": {
      "text/html": [
       "<div>\n",
       "<style scoped>\n",
       "    .dataframe tbody tr th:only-of-type {\n",
       "        vertical-align: middle;\n",
       "    }\n",
       "\n",
       "    .dataframe tbody tr th {\n",
       "        vertical-align: top;\n",
       "    }\n",
       "\n",
       "    .dataframe thead th {\n",
       "        text-align: right;\n",
       "    }\n",
       "</style>\n",
       "<table border=\"1\" class=\"dataframe\">\n",
       "  <thead>\n",
       "    <tr style=\"text-align: right;\">\n",
       "      <th></th>\n",
       "      <th>job</th>\n",
       "      <th>job_direc</th>\n",
       "      <th>real_job</th>\n",
       "    </tr>\n",
       "  </thead>\n",
       "  <tbody>\n",
       "    <tr>\n",
       "      <th>0</th>\n",
       "      <td>Преподаватель</td>\n",
       "      <td>NaN</td>\n",
       "      <td>Преподаватель</td>\n",
       "    </tr>\n",
       "    <tr>\n",
       "      <th>1</th>\n",
       "      <td>Библиотекарь</td>\n",
       "      <td>NaN</td>\n",
       "      <td>Библиотекарь</td>\n",
       "    </tr>\n",
       "    <tr>\n",
       "      <th>2</th>\n",
       "      <td>Специалист</td>\n",
       "      <td>NaN</td>\n",
       "      <td>Специалист</td>\n",
       "    </tr>\n",
       "    <tr>\n",
       "      <th>3</th>\n",
       "      <td>Педагог-организатор</td>\n",
       "      <td>NaN</td>\n",
       "      <td>Педагог-организатор</td>\n",
       "    </tr>\n",
       "    <tr>\n",
       "      <th>4</th>\n",
       "      <td>Методист</td>\n",
       "      <td>NaN</td>\n",
       "      <td>Методист</td>\n",
       "    </tr>\n",
       "    <tr>\n",
       "      <th>...</th>\n",
       "      <td>...</td>\n",
       "      <td>...</td>\n",
       "      <td>...</td>\n",
       "    </tr>\n",
       "    <tr>\n",
       "      <th>736</th>\n",
       "      <td>Переводчик-дактилолог (сурдопереводчик)</td>\n",
       "      <td>NaN</td>\n",
       "      <td>Переводчик-дактилолог</td>\n",
       "    </tr>\n",
       "    <tr>\n",
       "      <th>737</th>\n",
       "      <td>Секретарь по учебной части</td>\n",
       "      <td>NaN</td>\n",
       "      <td>Секретарь учебной части</td>\n",
       "    </tr>\n",
       "    <tr>\n",
       "      <th>738</th>\n",
       "      <td>Заместитель начальника Дирекции</td>\n",
       "      <td>NaN</td>\n",
       "      <td>Заместитель начальника</td>\n",
       "    </tr>\n",
       "    <tr>\n",
       "      <th>739</th>\n",
       "      <td>Консультант в области развития цифровой грамот...</td>\n",
       "      <td>NaN</td>\n",
       "      <td>Консультант в области развития цифровой грамот...</td>\n",
       "    </tr>\n",
       "    <tr>\n",
       "      <th>740</th>\n",
       "      <td>Консультант</td>\n",
       "      <td>NaN</td>\n",
       "      <td>Консультант</td>\n",
       "    </tr>\n",
       "  </tbody>\n",
       "</table>\n",
       "<p>741 rows × 3 columns</p>\n",
       "</div>"
      ],
      "text/plain": [
       "                                                   job job_direc  \\\n",
       "0                                        Преподаватель       NaN   \n",
       "1                                         Библиотекарь       NaN   \n",
       "2                                           Специалист       NaN   \n",
       "3                                  Педагог-организатор       NaN   \n",
       "4                                             Методист       NaN   \n",
       "..                                                 ...       ...   \n",
       "736            Переводчик-дактилолог (сурдопереводчик)       NaN   \n",
       "737                         Секретарь по учебной части       NaN   \n",
       "738                    Заместитель начальника Дирекции       NaN   \n",
       "739  Консультант в области развития цифровой грамот...       NaN   \n",
       "740                                        Консультант       NaN   \n",
       "\n",
       "                                              real_job  \n",
       "0                                        Преподаватель  \n",
       "1                                         Библиотекарь  \n",
       "2                                           Специалист  \n",
       "3                                  Педагог-организатор  \n",
       "4                                             Методист  \n",
       "..                                                 ...  \n",
       "736                              Переводчик-дактилолог  \n",
       "737                            Секретарь учебной части  \n",
       "738                             Заместитель начальника  \n",
       "739  Консультант в области развития цифровой грамот...  \n",
       "740                                        Консультант  \n",
       "\n",
       "[741 rows x 3 columns]"
      ]
     },
     "execution_count": 11,
     "metadata": {},
     "output_type": "execute_result"
    }
   ],
   "source": [
    "direction"
   ]
  }
 ],
 "metadata": {
  "interpreter": {
   "hash": "074f563457da44d7ed57bdc37c43fd9dc993318bca70a60ea87af59e9047f938"
  },
  "kernelspec": {
   "display_name": "Python 3.10.2 64-bit",
   "language": "python",
   "name": "python3"
  },
  "language_info": {
   "codemirror_mode": {
    "name": "ipython",
    "version": 3
   },
   "file_extension": ".py",
   "mimetype": "text/x-python",
   "name": "python",
   "nbconvert_exporter": "python",
   "pygments_lexer": "ipython3",
   "version": "3.10.2"
  },
  "orig_nbformat": 4
 },
 "nbformat": 4,
 "nbformat_minor": 2
}
