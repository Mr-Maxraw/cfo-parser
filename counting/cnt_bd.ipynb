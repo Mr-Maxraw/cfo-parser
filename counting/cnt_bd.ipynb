{
 "cells": [
  {
   "cell_type": "code",
   "execution_count": 1,
   "metadata": {},
   "outputs": [],
   "source": [
    "from openpyxl import Workbook, load_workbook\n",
    "import pandas as pd\n",
    "from openpyxl.utils.dataframe import dataframe_to_rows as df_to_row\n",
    "import numpy as np"
   ]
  },
  {
   "cell_type": "code",
   "execution_count": null,
   "metadata": {},
   "outputs": [],
   "source": [
    "path_to_data = 'C:/Users/PetukhovMD/Desktop/февраль/'\n",
    "path_to_docs = 'C:/Users/PetukhovMD/Desktop/справочники/'\n",
    "months = ['feb.xlsx', 'jan.xlsx']\n",
    "sheet = 'Sheet'"
   ]
  },
  {
   "cell_type": "code",
   "execution_count": 2,
   "metadata": {},
   "outputs": [],
   "source": [
    "def print_df(df, name):\n",
    "    wb = Workbook()\n",
    "    ws = wb.active\n",
    "    for  i in df_to_row(df, header=True):\n",
    "        ws.append(i)\n",
    "    wb.save(name + '.xlsx')"
   ]
  },
  {
   "cell_type": "code",
   "execution_count": 3,
   "metadata": {},
   "outputs": [],
   "source": [
    "def to_double(row, f_name):\n",
    "    if type(row[f_name]) is float:\n",
    "        return row[f_name] \n",
    "    t = str(row[f_name]).split(',')\n",
    "    if t[0] == 'nan':\n",
    "        return 0.0\n",
    "    return float(t[0]+'.'+t[1])"
   ]
  }
 ],
 "metadata": {
  "interpreter": {
   "hash": "9086a9f3d68dfde60c8c4c50cddae0f31bfdd88b219c176f349b145997fbdd59"
  },
  "kernelspec": {
   "display_name": "Python 3.10.2 64-bit",
   "language": "python",
   "name": "python3"
  },
  "language_info": {
   "codemirror_mode": {
    "name": "ipython",
    "version": 3
   },
   "file_extension": ".py",
   "mimetype": "text/x-python",
   "name": "python",
   "nbconvert_exporter": "python",
   "pygments_lexer": "ipython3",
   "version": "3.10.2"
  },
  "orig_nbformat": 4
 },
 "nbformat": 4,
 "nbformat_minor": 2
}
