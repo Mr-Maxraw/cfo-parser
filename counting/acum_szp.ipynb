{
 "cells": [
  {
   "cell_type": "code",
   "execution_count": 11,
   "metadata": {},
   "outputs": [],
   "source": [
    "from openpyxl import Workbook, load_workbook\n",
    "import pandas as pd\n",
    "from openpyxl.utils.dataframe import dataframe_to_rows as df_to_row\n",
    "import numpy as np"
   ]
  },
  {
   "cell_type": "code",
   "execution_count": 12,
   "metadata": {},
   "outputs": [],
   "source": [
    "months = ['jan', 'feb', 'mar', 'apr']"
   ]
  },
  {
   "cell_type": "code",
   "execution_count": 13,
   "metadata": {},
   "outputs": [],
   "source": [
    "from szp_funcs import print_df, load_month, custom_create_res"
   ]
  },
  {
   "cell_type": "code",
   "execution_count": 14,
   "metadata": {},
   "outputs": [],
   "source": [
    "res = custom_create_res(months, load_month)"
   ]
  },
  {
   "cell_type": "code",
   "execution_count": 15,
   "metadata": {},
   "outputs": [
    {
     "data": {
      "text/plain": [
       "Index(['inn', 'snils', 'sum_jan', 'job_jan', 'day_jan', 'type_jan', 'stv_jan',\n",
       "       'status_jan', 'status_pref_jan', 'sum_feb', 'job_feb', 'day_feb',\n",
       "       'type_feb', 'stv_feb', 'status_feb', 'status_pref_feb', 'sum_mar',\n",
       "       'job_mar', 'day_mar', 'type_mar', 'stv_mar', 'status_mar',\n",
       "       'status_pref_mar', 'sum_apr', 'job_apr', 'day_apr', 'type_apr',\n",
       "       'stv_apr', 'status_apr', 'status_pref_apr', 'wday_apr', 'nday_apr'],\n",
       "      dtype='object')"
      ]
     },
     "execution_count": 15,
     "metadata": {},
     "output_type": "execute_result"
    }
   ],
   "source": [
    "res.columns"
   ]
  },
  {
   "cell_type": "code",
   "execution_count": 16,
   "metadata": {},
   "outputs": [],
   "source": [
    "def fill_sum(row, month):\n",
    "    if row['stv_' + month] < 1:\n",
    "        return np.nan\n",
    "    return row['sum_' + month]"
   ]
  },
  {
   "cell_type": "code",
   "execution_count": 17,
   "metadata": {},
   "outputs": [],
   "source": [
    "for month in months:\n",
    "    res['sum_' + month] = res.apply(lambda row: fill_sum(row, month), axis=1)"
   ]
  },
  {
   "cell_type": "code",
   "execution_count": 18,
   "metadata": {},
   "outputs": [],
   "source": [
    "print_df(res, 'Свод для сзп по ' + months[-1])"
   ]
  },
  {
   "cell_type": "code",
   "execution_count": 22,
   "metadata": {},
   "outputs": [],
   "source": [
    "print_df(pd.DataFrame(res['job_' + months[-1]].unique()), 'должности ' + months[-1])"
   ]
  }
 ],
 "metadata": {
  "interpreter": {
   "hash": "074f563457da44d7ed57bdc37c43fd9dc993318bca70a60ea87af59e9047f938"
  },
  "kernelspec": {
   "display_name": "Python 3.10.2 64-bit",
   "language": "python",
   "name": "python3"
  },
  "language_info": {
   "codemirror_mode": {
    "name": "ipython",
    "version": 3
   },
   "file_extension": ".py",
   "mimetype": "text/x-python",
   "name": "python",
   "nbconvert_exporter": "python",
   "pygments_lexer": "ipython3",
   "version": "3.10.2"
  },
  "orig_nbformat": 4
 },
 "nbformat": 4,
 "nbformat_minor": 2
}
