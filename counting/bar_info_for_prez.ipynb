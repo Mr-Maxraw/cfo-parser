{
 "cells": [
  {
   "cell_type": "code",
   "execution_count": 1,
   "metadata": {},
   "outputs": [],
   "source": [
    "from openpyxl import Workbook, load_workbook\n",
    "import pandas as pd\n",
    "from openpyxl.utils.dataframe import dataframe_to_rows as df_to_row\n",
    "import numpy as np\n",
    "from pathlib import Path"
   ]
  },
  {
   "cell_type": "code",
   "execution_count": 7,
   "metadata": {},
   "outputs": [],
   "source": [
    "from szp_funcs import print_df, path_to_data, szp_teach, szp_vosp, months_year, custom_create_res, load_month"
   ]
  },
  {
   "cell_type": "code",
   "execution_count": 3,
   "metadata": {},
   "outputs": [],
   "source": [
    "months = months_year[:6]\n",
    "path_to_dir = str(Path().absolute()) + '\\\\Гребенки ' + months[-1] + '\\\\'"
   ]
  },
  {
   "cell_type": "code",
   "execution_count": 4,
   "metadata": {},
   "outputs": [
    {
     "data": {
      "text/plain": [
       "'c:\\\\Users\\\\PetukhovMD\\\\Documents\\\\code\\\\montly reports\\\\counting\\\\Гребенки jun\\\\'"
      ]
     },
     "execution_count": 4,
     "metadata": {},
     "output_type": "execute_result"
    }
   ],
   "source": [
    "path_to_dir"
   ]
  },
  {
   "cell_type": "code",
   "execution_count": 8,
   "metadata": {},
   "outputs": [],
   "source": [
    "temp = custom_create_res(months, load_month)"
   ]
  },
  {
   "cell_type": "code",
   "execution_count": 9,
   "metadata": {},
   "outputs": [],
   "source": [
    "temp['szp_teach'] = temp.apply(lambda row: szp_teach(row, months), axis=1)"
   ]
  },
  {
   "cell_type": "code",
   "execution_count": 64,
   "metadata": {},
   "outputs": [],
   "source": [
    "def szp_vosp(row, months, vosp = ['Старший воспитатель', 'Воспитатель']):\n",
    "    sum_szp = 0\n",
    "    cnt = 0\n",
    "    for month in months:\n",
    "        if row['job_' + month] in vosp:\n",
    "            cnt += 1\n",
    "            sum_szp += row['sum_' + month]\n",
    "    if cnt == 0:\n",
    "        return np.nan\n",
    "    return sum_szp / cnt"
   ]
  },
  {
   "cell_type": "code",
   "execution_count": 27,
   "metadata": {},
   "outputs": [],
   "source": [
    "vosps = pd.read_excel(path_to_data + 'jun_kadr.xlsx')"
   ]
  },
  {
   "cell_type": "code",
   "execution_count": 31,
   "metadata": {},
   "outputs": [
    {
     "ename": "AttributeError",
     "evalue": "'list' object has no attribute 'job'",
     "output_type": "error",
     "traceback": [
      "\u001b[1;31m---------------------------------------------------------------------------\u001b[0m",
      "\u001b[1;31mAttributeError\u001b[0m                            Traceback (most recent call last)",
      "\u001b[1;32mc:\\Users\\PetukhovMD\\Documents\\code\\montly reports\\counting\\bar_info_for_prez.ipynb Cell 9'\u001b[0m in \u001b[0;36m<cell line: 2>\u001b[1;34m()\u001b[0m\n\u001b[0;32m      <a href='vscode-notebook-cell:/c%3A/Users/PetukhovMD/Documents/code/montly%20reports/counting/bar_info_for_prez.ipynb#ch0000024?line=0'>1</a>\u001b[0m vosp \u001b[39m=\u001b[39m [\u001b[39m'\u001b[39m\u001b[39mСтарший воспитатель\u001b[39m\u001b[39m'\u001b[39m, \u001b[39m'\u001b[39m\u001b[39mВоспитатель\u001b[39m\u001b[39m'\u001b[39m]\n\u001b[1;32m----> <a href='vscode-notebook-cell:/c%3A/Users/PetukhovMD/Documents/code/montly%20reports/counting/bar_info_for_prez.ipynb#ch0000024?line=1'>2</a>\u001b[0m vosps \u001b[39m=\u001b[39m vosps[vosps\u001b[39m.\u001b[39;49mjob\u001b[39m.\u001b[39misin(vosp)][\u001b[39m'\u001b[39m\u001b[39msnils\u001b[39m\u001b[39m'\u001b[39m]\u001b[39m.\u001b[39mto_list()\n",
      "\u001b[1;31mAttributeError\u001b[0m: 'list' object has no attribute 'job'"
     ]
    }
   ],
   "source": [
    "vosp = ['Старший воспитатель', 'Воспитатель']\n",
    "vosps = vosps[vosps.job.isin(vosp)]['snils'].to_list()"
   ]
  },
  {
   "cell_type": "code",
   "execution_count": 65,
   "metadata": {},
   "outputs": [],
   "source": [
    "temp['szp_vosp'] = temp.apply(lambda row: szp_vosp(row, months), axis=1)"
   ]
  },
  {
   "cell_type": "code",
   "execution_count": 33,
   "metadata": {},
   "outputs": [
    {
     "data": {
      "text/html": [
       "<div>\n",
       "<style scoped>\n",
       "    .dataframe tbody tr th:only-of-type {\n",
       "        vertical-align: middle;\n",
       "    }\n",
       "\n",
       "    .dataframe tbody tr th {\n",
       "        vertical-align: top;\n",
       "    }\n",
       "\n",
       "    .dataframe thead th {\n",
       "        text-align: right;\n",
       "    }\n",
       "</style>\n",
       "<table border=\"1\" class=\"dataframe\">\n",
       "  <thead>\n",
       "    <tr style=\"text-align: right;\">\n",
       "      <th></th>\n",
       "      <th>inn</th>\n",
       "      <th>snils</th>\n",
       "      <th>sum_jan</th>\n",
       "      <th>sum_all_jan</th>\n",
       "      <th>type_jan</th>\n",
       "      <th>stv_jan</th>\n",
       "      <th>status_jan</th>\n",
       "      <th>status_pref_jan</th>\n",
       "      <th>wday_jan</th>\n",
       "      <th>nday_jan</th>\n",
       "      <th>...</th>\n",
       "      <th>status_pref_jun</th>\n",
       "      <th>wday_jun</th>\n",
       "      <th>nday_jun</th>\n",
       "      <th>spec_jun</th>\n",
       "      <th>day_jun</th>\n",
       "      <th>job_jun</th>\n",
       "      <th>szp_teach</th>\n",
       "      <th>szp_vosp</th>\n",
       "      <th>teach_grp</th>\n",
       "      <th>vosp_grp</th>\n",
       "    </tr>\n",
       "  </thead>\n",
       "  <tbody>\n",
       "    <tr>\n",
       "      <th>0</th>\n",
       "      <td>5003021368</td>\n",
       "      <td>001-171-362 75</td>\n",
       "      <td>51468.76</td>\n",
       "      <td>51468.76</td>\n",
       "      <td>Основное место работы</td>\n",
       "      <td>1.0</td>\n",
       "      <td>Болезнь</td>\n",
       "      <td>Работа</td>\n",
       "      <td>11.0</td>\n",
       "      <td>16.0</td>\n",
       "      <td>...</td>\n",
       "      <td>Работа</td>\n",
       "      <td>3.0</td>\n",
       "      <td>21.0</td>\n",
       "      <td>NaN</td>\n",
       "      <td>0.0</td>\n",
       "      <td>Помощник воспитателя</td>\n",
       "      <td>NaN</td>\n",
       "      <td>NaN</td>\n",
       "      <td>NaN</td>\n",
       "      <td>NaN</td>\n",
       "    </tr>\n",
       "    <tr>\n",
       "      <th>1</th>\n",
       "      <td>5003021368</td>\n",
       "      <td>001-191-281 85</td>\n",
       "      <td>106626.88</td>\n",
       "      <td>106626.88</td>\n",
       "      <td>Основное место работы</td>\n",
       "      <td>1.0</td>\n",
       "      <td>Работа</td>\n",
       "      <td>Работа</td>\n",
       "      <td>16.0</td>\n",
       "      <td>16.0</td>\n",
       "      <td>...</td>\n",
       "      <td>NaN</td>\n",
       "      <td>NaN</td>\n",
       "      <td>NaN</td>\n",
       "      <td>NaN</td>\n",
       "      <td>NaN</td>\n",
       "      <td>NaN</td>\n",
       "      <td>NaN</td>\n",
       "      <td>NaN</td>\n",
       "      <td>NaN</td>\n",
       "      <td>NaN</td>\n",
       "    </tr>\n",
       "    <tr>\n",
       "      <th>2</th>\n",
       "      <td>5003021368</td>\n",
       "      <td>001-244-107 65</td>\n",
       "      <td>109394.87</td>\n",
       "      <td>109394.87</td>\n",
       "      <td>Основное место работы</td>\n",
       "      <td>1.0</td>\n",
       "      <td>Работа</td>\n",
       "      <td>Работа</td>\n",
       "      <td>16.0</td>\n",
       "      <td>16.0</td>\n",
       "      <td>...</td>\n",
       "      <td>Отсутствие с сохранением оплаты</td>\n",
       "      <td>13.0</td>\n",
       "      <td>21.0</td>\n",
       "      <td>начальных классов</td>\n",
       "      <td>0.0</td>\n",
       "      <td>Учитель</td>\n",
       "      <td>112744.328333</td>\n",
       "      <td>NaN</td>\n",
       "      <td>110-120</td>\n",
       "      <td>NaN</td>\n",
       "    </tr>\n",
       "    <tr>\n",
       "      <th>3</th>\n",
       "      <td>5003021368</td>\n",
       "      <td>001-263-234 77</td>\n",
       "      <td>74520.00</td>\n",
       "      <td>74520.00</td>\n",
       "      <td>Основное место работы</td>\n",
       "      <td>1.0</td>\n",
       "      <td>Работа</td>\n",
       "      <td>Работа</td>\n",
       "      <td>16.0</td>\n",
       "      <td>16.0</td>\n",
       "      <td>...</td>\n",
       "      <td>NaN</td>\n",
       "      <td>NaN</td>\n",
       "      <td>NaN</td>\n",
       "      <td>NaN</td>\n",
       "      <td>NaN</td>\n",
       "      <td>NaN</td>\n",
       "      <td>NaN</td>\n",
       "      <td>NaN</td>\n",
       "      <td>NaN</td>\n",
       "      <td>NaN</td>\n",
       "    </tr>\n",
       "    <tr>\n",
       "      <th>4</th>\n",
       "      <td>5003021368</td>\n",
       "      <td>001-322-594 80</td>\n",
       "      <td>83013.52</td>\n",
       "      <td>83013.52</td>\n",
       "      <td>Основное место работы</td>\n",
       "      <td>1.0</td>\n",
       "      <td>Работа</td>\n",
       "      <td>Работа</td>\n",
       "      <td>17.0</td>\n",
       "      <td>16.0</td>\n",
       "      <td>...</td>\n",
       "      <td>Работа</td>\n",
       "      <td>21.0</td>\n",
       "      <td>21.0</td>\n",
       "      <td>NaN</td>\n",
       "      <td>1.0</td>\n",
       "      <td>Специалист</td>\n",
       "      <td>NaN</td>\n",
       "      <td>NaN</td>\n",
       "      <td>NaN</td>\n",
       "      <td>NaN</td>\n",
       "    </tr>\n",
       "    <tr>\n",
       "      <th>...</th>\n",
       "      <td>...</td>\n",
       "      <td>...</td>\n",
       "      <td>...</td>\n",
       "      <td>...</td>\n",
       "      <td>...</td>\n",
       "      <td>...</td>\n",
       "      <td>...</td>\n",
       "      <td>...</td>\n",
       "      <td>...</td>\n",
       "      <td>...</td>\n",
       "      <td>...</td>\n",
       "      <td>...</td>\n",
       "      <td>...</td>\n",
       "      <td>...</td>\n",
       "      <td>...</td>\n",
       "      <td>...</td>\n",
       "      <td>...</td>\n",
       "      <td>...</td>\n",
       "      <td>...</td>\n",
       "      <td>...</td>\n",
       "      <td>...</td>\n",
       "    </tr>\n",
       "    <tr>\n",
       "      <th>171488</th>\n",
       "      <td>9718071371</td>\n",
       "      <td>144-210-752 18</td>\n",
       "      <td>NaN</td>\n",
       "      <td>NaN</td>\n",
       "      <td>NaN</td>\n",
       "      <td>NaN</td>\n",
       "      <td>NaN</td>\n",
       "      <td>NaN</td>\n",
       "      <td>NaN</td>\n",
       "      <td>NaN</td>\n",
       "      <td>...</td>\n",
       "      <td>NaN</td>\n",
       "      <td>17.0</td>\n",
       "      <td>17.0</td>\n",
       "      <td>NaN</td>\n",
       "      <td>1.0</td>\n",
       "      <td>Бухгалтер</td>\n",
       "      <td>NaN</td>\n",
       "      <td>NaN</td>\n",
       "      <td>NaN</td>\n",
       "      <td>NaN</td>\n",
       "    </tr>\n",
       "    <tr>\n",
       "      <th>171489</th>\n",
       "      <td>9718071371</td>\n",
       "      <td>145-941-023 60</td>\n",
       "      <td>NaN</td>\n",
       "      <td>NaN</td>\n",
       "      <td>NaN</td>\n",
       "      <td>NaN</td>\n",
       "      <td>NaN</td>\n",
       "      <td>NaN</td>\n",
       "      <td>NaN</td>\n",
       "      <td>NaN</td>\n",
       "      <td>...</td>\n",
       "      <td>Работа</td>\n",
       "      <td>NaN</td>\n",
       "      <td>NaN</td>\n",
       "      <td>NaN</td>\n",
       "      <td>0.0</td>\n",
       "      <td>Учитель</td>\n",
       "      <td>30000.000000</td>\n",
       "      <td>NaN</td>\n",
       "      <td>0-80</td>\n",
       "      <td>NaN</td>\n",
       "    </tr>\n",
       "    <tr>\n",
       "      <th>171490</th>\n",
       "      <td>9718071371</td>\n",
       "      <td>163-839-219 93</td>\n",
       "      <td>NaN</td>\n",
       "      <td>NaN</td>\n",
       "      <td>NaN</td>\n",
       "      <td>NaN</td>\n",
       "      <td>NaN</td>\n",
       "      <td>NaN</td>\n",
       "      <td>NaN</td>\n",
       "      <td>NaN</td>\n",
       "      <td>...</td>\n",
       "      <td>NaN</td>\n",
       "      <td>17.0</td>\n",
       "      <td>17.0</td>\n",
       "      <td>NaN</td>\n",
       "      <td>1.0</td>\n",
       "      <td>Бухгалтер</td>\n",
       "      <td>NaN</td>\n",
       "      <td>NaN</td>\n",
       "      <td>NaN</td>\n",
       "      <td>NaN</td>\n",
       "    </tr>\n",
       "    <tr>\n",
       "      <th>171491</th>\n",
       "      <td>9718071371</td>\n",
       "      <td>168-147-261 85</td>\n",
       "      <td>NaN</td>\n",
       "      <td>NaN</td>\n",
       "      <td>NaN</td>\n",
       "      <td>NaN</td>\n",
       "      <td>NaN</td>\n",
       "      <td>NaN</td>\n",
       "      <td>NaN</td>\n",
       "      <td>NaN</td>\n",
       "      <td>...</td>\n",
       "      <td>Работа</td>\n",
       "      <td>NaN</td>\n",
       "      <td>NaN</td>\n",
       "      <td>NaN</td>\n",
       "      <td>0.0</td>\n",
       "      <td>Учитель</td>\n",
       "      <td>30000.000000</td>\n",
       "      <td>NaN</td>\n",
       "      <td>0-80</td>\n",
       "      <td>NaN</td>\n",
       "    </tr>\n",
       "    <tr>\n",
       "      <th>171492</th>\n",
       "      <td>9718071371</td>\n",
       "      <td>216-479-337 84</td>\n",
       "      <td>NaN</td>\n",
       "      <td>NaN</td>\n",
       "      <td>NaN</td>\n",
       "      <td>NaN</td>\n",
       "      <td>NaN</td>\n",
       "      <td>NaN</td>\n",
       "      <td>NaN</td>\n",
       "      <td>NaN</td>\n",
       "      <td>...</td>\n",
       "      <td>Работа</td>\n",
       "      <td>17.0</td>\n",
       "      <td>21.0</td>\n",
       "      <td>NaN</td>\n",
       "      <td>0.0</td>\n",
       "      <td>ведущий Бухгалтер</td>\n",
       "      <td>NaN</td>\n",
       "      <td>NaN</td>\n",
       "      <td>NaN</td>\n",
       "      <td>NaN</td>\n",
       "    </tr>\n",
       "  </tbody>\n",
       "</table>\n",
       "<p>171493 rows × 72 columns</p>\n",
       "</div>"
      ],
      "text/plain": [
       "               inn           snils    sum_jan  sum_all_jan  \\\n",
       "0       5003021368  001-171-362 75   51468.76     51468.76   \n",
       "1       5003021368  001-191-281 85  106626.88    106626.88   \n",
       "2       5003021368  001-244-107 65  109394.87    109394.87   \n",
       "3       5003021368  001-263-234 77   74520.00     74520.00   \n",
       "4       5003021368  001-322-594 80   83013.52     83013.52   \n",
       "...            ...             ...        ...          ...   \n",
       "171488  9718071371  144-210-752 18        NaN          NaN   \n",
       "171489  9718071371  145-941-023 60        NaN          NaN   \n",
       "171490  9718071371  163-839-219 93        NaN          NaN   \n",
       "171491  9718071371  168-147-261 85        NaN          NaN   \n",
       "171492  9718071371  216-479-337 84        NaN          NaN   \n",
       "\n",
       "                     type_jan  stv_jan status_jan status_pref_jan  wday_jan  \\\n",
       "0       Основное место работы      1.0    Болезнь          Работа      11.0   \n",
       "1       Основное место работы      1.0     Работа          Работа      16.0   \n",
       "2       Основное место работы      1.0     Работа          Работа      16.0   \n",
       "3       Основное место работы      1.0     Работа          Работа      16.0   \n",
       "4       Основное место работы      1.0     Работа          Работа      17.0   \n",
       "...                       ...      ...        ...             ...       ...   \n",
       "171488                    NaN      NaN        NaN             NaN       NaN   \n",
       "171489                    NaN      NaN        NaN             NaN       NaN   \n",
       "171490                    NaN      NaN        NaN             NaN       NaN   \n",
       "171491                    NaN      NaN        NaN             NaN       NaN   \n",
       "171492                    NaN      NaN        NaN             NaN       NaN   \n",
       "\n",
       "        nday_jan  ...                  status_pref_jun  wday_jun nday_jun  \\\n",
       "0           16.0  ...                           Работа       3.0     21.0   \n",
       "1           16.0  ...                              NaN       NaN      NaN   \n",
       "2           16.0  ...  Отсутствие с сохранением оплаты      13.0     21.0   \n",
       "3           16.0  ...                              NaN       NaN      NaN   \n",
       "4           16.0  ...                           Работа      21.0     21.0   \n",
       "...          ...  ...                              ...       ...      ...   \n",
       "171488       NaN  ...                              NaN      17.0     17.0   \n",
       "171489       NaN  ...                           Работа       NaN      NaN   \n",
       "171490       NaN  ...                              NaN      17.0     17.0   \n",
       "171491       NaN  ...                           Работа       NaN      NaN   \n",
       "171492       NaN  ...                           Работа      17.0     21.0   \n",
       "\n",
       "                 spec_jun  day_jun               job_jun      szp_teach  \\\n",
       "0                     NaN      0.0  Помощник воспитателя            NaN   \n",
       "1                     NaN      NaN                   NaN            NaN   \n",
       "2       начальных классов      0.0               Учитель  112744.328333   \n",
       "3                     NaN      NaN                   NaN            NaN   \n",
       "4                     NaN      1.0            Специалист            NaN   \n",
       "...                   ...      ...                   ...            ...   \n",
       "171488                NaN      1.0             Бухгалтер            NaN   \n",
       "171489                NaN      0.0               Учитель   30000.000000   \n",
       "171490                NaN      1.0             Бухгалтер            NaN   \n",
       "171491                NaN      0.0               Учитель   30000.000000   \n",
       "171492                NaN      0.0     ведущий Бухгалтер            NaN   \n",
       "\n",
       "       szp_vosp teach_grp  vosp_grp  \n",
       "0           NaN       NaN       NaN  \n",
       "1           NaN       NaN       NaN  \n",
       "2           NaN   110-120       NaN  \n",
       "3           NaN       NaN       NaN  \n",
       "4           NaN       NaN       NaN  \n",
       "...         ...       ...       ...  \n",
       "171488      NaN       NaN       NaN  \n",
       "171489      NaN      0-80       NaN  \n",
       "171490      NaN       NaN       NaN  \n",
       "171491      NaN      0-80       NaN  \n",
       "171492      NaN       NaN       NaN  \n",
       "\n",
       "[171493 rows x 72 columns]"
      ]
     },
     "execution_count": 33,
     "metadata": {},
     "output_type": "execute_result"
    }
   ],
   "source": [
    "temp"
   ]
  },
  {
   "cell_type": "code",
   "execution_count": 55,
   "metadata": {},
   "outputs": [],
   "source": [
    "buckets_teach_old = [(0, 80), (80, 90), (90, 100), (100, 110), (110, 120), (120, 130), (130, 140), (140, 150), (150, 1000)]\n",
    "buckets_teach_new = [(0, 90), (90, 100), (100, 110), (110, 120), (120, 130), (130, 140), (140, 150), (150, 1000)]\n",
    "buckets_vosp_old = [(0, 50), (50, 60), (60, 70), (70, 80), (80, 90), (90, 100), (100, 110), (110, 120), (120, 130), (130, 140), (140, 150), (150, 1000)]\n",
    "buckets_vosp_new = [(0, 60), (60, 80), (80, 100), (100, 110), (110, 120), (120, 130), (130, 140), (140, 150), (150, 1000)]\n",
    "teach_szp_levels_old = {}\n",
    "teach_szp_levels_new = {}\n",
    "vosp_szp_levels_old = {}\n",
    "vosp_szp_levels_new = {}"
   ]
  },
  {
   "cell_type": "code",
   "execution_count": 35,
   "metadata": {},
   "outputs": [],
   "source": [
    "def teach_szp_grp(row):\n",
    "    for bucket in buckets_teach_old:\n",
    "        if (row['szp_teach'] >= (bucket[0]*1000)) and (row['szp_teach'] < (bucket[1]*1000)):\n",
    "            return str(bucket[0]) + '-' + str(bucket[1])\n",
    "    return np.nan"
   ]
  },
  {
   "cell_type": "code",
   "execution_count": 36,
   "metadata": {},
   "outputs": [],
   "source": [
    "def vosp_szp_grp(row):\n",
    "    for bucket in buckets_vosp_old:\n",
    "        if (row['szp_vosp'] >= bucket[0]*1000) and (row['szp_vosp'] < bucket[1]*1000):\n",
    "            return str(bucket[0]) + '-' + str(bucket[1])\n",
    "    return np.nan"
   ]
  },
  {
   "cell_type": "code",
   "execution_count": 56,
   "metadata": {},
   "outputs": [
    {
     "data": {
      "text/plain": [
       "{'0-80': 2199,\n",
       " '80-90': 4226,\n",
       " '90-100': 6103,\n",
       " '100-110': 7170,\n",
       " '110-120': 8052,\n",
       " '120-130': 7913,\n",
       " '130-140': 6648,\n",
       " '140-150': 5043,\n",
       " '150-1000': 8722}"
      ]
     },
     "execution_count": 56,
     "metadata": {},
     "output_type": "execute_result"
    }
   ],
   "source": [
    "for bucket in buckets_teach_old:\n",
    "    teach_szp_levels_old[str(bucket[0]) + '-' + str(bucket[1])] = temp[temp['szp_teach'].between(bucket[0] * 1000, bucket[1] * 1000, inclusive='left')]['snils'].count()\n",
    "teach_szp_levels_old"
   ]
  },
  {
   "cell_type": "code",
   "execution_count": 38,
   "metadata": {},
   "outputs": [],
   "source": [
    "teach_szp_levels_old = [[i[0], i[1]] for i in teach_szp_levels_old.items()]"
   ]
  },
  {
   "cell_type": "code",
   "execution_count": 39,
   "metadata": {},
   "outputs": [
    {
     "data": {
      "text/plain": [
       "[['0-80', 2199],\n",
       " ['80-90', 4226],\n",
       " ['90-100', 6103],\n",
       " ['100-110', 7170],\n",
       " ['110-120', 8052],\n",
       " ['120-130', 7913],\n",
       " ['130-140', 6648],\n",
       " ['140-150', 5043],\n",
       " ['150-1000', 8722]]"
      ]
     },
     "execution_count": 39,
     "metadata": {},
     "output_type": "execute_result"
    }
   ],
   "source": [
    "teach_szp_levels_old"
   ]
  },
  {
   "cell_type": "code",
   "execution_count": 40,
   "metadata": {},
   "outputs": [],
   "source": [
    "df_teach = pd.DataFrame(teach_szp_levels_old)"
   ]
  },
  {
   "cell_type": "code",
   "execution_count": 41,
   "metadata": {},
   "outputs": [],
   "source": [
    "print_df(df_teach, path_to_dir + 'Уровни зп учителей ' + months[-1])"
   ]
  },
  {
   "cell_type": "code",
   "execution_count": 66,
   "metadata": {},
   "outputs": [
    {
     "data": {
      "text/plain": [
       "count     31892.000000\n",
       "mean      74750.263600\n",
       "std       21943.009416\n",
       "min      -52045.270000\n",
       "25%       61169.564167\n",
       "50%       71148.190000\n",
       "75%       84441.323750\n",
       "max      358447.566667\n",
       "Name: szp_vosp, dtype: float64"
      ]
     },
     "execution_count": 66,
     "metadata": {},
     "output_type": "execute_result"
    }
   ],
   "source": [
    "temp.szp_vosp.describe()"
   ]
  },
  {
   "cell_type": "code",
   "execution_count": 50,
   "metadata": {},
   "outputs": [
    {
     "data": {
      "text/plain": [
       "0         001-171-362 75\n",
       "1         001-191-281 85\n",
       "2         001-244-107 65\n",
       "3         001-263-234 77\n",
       "4         001-322-594 80\n",
       "               ...      \n",
       "171488    144-210-752 18\n",
       "171489    145-941-023 60\n",
       "171490    163-839-219 93\n",
       "171491    168-147-261 85\n",
       "171492    216-479-337 84\n",
       "Name: snils, Length: 171493, dtype: object"
      ]
     },
     "execution_count": 50,
     "metadata": {},
     "output_type": "execute_result"
    }
   ],
   "source": [
    "temp['snils']"
   ]
  },
  {
   "cell_type": "code",
   "execution_count": 67,
   "metadata": {},
   "outputs": [
    {
     "data": {
      "text/plain": [
       "{'0-50': 1979,\n",
       " '50-60': 5115,\n",
       " '60-70': 7944,\n",
       " '70-80': 6794,\n",
       " '80-90': 4170,\n",
       " '90-100': 2466,\n",
       " '100-110': 1325,\n",
       " '110-120': 855,\n",
       " '120-130': 503,\n",
       " '130-140': 295,\n",
       " '140-150': 150,\n",
       " '150-1000': 285}"
      ]
     },
     "execution_count": 67,
     "metadata": {},
     "output_type": "execute_result"
    }
   ],
   "source": [
    "for bucket in buckets_vosp_old:\n",
    "    vosp_szp_levels_old[str(bucket[0]) + '-' + str(bucket[1])] = temp[(temp['szp_vosp'].between(bucket[0] * 1000, bucket[1] * 1000, inclusive='left'))]['snils'].count()\n",
    "vosp_szp_levels_old"
   ]
  },
  {
   "cell_type": "code",
   "execution_count": 68,
   "metadata": {},
   "outputs": [],
   "source": [
    "vosp_szp_levels_old = [[i[0], i[1]] for i in vosp_szp_levels_old.items()]\n",
    "df_vosp = pd.DataFrame(vosp_szp_levels_old)\n",
    "print_df(df_vosp, path_to_dir + 'Уровни зп воспитателей ' + months[-1])"
   ]
  },
  {
   "cell_type": "code",
   "execution_count": 44,
   "metadata": {},
   "outputs": [],
   "source": [
    "temp['teach_grp'] = temp.apply(lambda row: teach_szp_grp(row), axis=1)\n",
    "temp['vosp_grp'] = temp.apply(lambda row: vosp_szp_grp(row), axis=1)"
   ]
  },
  {
   "cell_type": "code",
   "execution_count": 45,
   "metadata": {},
   "outputs": [
    {
     "data": {
      "text/plain": [
       "'0-80'"
      ]
     },
     "execution_count": 45,
     "metadata": {},
     "output_type": "execute_result"
    }
   ],
   "source": [
    "teach_szp_grp({'szp_teach': 60000})"
   ]
  },
  {
   "cell_type": "code",
   "execution_count": 46,
   "metadata": {},
   "outputs": [
    {
     "data": {
      "text/html": [
       "<div>\n",
       "<style scoped>\n",
       "    .dataframe tbody tr th:only-of-type {\n",
       "        vertical-align: middle;\n",
       "    }\n",
       "\n",
       "    .dataframe tbody tr th {\n",
       "        vertical-align: top;\n",
       "    }\n",
       "\n",
       "    .dataframe thead th {\n",
       "        text-align: right;\n",
       "    }\n",
       "</style>\n",
       "<table border=\"1\" class=\"dataframe\">\n",
       "  <thead>\n",
       "    <tr style=\"text-align: right;\">\n",
       "      <th></th>\n",
       "      <th>inn</th>\n",
       "      <th>snils</th>\n",
       "      <th>sum_jan</th>\n",
       "      <th>sum_all_jan</th>\n",
       "      <th>type_jan</th>\n",
       "      <th>stv_jan</th>\n",
       "      <th>status_jan</th>\n",
       "      <th>status_pref_jan</th>\n",
       "      <th>wday_jan</th>\n",
       "      <th>nday_jan</th>\n",
       "      <th>...</th>\n",
       "      <th>status_pref_jun</th>\n",
       "      <th>wday_jun</th>\n",
       "      <th>nday_jun</th>\n",
       "      <th>spec_jun</th>\n",
       "      <th>day_jun</th>\n",
       "      <th>job_jun</th>\n",
       "      <th>szp_teach</th>\n",
       "      <th>szp_vosp</th>\n",
       "      <th>teach_grp</th>\n",
       "      <th>vosp_grp</th>\n",
       "    </tr>\n",
       "  </thead>\n",
       "  <tbody>\n",
       "  </tbody>\n",
       "</table>\n",
       "<p>0 rows × 72 columns</p>\n",
       "</div>"
      ],
      "text/plain": [
       "Empty DataFrame\n",
       "Columns: [inn, snils, sum_jan, sum_all_jan, type_jan, stv_jan, status_jan, status_pref_jan, wday_jan, nday_jan, spec_jan, day_jan, job_jan, sum_feb, sum_all_feb, type_feb, stv_feb, status_feb, status_pref_feb, wday_feb, nday_feb, spec_feb, day_feb, job_feb, sum_mar, sum_all_mar, type_mar, stv_mar, status_mar, status_pref_mar, wday_mar, nday_mar, spec_mar, day_mar, job_mar, sum_apr, sum_all_apr, type_apr, stv_apr, status_apr, status_pref_apr, wday_apr, nday_apr, spec_apr, day_apr, job_apr, sum_may, sum_all_may, type_may, stv_may, status_may, status_pref_may, wday_may, nday_may, spec_may, day_may, job_may, sum_jun, sum_all_jun, type_jun, stv_jun, status_jun, status_pref_jun, wday_jun, nday_jun, spec_jun, day_jun, job_jun, szp_teach, szp_vosp, teach_grp, vosp_grp]\n",
       "Index: []\n",
       "\n",
       "[0 rows x 72 columns]"
      ]
     },
     "execution_count": 46,
     "metadata": {},
     "output_type": "execute_result"
    }
   ],
   "source": [
    "temp[temp.vosp_grp.isna() == False]"
   ]
  },
  {
   "cell_type": "code",
   "execution_count": 47,
   "metadata": {},
   "outputs": [],
   "source": [
    "print_df(temp, path_to_dir + 'Накоп + данные по уч и восп' + months[-1])"
   ]
  }
 ],
 "metadata": {
  "interpreter": {
   "hash": "074f563457da44d7ed57bdc37c43fd9dc993318bca70a60ea87af59e9047f938"
  },
  "kernelspec": {
   "display_name": "Python 3.10.2 64-bit",
   "language": "python",
   "name": "python3"
  },
  "language_info": {
   "codemirror_mode": {
    "name": "ipython",
    "version": 3
   },
   "file_extension": ".py",
   "mimetype": "text/x-python",
   "name": "python",
   "nbconvert_exporter": "python",
   "pygments_lexer": "ipython3",
   "version": "3.10.2"
  },
  "orig_nbformat": 4
 },
 "nbformat": 4,
 "nbformat_minor": 2
}
