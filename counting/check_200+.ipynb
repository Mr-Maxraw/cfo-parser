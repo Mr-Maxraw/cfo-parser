{
 "cells": [
  {
   "cell_type": "code",
   "execution_count": 2,
   "metadata": {},
   "outputs": [],
   "source": [
    "import pandas as pd\n",
    "import numpy as np\n",
    "from openpyxl import Workbook\n",
    "from openpyxl.utils.dataframe import dataframe_to_rows as df_to_row\n",
    "import pathlib"
   ]
  },
  {
   "cell_type": "code",
   "execution_count": 3,
   "metadata": {},
   "outputs": [],
   "source": [
    "from szp_funcs import get_fio, custom_create_res, print_df, load_groups, gku_inn, path_to_docs, to_double, path_to_data, load_month, gku, load_month_all"
   ]
  },
  {
   "cell_type": "code",
   "execution_count": 4,
   "metadata": {},
   "outputs": [],
   "source": [
    "month = 'jun'\n",
    "ped, isp, aup = load_groups('input')\n",
    "out_dir = str(pathlib.Path().resolve()) + '\\\\200+_' + month + '\\\\'"
   ]
  },
  {
   "cell_type": "code",
   "execution_count": 26,
   "metadata": {},
   "outputs": [],
   "source": [
    "inns = [(7717043346, 'ГАОУ ВО МГПУ'), (7723356160, 'ГБПОУ 26 КАДР'), (7734570529, 'ГАУДО Домисолька'), (7725247657, 'ГБПОУ ОКГ Столица'), (7733020995,'ГБПОУ Колледж полиции'), (7704040242, 'ГБОУ Школа № 57'), (7736110982, 'ГБПОУ Воробьевы горы'), (7731281039, 'ГБПОУ МИК'), (7731174051, 'ГБОУ Школа № 1371 Крылатское')]"
   ]
  },
  {
   "cell_type": "code",
   "execution_count": 6,
   "metadata": {},
   "outputs": [],
   "source": [
    "ppl = pd.read_excel(path_to_docs + 'school_ppl_' + month + '.xlsx')\n",
    "ppl = ppl[ppl.ppl > 0]"
   ]
  },
  {
   "cell_type": "code",
   "execution_count": 8,
   "metadata": {},
   "outputs": [],
   "source": [
    "fail = pd.read_excel(path_to_docs + '200_ppl_' + month + '.xlsx')['snils'].to_list()"
   ]
  },
  {
   "cell_type": "code",
   "execution_count": 9,
   "metadata": {},
   "outputs": [],
   "source": [
    "fails = pd.read_excel(path_to_docs + month + '_inn_fail.xlsx')['inn'].to_list()"
   ]
  },
  {
   "cell_type": "code",
   "execution_count": 10,
   "metadata": {},
   "outputs": [],
   "source": [
    "jobs = pd.read_excel(path_to_docs + '200_jobs_' + month + '.xlsx')"
   ]
  },
  {
   "cell_type": "code",
   "execution_count": 11,
   "metadata": {},
   "outputs": [],
   "source": [
    "res = load_month(month)"
   ]
  },
  {
   "cell_type": "code",
   "execution_count": 12,
   "metadata": {},
   "outputs": [],
   "source": [
    "res = res[(res['sum_' + month] >= 54500) & (res.inn.isin(gku_inn) == False)]"
   ]
  },
  {
   "cell_type": "code",
   "execution_count": 13,
   "metadata": {},
   "outputs": [],
   "source": [
    "def make_grp(row):\n",
    "    if row['ppl'] > 4000:\n",
    "        return 1\n",
    "    if row['ppl'] < 2000:\n",
    "        return 3\n",
    "    return 2"
   ]
  },
  {
   "cell_type": "code",
   "execution_count": 14,
   "metadata": {},
   "outputs": [],
   "source": [
    "for_tables = pd.merge(pd.merge(res[['inn', 'job_' + month, 'sum_' + month, 'snils']], jobs, how='left', left_on='job_' + month, right_on='job').drop('job', axis=1), ppl, how='left')\n",
    "for_tables['grp'] = for_tables.apply(lambda row: make_grp(row), axis=1)"
   ]
  },
  {
   "cell_type": "code",
   "execution_count": 15,
   "metadata": {},
   "outputs": [
    {
     "data": {
      "text/html": [
       "<div>\n",
       "<style scoped>\n",
       "    .dataframe tbody tr th:only-of-type {\n",
       "        vertical-align: middle;\n",
       "    }\n",
       "\n",
       "    .dataframe tbody tr th {\n",
       "        vertical-align: top;\n",
       "    }\n",
       "\n",
       "    .dataframe thead th {\n",
       "        text-align: right;\n",
       "    }\n",
       "</style>\n",
       "<table border=\"1\" class=\"dataframe\">\n",
       "  <thead>\n",
       "    <tr style=\"text-align: right;\">\n",
       "      <th></th>\n",
       "      <th>inn</th>\n",
       "      <th>job_jun</th>\n",
       "      <th>sum_jun</th>\n",
       "      <th>snils</th>\n",
       "      <th>job_grp</th>\n",
       "      <th>ppl</th>\n",
       "      <th>grp</th>\n",
       "    </tr>\n",
       "  </thead>\n",
       "  <tbody>\n",
       "    <tr>\n",
       "      <th>0</th>\n",
       "      <td>5003021368</td>\n",
       "      <td>Помощник воспитателя</td>\n",
       "      <td>62730.03</td>\n",
       "      <td>001-171-362 75</td>\n",
       "      <td>NaN</td>\n",
       "      <td>10722.0</td>\n",
       "      <td>1</td>\n",
       "    </tr>\n",
       "    <tr>\n",
       "      <th>1</th>\n",
       "      <td>5003021368</td>\n",
       "      <td>Учитель</td>\n",
       "      <td>121248.22</td>\n",
       "      <td>001-244-107 65</td>\n",
       "      <td>NaN</td>\n",
       "      <td>10722.0</td>\n",
       "      <td>1</td>\n",
       "    </tr>\n",
       "    <tr>\n",
       "      <th>2</th>\n",
       "      <td>5003021368</td>\n",
       "      <td>Специалист</td>\n",
       "      <td>75815.00</td>\n",
       "      <td>001-322-594 80</td>\n",
       "      <td>Специалисты</td>\n",
       "      <td>10722.0</td>\n",
       "      <td>1</td>\n",
       "    </tr>\n",
       "    <tr>\n",
       "      <th>3</th>\n",
       "      <td>5003021368</td>\n",
       "      <td>Учитель</td>\n",
       "      <td>182893.03</td>\n",
       "      <td>001-519-663 10</td>\n",
       "      <td>NaN</td>\n",
       "      <td>10722.0</td>\n",
       "      <td>1</td>\n",
       "    </tr>\n",
       "    <tr>\n",
       "      <th>4</th>\n",
       "      <td>5003021368</td>\n",
       "      <td>Воспитатель</td>\n",
       "      <td>63929.02</td>\n",
       "      <td>001-752-213 93</td>\n",
       "      <td>NaN</td>\n",
       "      <td>10722.0</td>\n",
       "      <td>1</td>\n",
       "    </tr>\n",
       "    <tr>\n",
       "      <th>...</th>\n",
       "      <td>...</td>\n",
       "      <td>...</td>\n",
       "      <td>...</td>\n",
       "      <td>...</td>\n",
       "      <td>...</td>\n",
       "      <td>...</td>\n",
       "      <td>...</td>\n",
       "    </tr>\n",
       "    <tr>\n",
       "      <th>133359</th>\n",
       "      <td>9715217689</td>\n",
       "      <td>Учитель</td>\n",
       "      <td>124031.31</td>\n",
       "      <td>187-933-260 19</td>\n",
       "      <td>NaN</td>\n",
       "      <td>2488.0</td>\n",
       "      <td>2</td>\n",
       "    </tr>\n",
       "    <tr>\n",
       "      <th>133360</th>\n",
       "      <td>9715217689</td>\n",
       "      <td>Учитель</td>\n",
       "      <td>160046.33</td>\n",
       "      <td>191-336-708 73</td>\n",
       "      <td>NaN</td>\n",
       "      <td>2488.0</td>\n",
       "      <td>2</td>\n",
       "    </tr>\n",
       "    <tr>\n",
       "      <th>133361</th>\n",
       "      <td>9715217689</td>\n",
       "      <td>Педагог-организатор</td>\n",
       "      <td>115325.80</td>\n",
       "      <td>195-450-909 00</td>\n",
       "      <td>NaN</td>\n",
       "      <td>2488.0</td>\n",
       "      <td>2</td>\n",
       "    </tr>\n",
       "    <tr>\n",
       "      <th>133362</th>\n",
       "      <td>9715217689</td>\n",
       "      <td>Учитель</td>\n",
       "      <td>97717.75</td>\n",
       "      <td>196-998-174 73</td>\n",
       "      <td>NaN</td>\n",
       "      <td>2488.0</td>\n",
       "      <td>2</td>\n",
       "    </tr>\n",
       "    <tr>\n",
       "      <th>133363</th>\n",
       "      <td>9715217689</td>\n",
       "      <td>Старший воспитатель</td>\n",
       "      <td>109550.00</td>\n",
       "      <td>202-859-541 64</td>\n",
       "      <td>NaN</td>\n",
       "      <td>2488.0</td>\n",
       "      <td>2</td>\n",
       "    </tr>\n",
       "  </tbody>\n",
       "</table>\n",
       "<p>133364 rows × 7 columns</p>\n",
       "</div>"
      ],
      "text/plain": [
       "               inn               job_jun    sum_jun           snils  \\\n",
       "0       5003021368  Помощник воспитателя   62730.03  001-171-362 75   \n",
       "1       5003021368               Учитель  121248.22  001-244-107 65   \n",
       "2       5003021368            Специалист   75815.00  001-322-594 80   \n",
       "3       5003021368               Учитель  182893.03  001-519-663 10   \n",
       "4       5003021368           Воспитатель   63929.02  001-752-213 93   \n",
       "...            ...                   ...        ...             ...   \n",
       "133359  9715217689               Учитель  124031.31  187-933-260 19   \n",
       "133360  9715217689               Учитель  160046.33  191-336-708 73   \n",
       "133361  9715217689   Педагог-организатор  115325.80  195-450-909 00   \n",
       "133362  9715217689               Учитель   97717.75  196-998-174 73   \n",
       "133363  9715217689   Старший воспитатель  109550.00  202-859-541 64   \n",
       "\n",
       "            job_grp      ppl  grp  \n",
       "0               NaN  10722.0    1  \n",
       "1               NaN  10722.0    1  \n",
       "2       Специалисты  10722.0    1  \n",
       "3               NaN  10722.0    1  \n",
       "4               NaN  10722.0    1  \n",
       "...             ...      ...  ...  \n",
       "133359          NaN   2488.0    2  \n",
       "133360          NaN   2488.0    2  \n",
       "133361          NaN   2488.0    2  \n",
       "133362          NaN   2488.0    2  \n",
       "133363          NaN   2488.0    2  \n",
       "\n",
       "[133364 rows x 7 columns]"
      ]
     },
     "execution_count": 15,
     "metadata": {},
     "output_type": "execute_result"
    }
   ],
   "source": [
    "for_tables"
   ]
  },
  {
   "cell_type": "code",
   "execution_count": 16,
   "metadata": {},
   "outputs": [],
   "source": [
    "szp_all = for_tables[['job_grp', 'sum_' + month]].groupby(['job_grp']).mean().reset_index()\n",
    "szp_all_min = for_tables[['job_grp', 'sum_' + month]].groupby(['job_grp']).min().reset_index()\n",
    "szp_all_max = for_tables[['job_grp', 'sum_' + month]].groupby(['job_grp']).max().reset_index()"
   ]
  },
  {
   "cell_type": "code",
   "execution_count": 17,
   "metadata": {},
   "outputs": [],
   "source": [
    "szp_all = pd.merge(szp_all, szp_all_min, how='left', on=['job_grp'])\n",
    "szp_all = pd.merge(szp_all, szp_all_max, how='left', on=['job_grp'])"
   ]
  },
  {
   "cell_type": "code",
   "execution_count": 18,
   "metadata": {},
   "outputs": [],
   "source": [
    "szp_all = szp_all.rename(columns={'job_'  + month:'job', 'sum_'  + month:'max', 'sum_' + month +'_x':'mean', 'sum_' + month +'_y':'min'})"
   ]
  },
  {
   "cell_type": "code",
   "execution_count": 19,
   "metadata": {},
   "outputs": [
    {
     "data": {
      "text/html": [
       "<div>\n",
       "<style scoped>\n",
       "    .dataframe tbody tr th:only-of-type {\n",
       "        vertical-align: middle;\n",
       "    }\n",
       "\n",
       "    .dataframe tbody tr th {\n",
       "        vertical-align: top;\n",
       "    }\n",
       "\n",
       "    .dataframe thead th {\n",
       "        text-align: right;\n",
       "    }\n",
       "</style>\n",
       "<table border=\"1\" class=\"dataframe\">\n",
       "  <thead>\n",
       "    <tr style=\"text-align: right;\">\n",
       "      <th></th>\n",
       "      <th>job_grp</th>\n",
       "      <th>mean</th>\n",
       "      <th>min</th>\n",
       "      <th>max</th>\n",
       "    </tr>\n",
       "  </thead>\n",
       "  <tbody>\n",
       "    <tr>\n",
       "      <th>0</th>\n",
       "      <td>IT - специалисты</td>\n",
       "      <td>125749.413387</td>\n",
       "      <td>54500.00</td>\n",
       "      <td>336002.32</td>\n",
       "    </tr>\n",
       "    <tr>\n",
       "      <th>1</th>\n",
       "      <td>Администраторы и секретари</td>\n",
       "      <td>92837.084839</td>\n",
       "      <td>54500.00</td>\n",
       "      <td>314566.69</td>\n",
       "    </tr>\n",
       "    <tr>\n",
       "      <th>2</th>\n",
       "      <td>Ведущие экономисты (экономисты)</td>\n",
       "      <td>136083.176628</td>\n",
       "      <td>54549.97</td>\n",
       "      <td>443607.81</td>\n",
       "    </tr>\n",
       "    <tr>\n",
       "      <th>3</th>\n",
       "      <td>Контрактные управляющие и специалисты по закупкам</td>\n",
       "      <td>119875.451120</td>\n",
       "      <td>55304.00</td>\n",
       "      <td>363278.96</td>\n",
       "    </tr>\n",
       "    <tr>\n",
       "      <th>4</th>\n",
       "      <td>Руководящий состав среднего звена</td>\n",
       "      <td>123146.924017</td>\n",
       "      <td>54500.00</td>\n",
       "      <td>563642.67</td>\n",
       "    </tr>\n",
       "    <tr>\n",
       "      <th>5</th>\n",
       "      <td>Специалисты</td>\n",
       "      <td>103171.619796</td>\n",
       "      <td>54500.00</td>\n",
       "      <td>756568.17</td>\n",
       "    </tr>\n",
       "    <tr>\n",
       "      <th>6</th>\n",
       "      <td>Специалисты по кадрам  и юристконсульты</td>\n",
       "      <td>105933.901351</td>\n",
       "      <td>54500.00</td>\n",
       "      <td>380102.00</td>\n",
       "    </tr>\n",
       "    <tr>\n",
       "      <th>7</th>\n",
       "      <td>Специалисты по обслуживанию и содержанию здани...</td>\n",
       "      <td>108756.735286</td>\n",
       "      <td>54500.00</td>\n",
       "      <td>409395.06</td>\n",
       "    </tr>\n",
       "  </tbody>\n",
       "</table>\n",
       "</div>"
      ],
      "text/plain": [
       "                                             job_grp           mean       min  \\\n",
       "0                                   IT - специалисты  125749.413387  54500.00   \n",
       "1                         Администраторы и секретари   92837.084839  54500.00   \n",
       "2                    Ведущие экономисты (экономисты)  136083.176628  54549.97   \n",
       "3  Контрактные управляющие и специалисты по закупкам  119875.451120  55304.00   \n",
       "4                  Руководящий состав среднего звена  123146.924017  54500.00   \n",
       "5                                        Специалисты  103171.619796  54500.00   \n",
       "6            Специалисты по кадрам  и юристконсульты  105933.901351  54500.00   \n",
       "7  Специалисты по обслуживанию и содержанию здани...  108756.735286  54500.00   \n",
       "\n",
       "         max  \n",
       "0  336002.32  \n",
       "1  314566.69  \n",
       "2  443607.81  \n",
       "3  363278.96  \n",
       "4  563642.67  \n",
       "5  756568.17  \n",
       "6  380102.00  \n",
       "7  409395.06  "
      ]
     },
     "execution_count": 19,
     "metadata": {},
     "output_type": "execute_result"
    }
   ],
   "source": [
    "szp_all"
   ]
  },
  {
   "cell_type": "code",
   "execution_count": 20,
   "metadata": {},
   "outputs": [],
   "source": [
    "print_df(szp_all, out_dir + 'СЗП + вилка все по группам ' + month)"
   ]
  },
  {
   "cell_type": "code",
   "execution_count": 21,
   "metadata": {},
   "outputs": [],
   "source": [
    "szp = for_tables[['grp', 'job_grp', 'sum_' + month]].groupby(['grp', 'job_grp']).mean().reset_index()\n",
    "szp_max = for_tables[['grp', 'job_grp', 'sum_' + month]].groupby(['grp', 'job_grp']).max().reset_index()\n",
    "szp_min = for_tables[['grp', 'job_grp', 'sum_' + month]].groupby(['grp', 'job_grp']).min().reset_index()\n",
    "szp = pd.merge(szp, szp_min, how='left', on=['grp', 'job_grp'])\n",
    "szp = pd.merge(szp, szp_max, how='left', on=['grp', 'job_grp'])\n",
    "szp = szp.rename(columns={'job_'  + month:'job', 'sum_'  + month:'max', 'sum_' + month +'_x':'mean', 'sum_' + month +'_y':'min'})\n"
   ]
  },
  {
   "cell_type": "code",
   "execution_count": 22,
   "metadata": {},
   "outputs": [],
   "source": [
    "min_good_sch = for_tables[(for_tables.inn.isin(fails) == False) & (for_tables['sum_' + month] < 200000)][['grp', 'job_grp', 'sum_' + month]].groupby(['grp', 'job_grp']).min().reset_index().rename(columns={'sum_' + month: 'min_good_sch'})\n",
    "max_good_sch = for_tables[(for_tables.inn.isin(fails) == False) & (for_tables['sum_' + month] < 200000)][['grp', 'job_grp', 'sum_' + month]].groupby(['grp', 'job_grp']).max().reset_index().rename(columns={'sum_' + month: 'max_good_sch'})\n",
    "szp_good_sch = for_tables[(for_tables.inn.isin(fails) == False) & (for_tables['sum_' + month] < 200000)][['grp', 'job_grp', 'sum_' + month]].groupby(['grp', 'job_grp']).mean().reset_index().rename(columns={'sum_' + month: 'szp_good_sch'})\n",
    "\n",
    "min_bad_sch_bad_ppl = for_tables[(for_tables.inn.isin(fails)) & (for_tables['sum_' + month] > 200000)][['grp', 'job_grp', 'sum_' + month]].groupby(['grp', 'job_grp']).min().reset_index().rename(columns={'sum_' + month: 'min_bad_sch_bad_ppl'})\n",
    "max_bad_sch_bad_ppl = for_tables[(for_tables.inn.isin(fails)) & (for_tables['sum_' + month] > 200000)][['grp', 'job_grp', 'sum_' + month]].groupby(['grp', 'job_grp']).max().reset_index().rename(columns={'sum_' + month: 'max_bad_sch_bad_ppl'})\n",
    "szp_bad_sch_bad_ppl = for_tables[(for_tables.inn.isin(fails)) & (for_tables['sum_' + month] > 200000)][['grp', 'job_grp', 'sum_' + month]].groupby(['grp', 'job_grp']).mean().reset_index().rename(columns={'sum_' + month: 'szp_bad_sch_bad_ppl'})\n",
    "\n",
    "min_bad_sch_good_ppl = for_tables[(for_tables.inn.isin(fails)) & (for_tables['sum_' + month] < 200000)][['grp', 'job_grp', 'sum_' + month]].groupby(['grp', 'job_grp']).min().reset_index().rename(columns={'sum_' + month: 'min_bad_sch_good_ppl'})\n",
    "max_bad_sch_good_ppl = for_tables[(for_tables.inn.isin(fails)) & (for_tables['sum_' + month] < 200000)][['grp', 'job_grp', 'sum_' + month]].groupby(['grp', 'job_grp']).max().reset_index().rename(columns={'sum_' + month: 'max_bad_sch_good_ppl'})\n",
    "szp_bad_sch_good_ppl = for_tables[(for_tables.inn.isin(fails)) & (for_tables['sum_' + month] < 200000)][['grp', 'job_grp', 'sum_' + month]].groupby(['grp', 'job_grp']).mean().reset_index().rename(columns={'sum_' + month: 'szp_bad_sch_good_ppl'})"
   ]
  },
  {
   "cell_type": "code",
   "execution_count": 23,
   "metadata": {},
   "outputs": [],
   "source": [
    "szp = pd.merge(szp, min_good_sch, how='left', on=['grp', 'job_grp'])\n",
    "szp = pd.merge(szp, max_good_sch, how='left', on=['grp', 'job_grp'])\n",
    "szp = pd.merge(szp, szp_good_sch, how='left', on=['grp', 'job_grp'])\n",
    "szp = pd.merge(szp, min_bad_sch_bad_ppl, how='left', on=['grp', 'job_grp'])\n",
    "szp = pd.merge(szp, max_bad_sch_bad_ppl, how='left', on=['grp', 'job_grp'])\n",
    "szp = pd.merge(szp, szp_bad_sch_bad_ppl, how='left', on=['grp', 'job_grp'])\n",
    "szp = pd.merge(szp, min_bad_sch_good_ppl, how='left', on=['grp', 'job_grp'])\n",
    "szp = pd.merge(szp, max_bad_sch_good_ppl, how='left', on=['grp', 'job_grp'])\n",
    "szp = pd.merge(szp, szp_bad_sch_good_ppl, how='left', on=['grp', 'job_grp'])"
   ]
  },
  {
   "cell_type": "code",
   "execution_count": 24,
   "metadata": {},
   "outputs": [],
   "source": [
    "print_df(szp, out_dir + 'СЗП + вилка все по контингенту ' + month)"
   ]
  },
  {
   "cell_type": "code",
   "execution_count": 27,
   "metadata": {},
   "outputs": [],
   "source": [
    "for sch in inns:\n",
    "    szp_t = for_tables[(for_tables['inn'] == sch[0]) & (for_tables['sum_' + month] > 200000) & (for_tables['snils'].isin(fail))][['job_grp', 'sum_' + month]].groupby(['job_grp']).mean().reset_index()\n",
    "    szp_t_min = for_tables[(for_tables['inn'] == sch[0]) & (for_tables['sum_' + month] > 200000) & (for_tables['snils'].isin(fail))][['job_grp', 'sum_' + month]].groupby(['job_grp']).min().reset_index()\n",
    "    szp_t_max = for_tables[(for_tables['inn'] == sch[0]) & (for_tables['sum_' + month] > 200000) & (for_tables['snils'].isin(fail))][['job_grp', 'sum_' + month]].groupby(['job_grp']).max().reset_index()\n",
    "    szp_t_cnt = for_tables[(for_tables['inn'] == sch[0]) & (for_tables['sum_' + month] > 200000) & (for_tables['snils'].isin(fail))][['job_grp', 'sum_' + month]].groupby(['job_grp']).count().reset_index().rename(columns={'sum_' + month: 'cnt'})\n",
    "    szp_t = pd.merge(szp_t, szp_t_min, how='left', on=['job_grp'])\n",
    "    szp_t = pd.merge(szp_t, szp_t_max, how='left', on=['job_grp'])\n",
    "    szp_t = pd.merge(szp_t, szp_t_cnt, how='left', on=['job_grp'])\n",
    "    szp_t = szp_t.rename(columns={'job_'  + month:'job', 'sum_'  + month:'max', 'sum_' + month +'_x':'mean', 'sum_' + month +'_y':'min'})\n",
    "    print_df(szp_t, out_dir + 'Вилка организации 200+ ' + month + ' ' + sch[1])"
   ]
  }
 ],
 "metadata": {
  "interpreter": {
   "hash": "074f563457da44d7ed57bdc37c43fd9dc993318bca70a60ea87af59e9047f938"
  },
  "kernelspec": {
   "display_name": "Python 3.10.2 64-bit",
   "language": "python",
   "name": "python3"
  },
  "language_info": {
   "codemirror_mode": {
    "name": "ipython",
    "version": 3
   },
   "file_extension": ".py",
   "mimetype": "text/x-python",
   "name": "python",
   "nbconvert_exporter": "python",
   "pygments_lexer": "ipython3",
   "version": "3.10.2"
  },
  "orig_nbformat": 4
 },
 "nbformat": 4,
 "nbformat_minor": 2
}
