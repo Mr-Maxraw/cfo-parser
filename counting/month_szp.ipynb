{
 "cells": [
  {
   "cell_type": "code",
   "execution_count": 1,
   "metadata": {},
   "outputs": [],
   "source": [
    "import pandas as pd\n",
    "import numpy as np\n",
    "from openpyxl import Workbook\n",
    "from openpyxl.utils.dataframe import dataframe_to_rows as df_to_row"
   ]
  },
  {
   "cell_type": "code",
   "execution_count": 10,
   "metadata": {},
   "outputs": [],
   "source": [
    "from szp_funcs import get_fio, print_df, load_groups, gku_inn, path_to_docs, to_double, path_to_data, create_full_res"
   ]
  },
  {
   "cell_type": "code",
   "execution_count": 3,
   "metadata": {},
   "outputs": [],
   "source": [
    "inns = [7734241813,\n",
    "7734132109,\n",
    "7733126624,\n",
    "7725144330,\n",
    "7723103106,\n",
    "7719894832,\n",
    "7718261587,\n",
    "7718259267,\n",
    "7715789629,\n",
    "7712013764,\n",
    "7704853583\n",
    "]"
   ]
  },
  {
   "cell_type": "code",
   "execution_count": 11,
   "metadata": {},
   "outputs": [],
   "source": [
    "res = create_full_res(['mar'])"
   ]
  },
  {
   "cell_type": "code",
   "execution_count": 12,
   "metadata": {},
   "outputs": [],
   "source": [
    "ans = res[res.inn.isin(inns)]"
   ]
  },
  {
   "cell_type": "code",
   "execution_count": 13,
   "metadata": {},
   "outputs": [
    {
     "data": {
      "text/html": [
       "<div>\n",
       "<style scoped>\n",
       "    .dataframe tbody tr th:only-of-type {\n",
       "        vertical-align: middle;\n",
       "    }\n",
       "\n",
       "    .dataframe tbody tr th {\n",
       "        vertical-align: top;\n",
       "    }\n",
       "\n",
       "    .dataframe thead th {\n",
       "        text-align: right;\n",
       "    }\n",
       "</style>\n",
       "<table border=\"1\" class=\"dataframe\">\n",
       "  <thead>\n",
       "    <tr style=\"text-align: right;\">\n",
       "      <th></th>\n",
       "      <th>inn</th>\n",
       "      <th>snils</th>\n",
       "      <th>sum_mar</th>\n",
       "      <th>stv_mar</th>\n",
       "      <th>job_mar</th>\n",
       "    </tr>\n",
       "  </thead>\n",
       "  <tbody>\n",
       "    <tr>\n",
       "      <th>38</th>\n",
       "      <td>7725144330</td>\n",
       "      <td>001-056-485 89</td>\n",
       "      <td>98104.49</td>\n",
       "      <td>1.0</td>\n",
       "      <td>Учитель</td>\n",
       "    </tr>\n",
       "    <tr>\n",
       "      <th>53</th>\n",
       "      <td>7725144330</td>\n",
       "      <td>001-076-189 94</td>\n",
       "      <td>100696.97</td>\n",
       "      <td>1.0</td>\n",
       "      <td>Учитель-логопед</td>\n",
       "    </tr>\n",
       "    <tr>\n",
       "      <th>94</th>\n",
       "      <td>7719894832</td>\n",
       "      <td>001-125-534 68</td>\n",
       "      <td>123936.11</td>\n",
       "      <td>1.0</td>\n",
       "      <td>Учитель</td>\n",
       "    </tr>\n",
       "    <tr>\n",
       "      <th>117</th>\n",
       "      <td>7715789629</td>\n",
       "      <td>001-133-899 91</td>\n",
       "      <td>141785.85</td>\n",
       "      <td>1.0</td>\n",
       "      <td>Учитель</td>\n",
       "    </tr>\n",
       "    <tr>\n",
       "      <th>299</th>\n",
       "      <td>7719894832</td>\n",
       "      <td>001-179-030 90</td>\n",
       "      <td>55086.51</td>\n",
       "      <td>1.0</td>\n",
       "      <td>Тьютор</td>\n",
       "    </tr>\n",
       "    <tr>\n",
       "      <th>...</th>\n",
       "      <td>...</td>\n",
       "      <td>...</td>\n",
       "      <td>...</td>\n",
       "      <td>...</td>\n",
       "      <td>...</td>\n",
       "    </tr>\n",
       "    <tr>\n",
       "      <th>166212</th>\n",
       "      <td>7734241813</td>\n",
       "      <td>210-780-350 26</td>\n",
       "      <td>85348.48</td>\n",
       "      <td>1.0</td>\n",
       "      <td>Воспитатель</td>\n",
       "    </tr>\n",
       "    <tr>\n",
       "      <th>166323</th>\n",
       "      <td>7733126624</td>\n",
       "      <td>212-350-814 12</td>\n",
       "      <td>66452.31</td>\n",
       "      <td>1.3</td>\n",
       "      <td>Педагог-психолог</td>\n",
       "    </tr>\n",
       "    <tr>\n",
       "      <th>166391</th>\n",
       "      <td>7733126624</td>\n",
       "      <td>213-022-403 80</td>\n",
       "      <td>167734.51</td>\n",
       "      <td>1.0</td>\n",
       "      <td>Учитель</td>\n",
       "    </tr>\n",
       "    <tr>\n",
       "      <th>166396</th>\n",
       "      <td>7719894832</td>\n",
       "      <td>213-081-636 20</td>\n",
       "      <td>61076.07</td>\n",
       "      <td>1.0</td>\n",
       "      <td>Рабочий по комплексному обслуживанию и ремонту...</td>\n",
       "    </tr>\n",
       "    <tr>\n",
       "      <th>166489</th>\n",
       "      <td>7719894832</td>\n",
       "      <td>214-029-839 38</td>\n",
       "      <td>54500.00</td>\n",
       "      <td>1.0</td>\n",
       "      <td>Помощник воспитателя</td>\n",
       "    </tr>\n",
       "  </tbody>\n",
       "</table>\n",
       "<p>4417 rows × 5 columns</p>\n",
       "</div>"
      ],
      "text/plain": [
       "               inn           snils    sum_mar  stv_mar  \\\n",
       "38      7725144330  001-056-485 89   98104.49      1.0   \n",
       "53      7725144330  001-076-189 94  100696.97      1.0   \n",
       "94      7719894832  001-125-534 68  123936.11      1.0   \n",
       "117     7715789629  001-133-899 91  141785.85      1.0   \n",
       "299     7719894832  001-179-030 90   55086.51      1.0   \n",
       "...            ...             ...        ...      ...   \n",
       "166212  7734241813  210-780-350 26   85348.48      1.0   \n",
       "166323  7733126624  212-350-814 12   66452.31      1.3   \n",
       "166391  7733126624  213-022-403 80  167734.51      1.0   \n",
       "166396  7719894832  213-081-636 20   61076.07      1.0   \n",
       "166489  7719894832  214-029-839 38   54500.00      1.0   \n",
       "\n",
       "                                                  job_mar  \n",
       "38                                                Учитель  \n",
       "53                                        Учитель-логопед  \n",
       "94                                                Учитель  \n",
       "117                                               Учитель  \n",
       "299                                                Тьютор  \n",
       "...                                                   ...  \n",
       "166212                                        Воспитатель  \n",
       "166323                                  Педагог-психолог   \n",
       "166391                                            Учитель  \n",
       "166396  Рабочий по комплексному обслуживанию и ремонту...  \n",
       "166489                               Помощник воспитателя  \n",
       "\n",
       "[4417 rows x 5 columns]"
      ]
     },
     "execution_count": 13,
     "metadata": {},
     "output_type": "execute_result"
    }
   ],
   "source": [
    "ans"
   ]
  },
  {
   "cell_type": "code",
   "execution_count": null,
   "metadata": {},
   "outputs": [],
   "source": [
    "print_df(ans, 'Сумма 11 школ')"
   ]
  }
 ],
 "metadata": {
  "interpreter": {
   "hash": "9086a9f3d68dfde60c8c4c50cddae0f31bfdd88b219c176f349b145997fbdd59"
  },
  "kernelspec": {
   "display_name": "Python 3.10.2 64-bit",
   "language": "python",
   "name": "python3"
  },
  "language_info": {
   "codemirror_mode": {
    "name": "ipython",
    "version": 3
   },
   "file_extension": ".py",
   "mimetype": "text/x-python",
   "name": "python",
   "nbconvert_exporter": "python",
   "pygments_lexer": "ipython3",
   "version": "3.10.2"
  },
  "orig_nbformat": 4
 },
 "nbformat": 4,
 "nbformat_minor": 2
}
