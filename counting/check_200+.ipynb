{
 "cells": [
  {
   "cell_type": "code",
   "execution_count": 51,
   "metadata": {},
   "outputs": [],
   "source": [
    "import pandas as pd\n",
    "import numpy as np\n",
    "from openpyxl import Workbook\n",
    "from openpyxl.utils.dataframe import dataframe_to_rows as df_to_row\n",
    "import pathlib"
   ]
  },
  {
   "cell_type": "code",
   "execution_count": 52,
   "metadata": {},
   "outputs": [],
   "source": [
    "from szp_funcs import get_fio, custom_create_res, print_df, load_groups, gku_inn, path_to_docs, to_double, path_to_data, load_month, gku, load_month_all"
   ]
  },
  {
   "cell_type": "code",
   "execution_count": 84,
   "metadata": {},
   "outputs": [],
   "source": [
    "month = 'jun'\n",
    "ped, isp, aup = load_groups('input')\n",
    "out_dir = str(pathlib.Path().resolve()) + '\\\\200+_' + month + '\\\\'"
   ]
  },
  {
   "cell_type": "code",
   "execution_count": 85,
   "metadata": {},
   "outputs": [],
   "source": [
    "inns = [(7717043346, 'ГАОУ ВО МГПУ'), (7723356160, 'ГБПОУ 26 КАДР'), (7734570529, 'ГАУДО Домисолька'), (7725247657, 'ГБПОУ ОКГ Столица'), (7733020995,'ГБПОУ Колледж полиции')]"
   ]
  },
  {
   "cell_type": "code",
   "execution_count": 86,
   "metadata": {},
   "outputs": [],
   "source": [
    "ppl = pd.read_excel(path_to_docs + 'school_ppl_' + month + '.xlsx')\n",
    "ppl = ppl[ppl.ppl > 0]"
   ]
  },
  {
   "cell_type": "code",
   "execution_count": 88,
   "metadata": {},
   "outputs": [],
   "source": [
    "fail = pd.read_excel(path_to_docs + '200_ppl_' + month + '.xlsx')['snils'].to_list()"
   ]
  },
  {
   "cell_type": "code",
   "execution_count": 89,
   "metadata": {},
   "outputs": [],
   "source": [
    "fails = pd.read_excel(path_to_docs + month + '_inn_fail.xlsx')['inn'].to_list()"
   ]
  },
  {
   "cell_type": "code",
   "execution_count": 90,
   "metadata": {},
   "outputs": [],
   "source": [
    "jobs = pd.read_excel(path_to_docs + '200_jobs_' + month + '.xlsx')"
   ]
  },
  {
   "cell_type": "code",
   "execution_count": 91,
   "metadata": {},
   "outputs": [],
   "source": [
    "res = load_month(month)"
   ]
  },
  {
   "cell_type": "code",
   "execution_count": 92,
   "metadata": {},
   "outputs": [],
   "source": [
    "res = res[(res['sum_' + month] >= 54500) & (res.inn.isin(gku_inn) == False)]"
   ]
  },
  {
   "cell_type": "code",
   "execution_count": 93,
   "metadata": {},
   "outputs": [],
   "source": [
    "def make_grp(row):\n",
    "    if row['ppl'] > 4000:\n",
    "        return 1\n",
    "    if row['ppl'] < 2000:\n",
    "        return 3\n",
    "    return 2"
   ]
  },
  {
   "cell_type": "code",
   "execution_count": 94,
   "metadata": {},
   "outputs": [],
   "source": [
    "for_tables = pd.merge(pd.merge(res[['inn', 'job_' + month, 'sum_' + month, 'snils']], jobs, how='left', left_on='job_' + month, right_on='job').drop('job', axis=1), ppl, how='left')\n",
    "for_tables['grp'] = for_tables.apply(lambda row: make_grp(row), axis=1)"
   ]
  },
  {
   "cell_type": "code",
   "execution_count": 95,
   "metadata": {},
   "outputs": [
    {
     "data": {
      "text/html": [
       "<div>\n",
       "<style scoped>\n",
       "    .dataframe tbody tr th:only-of-type {\n",
       "        vertical-align: middle;\n",
       "    }\n",
       "\n",
       "    .dataframe tbody tr th {\n",
       "        vertical-align: top;\n",
       "    }\n",
       "\n",
       "    .dataframe thead th {\n",
       "        text-align: right;\n",
       "    }\n",
       "</style>\n",
       "<table border=\"1\" class=\"dataframe\">\n",
       "  <thead>\n",
       "    <tr style=\"text-align: right;\">\n",
       "      <th></th>\n",
       "      <th>inn</th>\n",
       "      <th>job_apr</th>\n",
       "      <th>sum_apr</th>\n",
       "      <th>snils</th>\n",
       "      <th>job_grp</th>\n",
       "      <th>ppl</th>\n",
       "      <th>grp</th>\n",
       "    </tr>\n",
       "  </thead>\n",
       "  <tbody>\n",
       "    <tr>\n",
       "      <th>0</th>\n",
       "      <td>5003021368</td>\n",
       "      <td>Помощник воспитателя</td>\n",
       "      <td>58500.00</td>\n",
       "      <td>001-171-362 75</td>\n",
       "      <td>NaN</td>\n",
       "      <td>10722.0</td>\n",
       "      <td>1</td>\n",
       "    </tr>\n",
       "    <tr>\n",
       "      <th>1</th>\n",
       "      <td>5003021368</td>\n",
       "      <td>Учитель</td>\n",
       "      <td>105890.88</td>\n",
       "      <td>001-191-281 85</td>\n",
       "      <td>NaN</td>\n",
       "      <td>10722.0</td>\n",
       "      <td>1</td>\n",
       "    </tr>\n",
       "    <tr>\n",
       "      <th>2</th>\n",
       "      <td>5003021368</td>\n",
       "      <td>Учитель</td>\n",
       "      <td>98522.15</td>\n",
       "      <td>001-244-107 65</td>\n",
       "      <td>NaN</td>\n",
       "      <td>10722.0</td>\n",
       "      <td>1</td>\n",
       "    </tr>\n",
       "    <tr>\n",
       "      <th>3</th>\n",
       "      <td>5003021368</td>\n",
       "      <td>Воспитатель</td>\n",
       "      <td>77794.00</td>\n",
       "      <td>001-263-234 77</td>\n",
       "      <td>NaN</td>\n",
       "      <td>10722.0</td>\n",
       "      <td>1</td>\n",
       "    </tr>\n",
       "    <tr>\n",
       "      <th>4</th>\n",
       "      <td>5003021368</td>\n",
       "      <td>Специалист</td>\n",
       "      <td>75815.00</td>\n",
       "      <td>001-322-594 80</td>\n",
       "      <td>Специалисты</td>\n",
       "      <td>10722.0</td>\n",
       "      <td>1</td>\n",
       "    </tr>\n",
       "    <tr>\n",
       "      <th>...</th>\n",
       "      <td>...</td>\n",
       "      <td>...</td>\n",
       "      <td>...</td>\n",
       "      <td>...</td>\n",
       "      <td>...</td>\n",
       "      <td>...</td>\n",
       "      <td>...</td>\n",
       "    </tr>\n",
       "    <tr>\n",
       "      <th>148753</th>\n",
       "      <td>9715217689</td>\n",
       "      <td>Учитель</td>\n",
       "      <td>122089.05</td>\n",
       "      <td>187-933-260 19</td>\n",
       "      <td>NaN</td>\n",
       "      <td>2488.0</td>\n",
       "      <td>2</td>\n",
       "    </tr>\n",
       "    <tr>\n",
       "      <th>148754</th>\n",
       "      <td>9715217689</td>\n",
       "      <td>Учитель</td>\n",
       "      <td>155611.90</td>\n",
       "      <td>191-336-708 73</td>\n",
       "      <td>NaN</td>\n",
       "      <td>2488.0</td>\n",
       "      <td>2</td>\n",
       "    </tr>\n",
       "    <tr>\n",
       "      <th>148755</th>\n",
       "      <td>9715217689</td>\n",
       "      <td>Педагог-организатор</td>\n",
       "      <td>110761.60</td>\n",
       "      <td>195-450-909 00</td>\n",
       "      <td>NaN</td>\n",
       "      <td>2488.0</td>\n",
       "      <td>2</td>\n",
       "    </tr>\n",
       "    <tr>\n",
       "      <th>148756</th>\n",
       "      <td>9715217689</td>\n",
       "      <td>Учитель</td>\n",
       "      <td>84100.05</td>\n",
       "      <td>196-998-174 73</td>\n",
       "      <td>NaN</td>\n",
       "      <td>2488.0</td>\n",
       "      <td>2</td>\n",
       "    </tr>\n",
       "    <tr>\n",
       "      <th>148757</th>\n",
       "      <td>9715217689</td>\n",
       "      <td>Старший воспитатель</td>\n",
       "      <td>109550.00</td>\n",
       "      <td>202-859-541 64</td>\n",
       "      <td>NaN</td>\n",
       "      <td>2488.0</td>\n",
       "      <td>2</td>\n",
       "    </tr>\n",
       "  </tbody>\n",
       "</table>\n",
       "<p>148758 rows × 7 columns</p>\n",
       "</div>"
      ],
      "text/plain": [
       "               inn               job_apr    sum_apr           snils  \\\n",
       "0       5003021368  Помощник воспитателя   58500.00  001-171-362 75   \n",
       "1       5003021368               Учитель  105890.88  001-191-281 85   \n",
       "2       5003021368               Учитель   98522.15  001-244-107 65   \n",
       "3       5003021368           Воспитатель   77794.00  001-263-234 77   \n",
       "4       5003021368            Специалист   75815.00  001-322-594 80   \n",
       "...            ...                   ...        ...             ...   \n",
       "148753  9715217689               Учитель  122089.05  187-933-260 19   \n",
       "148754  9715217689               Учитель  155611.90  191-336-708 73   \n",
       "148755  9715217689   Педагог-организатор  110761.60  195-450-909 00   \n",
       "148756  9715217689               Учитель   84100.05  196-998-174 73   \n",
       "148757  9715217689   Старший воспитатель  109550.00  202-859-541 64   \n",
       "\n",
       "            job_grp      ppl  grp  \n",
       "0               NaN  10722.0    1  \n",
       "1               NaN  10722.0    1  \n",
       "2               NaN  10722.0    1  \n",
       "3               NaN  10722.0    1  \n",
       "4       Специалисты  10722.0    1  \n",
       "...             ...      ...  ...  \n",
       "148753          NaN   2488.0    2  \n",
       "148754          NaN   2488.0    2  \n",
       "148755          NaN   2488.0    2  \n",
       "148756          NaN   2488.0    2  \n",
       "148757          NaN   2488.0    2  \n",
       "\n",
       "[148758 rows x 7 columns]"
      ]
     },
     "execution_count": 95,
     "metadata": {},
     "output_type": "execute_result"
    }
   ],
   "source": [
    "for_tables"
   ]
  },
  {
   "cell_type": "code",
   "execution_count": 96,
   "metadata": {},
   "outputs": [],
   "source": [
    "szp_all = for_tables[['job_grp', 'sum_' + month]].groupby(['job_grp']).mean().reset_index()\n",
    "szp_all_min = for_tables[['job_grp', 'sum_' + month]].groupby(['job_grp']).min().reset_index()\n",
    "szp_all_max = for_tables[['job_grp', 'sum_' + month]].groupby(['job_grp']).max().reset_index()"
   ]
  },
  {
   "cell_type": "code",
   "execution_count": 97,
   "metadata": {},
   "outputs": [],
   "source": [
    "szp_all = pd.merge(szp_all, szp_all_min, how='left', on=['job_grp'])\n",
    "szp_all = pd.merge(szp_all, szp_all_max, how='left', on=['job_grp'])"
   ]
  },
  {
   "cell_type": "code",
   "execution_count": 98,
   "metadata": {},
   "outputs": [],
   "source": [
    "szp_all = szp_all.rename(columns={'job_'  + month:'job', 'sum_'  + month:'max', 'sum_' + month +'_x':'mean', 'sum_' + month +'_y':'min'})"
   ]
  },
  {
   "cell_type": "code",
   "execution_count": 99,
   "metadata": {},
   "outputs": [
    {
     "data": {
      "text/html": [
       "<div>\n",
       "<style scoped>\n",
       "    .dataframe tbody tr th:only-of-type {\n",
       "        vertical-align: middle;\n",
       "    }\n",
       "\n",
       "    .dataframe tbody tr th {\n",
       "        vertical-align: top;\n",
       "    }\n",
       "\n",
       "    .dataframe thead th {\n",
       "        text-align: right;\n",
       "    }\n",
       "</style>\n",
       "<table border=\"1\" class=\"dataframe\">\n",
       "  <thead>\n",
       "    <tr style=\"text-align: right;\">\n",
       "      <th></th>\n",
       "      <th>job_grp</th>\n",
       "      <th>mean</th>\n",
       "      <th>min</th>\n",
       "      <th>max</th>\n",
       "    </tr>\n",
       "  </thead>\n",
       "  <tbody>\n",
       "    <tr>\n",
       "      <th>0</th>\n",
       "      <td>IT - специалисты</td>\n",
       "      <td>106206.799112</td>\n",
       "      <td>54500.00</td>\n",
       "      <td>296000.00</td>\n",
       "    </tr>\n",
       "    <tr>\n",
       "      <th>1</th>\n",
       "      <td>Администраторы и секретари</td>\n",
       "      <td>91405.246616</td>\n",
       "      <td>54500.00</td>\n",
       "      <td>253004.04</td>\n",
       "    </tr>\n",
       "    <tr>\n",
       "      <th>2</th>\n",
       "      <td>Ведущие экономисты (экономисты)</td>\n",
       "      <td>133255.551054</td>\n",
       "      <td>54500.00</td>\n",
       "      <td>443608.00</td>\n",
       "    </tr>\n",
       "    <tr>\n",
       "      <th>3</th>\n",
       "      <td>Контрактные управляющие и специалисты по закупкам</td>\n",
       "      <td>117396.353781</td>\n",
       "      <td>54902.71</td>\n",
       "      <td>230576.20</td>\n",
       "    </tr>\n",
       "    <tr>\n",
       "      <th>4</th>\n",
       "      <td>Научные работники</td>\n",
       "      <td>138931.039545</td>\n",
       "      <td>54550.00</td>\n",
       "      <td>289523.00</td>\n",
       "    </tr>\n",
       "    <tr>\n",
       "      <th>5</th>\n",
       "      <td>Руководящий состав среднего звена</td>\n",
       "      <td>118132.106814</td>\n",
       "      <td>54500.00</td>\n",
       "      <td>428900.00</td>\n",
       "    </tr>\n",
       "    <tr>\n",
       "      <th>6</th>\n",
       "      <td>Специалисты</td>\n",
       "      <td>97254.617865</td>\n",
       "      <td>54500.00</td>\n",
       "      <td>561736.04</td>\n",
       "    </tr>\n",
       "    <tr>\n",
       "      <th>7</th>\n",
       "      <td>Специалисты по кадрам  и юристконсульты</td>\n",
       "      <td>114391.117469</td>\n",
       "      <td>54500.00</td>\n",
       "      <td>287625.96</td>\n",
       "    </tr>\n",
       "    <tr>\n",
       "      <th>8</th>\n",
       "      <td>Специалисты по обслуживанию и содержанию здани...</td>\n",
       "      <td>81510.086651</td>\n",
       "      <td>54500.00</td>\n",
       "      <td>1046209.91</td>\n",
       "    </tr>\n",
       "  </tbody>\n",
       "</table>\n",
       "</div>"
      ],
      "text/plain": [
       "                                             job_grp           mean       min  \\\n",
       "0                                   IT - специалисты  106206.799112  54500.00   \n",
       "1                         Администраторы и секретари   91405.246616  54500.00   \n",
       "2                    Ведущие экономисты (экономисты)  133255.551054  54500.00   \n",
       "3  Контрактные управляющие и специалисты по закупкам  117396.353781  54902.71   \n",
       "4                                  Научные работники  138931.039545  54550.00   \n",
       "5                  Руководящий состав среднего звена  118132.106814  54500.00   \n",
       "6                                        Специалисты   97254.617865  54500.00   \n",
       "7            Специалисты по кадрам  и юристконсульты  114391.117469  54500.00   \n",
       "8  Специалисты по обслуживанию и содержанию здани...   81510.086651  54500.00   \n",
       "\n",
       "          max  \n",
       "0   296000.00  \n",
       "1   253004.04  \n",
       "2   443608.00  \n",
       "3   230576.20  \n",
       "4   289523.00  \n",
       "5   428900.00  \n",
       "6   561736.04  \n",
       "7   287625.96  \n",
       "8  1046209.91  "
      ]
     },
     "execution_count": 99,
     "metadata": {},
     "output_type": "execute_result"
    }
   ],
   "source": [
    "szp_all"
   ]
  },
  {
   "cell_type": "code",
   "execution_count": 100,
   "metadata": {},
   "outputs": [],
   "source": [
    "print_df(szp_all, out_dir + 'СЗП + вилка все по группам ' + month)"
   ]
  },
  {
   "cell_type": "code",
   "execution_count": 101,
   "metadata": {},
   "outputs": [],
   "source": [
    "szp = for_tables[['grp', 'job_grp', 'sum_' + month]].groupby(['grp', 'job_grp']).mean().reset_index()\n",
    "szp_max = for_tables[['grp', 'job_grp', 'sum_' + month]].groupby(['grp', 'job_grp']).max().reset_index()\n",
    "szp_min = for_tables[['grp', 'job_grp', 'sum_' + month]].groupby(['grp', 'job_grp']).min().reset_index()\n",
    "szp = pd.merge(szp, szp_min, how='left', on=['grp', 'job_grp'])\n",
    "szp = pd.merge(szp, szp_max, how='left', on=['grp', 'job_grp'])\n",
    "szp = szp.rename(columns={'job_'  + month:'job', 'sum_'  + month:'max', 'sum_' + month +'_x':'mean', 'sum_' + month +'_y':'min'})\n"
   ]
  },
  {
   "cell_type": "code",
   "execution_count": 102,
   "metadata": {},
   "outputs": [],
   "source": [
    "min_good_sch = for_tables[(for_tables.inn.isin(fails) == False) & (for_tables['sum_' + month] < 200000)][['grp', 'job_grp', 'sum_' + month]].groupby(['grp', 'job_grp']).min().reset_index().rename(columns={'sum_' + month: 'min_good_sch'})\n",
    "max_good_sch = for_tables[(for_tables.inn.isin(fails) == False) & (for_tables['sum_' + month] < 200000)][['grp', 'job_grp', 'sum_' + month]].groupby(['grp', 'job_grp']).max().reset_index().rename(columns={'sum_' + month: 'max_good_sch'})\n",
    "szp_good_sch = for_tables[(for_tables.inn.isin(fails) == False) & (for_tables['sum_' + month] < 200000)][['grp', 'job_grp', 'sum_' + month]].groupby(['grp', 'job_grp']).mean().reset_index().rename(columns={'sum_' + month: 'szp_good_sch'})\n",
    "\n",
    "min_bad_sch_bad_ppl = for_tables[(for_tables.inn.isin(fails)) & (for_tables['sum_' + month] > 200000)][['grp', 'job_grp', 'sum_' + month]].groupby(['grp', 'job_grp']).min().reset_index().rename(columns={'sum_' + month: 'min_bad_sch_bad_ppl'})\n",
    "max_bad_sch_bad_ppl = for_tables[(for_tables.inn.isin(fails)) & (for_tables['sum_' + month] > 200000)][['grp', 'job_grp', 'sum_' + month]].groupby(['grp', 'job_grp']).max().reset_index().rename(columns={'sum_' + month: 'max_bad_sch_bad_ppl'})\n",
    "szp_bad_sch_bad_ppl = for_tables[(for_tables.inn.isin(fails)) & (for_tables['sum_' + month] > 200000)][['grp', 'job_grp', 'sum_' + month]].groupby(['grp', 'job_grp']).mean().reset_index().rename(columns={'sum_' + month: 'szp_bad_sch_bad_ppl'})\n",
    "\n",
    "min_bad_sch_good_ppl = for_tables[(for_tables.inn.isin(fails)) & (for_tables['sum_' + month] < 200000)][['grp', 'job_grp', 'sum_' + month]].groupby(['grp', 'job_grp']).min().reset_index().rename(columns={'sum_' + month: 'min_bad_sch_good_ppl'})\n",
    "max_bad_sch_good_ppl = for_tables[(for_tables.inn.isin(fails)) & (for_tables['sum_' + month] < 200000)][['grp', 'job_grp', 'sum_' + month]].groupby(['grp', 'job_grp']).max().reset_index().rename(columns={'sum_' + month: 'max_bad_sch_good_ppl'})\n",
    "szp_bad_sch_good_ppl = for_tables[(for_tables.inn.isin(fails)) & (for_tables['sum_' + month] < 200000)][['grp', 'job_grp', 'sum_' + month]].groupby(['grp', 'job_grp']).mean().reset_index().rename(columns={'sum_' + month: 'szp_bad_sch_good_ppl'})"
   ]
  },
  {
   "cell_type": "code",
   "execution_count": 103,
   "metadata": {},
   "outputs": [],
   "source": [
    "szp = pd.merge(szp, min_good_sch, how='left', on=['grp', 'job_grp'])\n",
    "szp = pd.merge(szp, max_good_sch, how='left', on=['grp', 'job_grp'])\n",
    "szp = pd.merge(szp, szp_good_sch, how='left', on=['grp', 'job_grp'])\n",
    "szp = pd.merge(szp, min_bad_sch_bad_ppl, how='left', on=['grp', 'job_grp'])\n",
    "szp = pd.merge(szp, max_bad_sch_bad_ppl, how='left', on=['grp', 'job_grp'])\n",
    "szp = pd.merge(szp, szp_bad_sch_bad_ppl, how='left', on=['grp', 'job_grp'])\n",
    "szp = pd.merge(szp, min_bad_sch_good_ppl, how='left', on=['grp', 'job_grp'])\n",
    "szp = pd.merge(szp, max_bad_sch_good_ppl, how='left', on=['grp', 'job_grp'])\n",
    "szp = pd.merge(szp, szp_bad_sch_good_ppl, how='left', on=['grp', 'job_grp'])"
   ]
  },
  {
   "cell_type": "code",
   "execution_count": 104,
   "metadata": {},
   "outputs": [],
   "source": [
    "print_df(szp, out_dir + 'СЗП + вилка все по контингенту ' + month)"
   ]
  },
  {
   "cell_type": "code",
   "execution_count": 105,
   "metadata": {},
   "outputs": [],
   "source": [
    "for sch in inns:\n",
    "    szp_t = for_tables[(for_tables['inn'] == sch[0]) & (for_tables['sum_' + month] > 200000) & (for_tables['snils'].isin(fail))][['job_grp', 'sum_' + month]].groupby(['job_grp']).mean().reset_index()\n",
    "    szp_t_min = for_tables[(for_tables['inn'] == sch[0]) & (for_tables['sum_' + month] > 200000) & (for_tables['snils'].isin(fail))][['job_grp', 'sum_' + month]].groupby(['job_grp']).min().reset_index()\n",
    "    szp_t_max = for_tables[(for_tables['inn'] == sch[0]) & (for_tables['sum_' + month] > 200000) & (for_tables['snils'].isin(fail))][['job_grp', 'sum_' + month]].groupby(['job_grp']).max().reset_index()\n",
    "    szp_t_cnt = for_tables[(for_tables['inn'] == sch[0]) & (for_tables['sum_' + month] > 200000) & (for_tables['snils'].isin(fail))][['job_grp', 'sum_' + month]].groupby(['job_grp']).count().reset_index().rename(columns={'sum_' + month: 'cnt'})\n",
    "    szp_t = pd.merge(szp_t, szp_t_min, how='left', on=['job_grp'])\n",
    "    szp_t = pd.merge(szp_t, szp_t_max, how='left', on=['job_grp'])\n",
    "    szp_t = pd.merge(szp_t, szp_t_cnt, how='left', on=['job_grp'])\n",
    "    szp_t = szp_t.rename(columns={'job_'  + month:'job', 'sum_'  + month:'max', 'sum_' + month +'_x':'mean', 'sum_' + month +'_y':'min'})\n",
    "    print_df(szp_t, out_dir + 'Вилка организации 200+ ' + month + ' ' + sch[1])"
   ]
  }
 ],
 "metadata": {
  "interpreter": {
   "hash": "074f563457da44d7ed57bdc37c43fd9dc993318bca70a60ea87af59e9047f938"
  },
  "kernelspec": {
   "display_name": "Python 3.10.2 64-bit",
   "language": "python",
   "name": "python3"
  },
  "language_info": {
   "codemirror_mode": {
    "name": "ipython",
    "version": 3
   },
   "file_extension": ".py",
   "mimetype": "text/x-python",
   "name": "python",
   "nbconvert_exporter": "python",
   "pygments_lexer": "ipython3",
   "version": "3.10.2"
  },
  "orig_nbformat": 4
 },
 "nbformat": 4,
 "nbformat_minor": 2
}
