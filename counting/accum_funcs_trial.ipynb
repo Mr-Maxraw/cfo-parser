{
 "cells": [
  {
   "cell_type": "code",
   "execution_count": 236,
   "metadata": {},
   "outputs": [],
   "source": [
    "from openpyxl import Workbook, load_workbook\n",
    "import pandas as pd\n",
    "from openpyxl.utils.dataframe import dataframe_to_rows as df_to_row\n",
    "import numpy as np\n",
    "from math import ceil"
   ]
  },
  {
   "cell_type": "code",
   "execution_count": 237,
   "metadata": {},
   "outputs": [],
   "source": [
    "from szp_funcs import load_month, re_szp, re_szp_job, load_groups, print_df, months_year, custom_create_res, re_fot, re_fot_job, load_month_sum_by_job, accum_fot_job, bad_satus, path_to_docs"
   ]
  },
  {
   "cell_type": "code",
   "execution_count": 238,
   "metadata": {},
   "outputs": [],
   "source": [
    "months = months_year[:6]\n",
    "path_to_dir = 'C:\\\\Users\\\\PetukhovMD\\\\Documents\\\\code\\\\montly reports\\\\counting\\\\Accum + q stats\\\\'"
   ]
  },
  {
   "cell_type": "code",
   "execution_count": 239,
   "metadata": {},
   "outputs": [],
   "source": [
    "months_year_rus = ['янв', 'фев', 'мар', 'апр', 'май', 'июн', 'июл', 'авг', 'сен', 'окт', 'ноя', 'дек']"
   ]
  },
  {
   "cell_type": "code",
   "execution_count": 240,
   "metadata": {},
   "outputs": [],
   "source": [
    "res = custom_create_res(months, load_month)"
   ]
  },
  {
   "cell_type": "code",
   "execution_count": 241,
   "metadata": {},
   "outputs": [],
   "source": [
    "for_fot = custom_create_res(months, load_month_sum_by_job, on=['inn', 'snils', 'type', 'job'])"
   ]
  },
  {
   "cell_type": "code",
   "execution_count": 242,
   "metadata": {},
   "outputs": [],
   "source": [
    "ped, isp, aup = load_groups('input')"
   ]
  },
  {
   "cell_type": "code",
   "execution_count": 243,
   "metadata": {},
   "outputs": [],
   "source": [
    "fired = pd.read_excel(path_to_docs + 'fired_' + months[-1] + '.xlsx')"
   ]
  },
  {
   "cell_type": "code",
   "execution_count": 244,
   "metadata": {},
   "outputs": [
    {
     "data": {
      "text/html": [
       "<div>\n",
       "<style scoped>\n",
       "    .dataframe tbody tr th:only-of-type {\n",
       "        vertical-align: middle;\n",
       "    }\n",
       "\n",
       "    .dataframe tbody tr th {\n",
       "        vertical-align: top;\n",
       "    }\n",
       "\n",
       "    .dataframe thead th {\n",
       "        text-align: right;\n",
       "    }\n",
       "</style>\n",
       "<table border=\"1\" class=\"dataframe\">\n",
       "  <thead>\n",
       "    <tr style=\"text-align: right;\">\n",
       "      <th></th>\n",
       "      <th>inn</th>\n",
       "      <th>snils</th>\n",
       "    </tr>\n",
       "  </thead>\n",
       "  <tbody>\n",
       "    <tr>\n",
       "      <th>0</th>\n",
       "      <td>7717666051</td>\n",
       "      <td>170-395-964 90</td>\n",
       "    </tr>\n",
       "    <tr>\n",
       "      <th>1</th>\n",
       "      <td>7717666051</td>\n",
       "      <td>187-123-451 72</td>\n",
       "    </tr>\n",
       "    <tr>\n",
       "      <th>2</th>\n",
       "      <td>7717043346</td>\n",
       "      <td>001-192-838 03</td>\n",
       "    </tr>\n",
       "    <tr>\n",
       "      <th>3</th>\n",
       "      <td>7717043346</td>\n",
       "      <td>003-880-948 51</td>\n",
       "    </tr>\n",
       "    <tr>\n",
       "      <th>4</th>\n",
       "      <td>7717043346</td>\n",
       "      <td>004-188-977 53</td>\n",
       "    </tr>\n",
       "    <tr>\n",
       "      <th>...</th>\n",
       "      <td>...</td>\n",
       "      <td>...</td>\n",
       "    </tr>\n",
       "    <tr>\n",
       "      <th>9755</th>\n",
       "      <td>9718071371</td>\n",
       "      <td>164-315-658 63</td>\n",
       "    </tr>\n",
       "    <tr>\n",
       "      <th>9756</th>\n",
       "      <td>9718071371</td>\n",
       "      <td>172-995-923 30</td>\n",
       "    </tr>\n",
       "    <tr>\n",
       "      <th>9757</th>\n",
       "      <td>9718071371</td>\n",
       "      <td>185-458-671 20</td>\n",
       "    </tr>\n",
       "    <tr>\n",
       "      <th>9758</th>\n",
       "      <td>9718071371</td>\n",
       "      <td>186-538-653 21</td>\n",
       "    </tr>\n",
       "    <tr>\n",
       "      <th>9759</th>\n",
       "      <td>9718071371</td>\n",
       "      <td>205-678-005 60</td>\n",
       "    </tr>\n",
       "  </tbody>\n",
       "</table>\n",
       "<p>9760 rows × 2 columns</p>\n",
       "</div>"
      ],
      "text/plain": [
       "             inn           snils\n",
       "0     7717666051  170-395-964 90\n",
       "1     7717666051  187-123-451 72\n",
       "2     7717043346  001-192-838 03\n",
       "3     7717043346  003-880-948 51\n",
       "4     7717043346  004-188-977 53\n",
       "...          ...             ...\n",
       "9755  9718071371  164-315-658 63\n",
       "9756  9718071371  172-995-923 30\n",
       "9757  9718071371  185-458-671 20\n",
       "9758  9718071371  186-538-653 21\n",
       "9759  9718071371  205-678-005 60\n",
       "\n",
       "[9760 rows x 2 columns]"
      ]
     },
     "execution_count": 244,
     "metadata": {},
     "output_type": "execute_result"
    }
   ],
   "source": [
    "fired"
   ]
  },
  {
   "cell_type": "code",
   "execution_count": 245,
   "metadata": {},
   "outputs": [],
   "source": [
    "def give_grp_from_matcher(row, matcher, name_of_return='szp'):\n",
    "    if row['inn'] in matcher:\n",
    "        if row['snils'] in matcher[row['inn']]:\n",
    "            return row[name_of_return]\n",
    "    return np.nan"
   ]
  },
  {
   "cell_type": "code",
   "execution_count": 246,
   "metadata": {},
   "outputs": [],
   "source": [
    "def give_fired(row):\n",
    "    if row['inn'] in fired['inn'].to_list() and row['snils'] in fired['snils'].to_list():\n",
    "        return 1\n",
    "    return 0 "
   ]
  },
  {
   "cell_type": "code",
   "execution_count": 247,
   "metadata": {},
   "outputs": [],
   "source": [
    "res['fired'] = res.apply(lambda row: give_fired(row), axis=1)"
   ]
  },
  {
   "cell_type": "code",
   "execution_count": 248,
   "metadata": {},
   "outputs": [],
   "source": [
    "res = res[res['fired'] == 0]"
   ]
  },
  {
   "cell_type": "code",
   "execution_count": 249,
   "metadata": {},
   "outputs": [],
   "source": [
    "for i in range(len(months)):\n",
    "    t = i + 1\n",
    "    if t % 3 != 0:\n",
    "        continue\n",
    "    tm = months[:t]\n",
    "    res['szp_q_' + str(int(t/3))] = res.apply(lambda row: re_szp(row, tm), axis=1)\n",
    "    res['szp_teach_q_' + str(int(t/3))] = res.apply(lambda row: re_szp_job(row, tm, ['Учитель']), axis=1)\n",
    "    res['szp_ped_q_' + str(int(t/3))] = res.apply(lambda row: re_szp_job(row, tm, ped), axis=1)\n",
    "    res['fot_q_' + str(int(t/3))] = res.apply(lambda row: re_fot(row, tm), axis=1)\n",
    "    res['fot_aup_q_' + str(int(t/3))] = res.apply(lambda row: re_fot_job(row, tm, aup), axis=1)\n",
    "    df_all = res[(res['szp_q_' + str(int(t/3))].isna() == False)][['inn', 'snils', 'szp_q_' + str(int(t/3))]]\n",
    "    df_teach = res[(res['szp_teach_q_' + str(int(t/3))].isna() == False)][['inn', 'snils', 'szp_teach_q_' + str(int(t/3))]]\n",
    "    df_ped = res[(res['szp_ped_q_' + str(int(t/3))].isna() == False)][['inn', 'snils', 'szp_ped_q_' + str(int(t/3))]]\n",
    "    df_all = df_all.groupby('inn')\n",
    "    df_ped = df_ped.groupby('inn')\n",
    "    df_teach = df_teach.groupby('inn')\n",
    "    top10_all = {}\n",
    "    bot10_all = {}\n",
    "    top10_teach = {}\n",
    "    bot10_teach = {}\n",
    "    bot50_teach = {}\n",
    "    bot50_ped = {}\n",
    "    for group in df_all.groups:\n",
    "        cnt = df_all.get_group(group)['snils'].nunique()\n",
    "        top10_all[group] = df_all.get_group(group).sort_values(by='szp_q_' + str(int(t/3)), ascending=False, axis=0).head(ceil(cnt / 10))['snils'].to_list()\n",
    "        bot10_all[group] = df_all.get_group(group).sort_values(by='szp_q_' + str(int(t/3)), ascending=False, axis=0).tail(ceil(cnt / 10))['snils'].to_list()\n",
    "    for group in df_teach.groups:\n",
    "        cnt = df_teach.get_group(group)['snils'].nunique()\n",
    "        top10_teach[group] = df_teach.get_group(group).sort_values(by='szp_teach_q_' + str(int(t/3)), ascending=False, axis=0).head(ceil(cnt / 10))['snils'].to_list()\n",
    "        bot10_teach[group] = df_teach.get_group(group).sort_values(by='szp_teach_q_' + str(int(t/3)), ascending=False, axis=0).tail(ceil(cnt / 10))['snils'].to_list()\n",
    "        bot50_teach[group] = df_teach.get_group(group).sort_values(by='szp_teach_q_' + str(int(t/3)), ascending=False, axis=0).tail(ceil(cnt / 2))['snils'].to_list()\n",
    "    for group in df_ped.groups:\n",
    "        cnt = df_ped.get_group(group)['snils'].nunique()\n",
    "        bot50_ped[group] = df_ped.get_group(group).sort_values(by='szp_ped_q_' + str(int(t/3)), ascending=False, axis=0).tail(ceil(cnt / 2))['snils'].to_list()\n",
    "    res['top10_all_q_' + str(int(t/3))] = res.apply(lambda row: give_grp_from_matcher(row, top10_all, 'szp_q_' + str(int(t/3))), axis=1)\n",
    "    res['bot10_all_q_' + str(int(t/3))] = res.apply(lambda row: give_grp_from_matcher(row, bot10_all, 'szp_q_' + str(int(t/3))), axis=1)\n",
    "    res['top10_teach_q_' + str(int(t/3))] = res.apply(lambda row: give_grp_from_matcher(row, top10_teach, 'szp_teach_q_' + str(int(t/3))), axis=1)\n",
    "    res['bot10_teach_q_' + str(int(t/3))] = res.apply(lambda row: give_grp_from_matcher(row, bot10_teach, 'szp_teach_q_' + str(int(t/3))), axis=1)\n",
    "    res['bot50_teach_q_' + str(int(t/3))] = res.apply(lambda row: give_grp_from_matcher(row, bot50_teach, 'szp_teach_q_' + str(int(t/3))), axis=1)\n",
    "    res['bot50_ped_q_' + str(int(t/3))] = res.apply(lambda row: give_grp_from_matcher(row, bot50_ped, 'szp_ped_q_' + str(int(t/3))), axis=1)"
   ]
  },
  {
   "cell_type": "code",
   "execution_count": 250,
   "metadata": {},
   "outputs": [],
   "source": [
    "res['szp'] = res.apply(lambda row: re_szp(row, months), axis=1)\n",
    "res['szp_teach'] = res.apply(lambda row: re_szp_job(row, months, ['Учитель']), axis=1)\n",
    "res['szp_ped'] = res.apply(lambda row: re_szp_job(row, months, ped), axis=1)\n",
    "res['fot'] = res.apply(lambda row: re_fot(row, months), axis=1)\n",
    "res['fot_aup'] = res.apply(lambda row: re_fot_job(row, months, aup), axis=1)"
   ]
  },
  {
   "cell_type": "code",
   "execution_count": 251,
   "metadata": {},
   "outputs": [],
   "source": [
    "df_all = res[(res.szp.isna() == False)][['inn', 'snils', 'szp']]\n",
    "df_teach = res[(res.szp_teach.isna() == False)][['inn', 'snils', 'szp_teach']]\n",
    "df_ped = res[(res.szp_ped.isna() == False)][['inn', 'snils', 'szp_ped']]"
   ]
  },
  {
   "cell_type": "code",
   "execution_count": 252,
   "metadata": {},
   "outputs": [],
   "source": [
    "df_all = df_all.groupby('inn')\n",
    "df_ped = df_ped.groupby('inn')\n",
    "df_teach = df_teach.groupby('inn')"
   ]
  },
  {
   "cell_type": "code",
   "execution_count": 253,
   "metadata": {},
   "outputs": [],
   "source": [
    "top10_all = {}\n",
    "bot10_all = {}\n",
    "top10_teach = {}\n",
    "bot10_teach = {}\n",
    "bot50_teach = {}\n",
    "bot50_ped = {}"
   ]
  },
  {
   "cell_type": "code",
   "execution_count": 254,
   "metadata": {},
   "outputs": [],
   "source": [
    "for group in df_all.groups:\n",
    "    cnt = df_all.get_group(group)['snils'].nunique()\n",
    "    top10_all[group] = df_all.get_group(group).sort_values(by='szp', ascending=False, axis=0).head(ceil(cnt / 10))['snils'].to_list()\n",
    "    bot10_all[group] = df_all.get_group(group).sort_values(by='szp', ascending=False, axis=0).tail(ceil(cnt / 10))['snils'].to_list()"
   ]
  },
  {
   "cell_type": "code",
   "execution_count": 255,
   "metadata": {},
   "outputs": [],
   "source": [
    "for group in df_teach.groups:\n",
    "    cnt = df_teach.get_group(group)['snils'].nunique()\n",
    "    top10_teach[group] = df_teach.get_group(group).sort_values(by='szp_teach', ascending=False, axis=0).head(ceil(cnt / 10))['snils'].to_list()\n",
    "    bot10_teach[group] = df_teach.get_group(group).sort_values(by='szp_teach', ascending=False, axis=0).tail(ceil(cnt / 10))['snils'].to_list()\n",
    "    bot50_teach[group] = df_teach.get_group(group).sort_values(by='szp_teach', ascending=False, axis=0).tail(ceil(cnt / 2))['snils'].to_list()"
   ]
  },
  {
   "cell_type": "code",
   "execution_count": 256,
   "metadata": {},
   "outputs": [],
   "source": [
    "for group in df_ped.groups:\n",
    "    cnt = df_ped.get_group(group)['snils'].nunique()\n",
    "    bot50_ped[group] = df_ped.get_group(group).sort_values(by='szp_ped', ascending=False, axis=0).tail(ceil(cnt / 2))['snils'].to_list()"
   ]
  },
  {
   "cell_type": "code",
   "execution_count": 257,
   "metadata": {},
   "outputs": [],
   "source": [
    "res['top10_all'] = res.apply(lambda row: give_grp_from_matcher(row, top10_all), axis=1)\n",
    "res['bot10_all'] = res.apply(lambda row: give_grp_from_matcher(row, bot10_all), axis=1)\n",
    "res['top10_teach'] = res.apply(lambda row: give_grp_from_matcher(row, top10_teach, 'szp_teach'), axis=1)\n",
    "res['bot10_teach'] = res.apply(lambda row: give_grp_from_matcher(row, bot10_teach, 'szp_teach'), axis=1)\n",
    "res['bot50_teach'] = res.apply(lambda row: give_grp_from_matcher(row, bot50_teach, 'szp_teach'), axis=1)\n",
    "res['bot50_ped'] = res.apply(lambda row: give_grp_from_matcher(row, bot50_ped, 'szp_ped'), axis=1)"
   ]
  },
  {
   "cell_type": "code",
   "execution_count": 258,
   "metadata": {},
   "outputs": [],
   "source": [
    "for_fot['fot'] = for_fot.apply(lambda row: re_fot(row, months), axis=1)\n",
    "for_fot['fot_aup'] = for_fot.apply(lambda row: accum_fot_job(row, months, aup), axis=1)\n",
    "for_fot['fot_isp'] = for_fot.apply(lambda row: accum_fot_job(row, months, isp), axis=1)"
   ]
  },
  {
   "cell_type": "code",
   "execution_count": 259,
   "metadata": {},
   "outputs": [],
   "source": [
    "class_ruk = pd.read_excel(path_to_docs + months[-1] + '_class.xlsx')"
   ]
  },
  {
   "cell_type": "code",
   "execution_count": 260,
   "metadata": {},
   "outputs": [
    {
     "data": {
      "text/html": [
       "<div>\n",
       "<style scoped>\n",
       "    .dataframe tbody tr th:only-of-type {\n",
       "        vertical-align: middle;\n",
       "    }\n",
       "\n",
       "    .dataframe tbody tr th {\n",
       "        vertical-align: top;\n",
       "    }\n",
       "\n",
       "    .dataframe thead th {\n",
       "        text-align: right;\n",
       "    }\n",
       "</style>\n",
       "<table border=\"1\" class=\"dataframe\">\n",
       "  <thead>\n",
       "    <tr style=\"text-align: right;\">\n",
       "      <th></th>\n",
       "      <th>inn</th>\n",
       "      <th>snils</th>\n",
       "    </tr>\n",
       "  </thead>\n",
       "  <tbody>\n",
       "    <tr>\n",
       "      <th>0</th>\n",
       "      <td>7720016173</td>\n",
       "      <td>001-173-705 86</td>\n",
       "    </tr>\n",
       "    <tr>\n",
       "      <th>1</th>\n",
       "      <td>7720016173</td>\n",
       "      <td>001-852-207 00</td>\n",
       "    </tr>\n",
       "    <tr>\n",
       "      <th>2</th>\n",
       "      <td>7720016173</td>\n",
       "      <td>001-906-648 18</td>\n",
       "    </tr>\n",
       "    <tr>\n",
       "      <th>3</th>\n",
       "      <td>7720016173</td>\n",
       "      <td>002-028-822 86</td>\n",
       "    </tr>\n",
       "    <tr>\n",
       "      <th>4</th>\n",
       "      <td>7720016173</td>\n",
       "      <td>002-028-997 07</td>\n",
       "    </tr>\n",
       "    <tr>\n",
       "      <th>...</th>\n",
       "      <td>...</td>\n",
       "      <td>...</td>\n",
       "    </tr>\n",
       "    <tr>\n",
       "      <th>37450</th>\n",
       "      <td>7722069597</td>\n",
       "      <td>165-377-477 04</td>\n",
       "    </tr>\n",
       "    <tr>\n",
       "      <th>37451</th>\n",
       "      <td>7722069597</td>\n",
       "      <td>167-259-918 14</td>\n",
       "    </tr>\n",
       "    <tr>\n",
       "      <th>37452</th>\n",
       "      <td>7722069597</td>\n",
       "      <td>167-462-257 90</td>\n",
       "    </tr>\n",
       "    <tr>\n",
       "      <th>37453</th>\n",
       "      <td>7722069597</td>\n",
       "      <td>172-553-817 78</td>\n",
       "    </tr>\n",
       "    <tr>\n",
       "      <th>37454</th>\n",
       "      <td>7722069597</td>\n",
       "      <td>180-043-194 29</td>\n",
       "    </tr>\n",
       "  </tbody>\n",
       "</table>\n",
       "<p>37455 rows × 2 columns</p>\n",
       "</div>"
      ],
      "text/plain": [
       "              inn           snils\n",
       "0      7720016173  001-173-705 86\n",
       "1      7720016173  001-852-207 00\n",
       "2      7720016173  001-906-648 18\n",
       "3      7720016173  002-028-822 86\n",
       "4      7720016173  002-028-997 07\n",
       "...           ...             ...\n",
       "37450  7722069597  165-377-477 04\n",
       "37451  7722069597  167-259-918 14\n",
       "37452  7722069597  167-462-257 90\n",
       "37453  7722069597  172-553-817 78\n",
       "37454  7722069597  180-043-194 29\n",
       "\n",
       "[37455 rows x 2 columns]"
      ]
     },
     "execution_count": 260,
     "metadata": {},
     "output_type": "execute_result"
    }
   ],
   "source": [
    "class_ruk"
   ]
  },
  {
   "cell_type": "code",
   "execution_count": 261,
   "metadata": {},
   "outputs": [],
   "source": [
    "class_ruk_inn = class_ruk['inn'].to_list()\n",
    "class_ruk_snils = class_ruk['snils'].to_list()\n",
    "class_ruk_check = [(i, j) for i, j in zip(class_ruk_inn, class_ruk_snils)]"
   ]
  },
  {
   "cell_type": "code",
   "execution_count": 262,
   "metadata": {},
   "outputs": [],
   "source": [
    "def give_class(row):\n",
    "    if (row['inn'], row['snils']) in class_ruk_check:\n",
    "        return 1\n",
    "    return 0 "
   ]
  },
  {
   "cell_type": "code",
   "execution_count": 263,
   "metadata": {},
   "outputs": [],
   "source": [
    "res['class_ruk'] = res.apply(lambda row: give_class(row), axis=1)"
   ]
  },
  {
   "cell_type": "code",
   "execution_count": 264,
   "metadata": {},
   "outputs": [
    {
     "data": {
      "text/html": [
       "<div>\n",
       "<style scoped>\n",
       "    .dataframe tbody tr th:only-of-type {\n",
       "        vertical-align: middle;\n",
       "    }\n",
       "\n",
       "    .dataframe tbody tr th {\n",
       "        vertical-align: top;\n",
       "    }\n",
       "\n",
       "    .dataframe thead th {\n",
       "        text-align: right;\n",
       "    }\n",
       "</style>\n",
       "<table border=\"1\" class=\"dataframe\">\n",
       "  <thead>\n",
       "    <tr style=\"text-align: right;\">\n",
       "      <th></th>\n",
       "      <th>inn</th>\n",
       "      <th>mean_cr</th>\n",
       "      <th>min_cr</th>\n",
       "    </tr>\n",
       "  </thead>\n",
       "  <tbody>\n",
       "    <tr>\n",
       "      <th>0</th>\n",
       "      <td>5003021368</td>\n",
       "      <td>132967.872721</td>\n",
       "      <td>91390.263333</td>\n",
       "    </tr>\n",
       "    <tr>\n",
       "      <th>1</th>\n",
       "      <td>5003021495</td>\n",
       "      <td>137132.256511</td>\n",
       "      <td>96605.066667</td>\n",
       "    </tr>\n",
       "    <tr>\n",
       "      <th>2</th>\n",
       "      <td>5003021640</td>\n",
       "      <td>143558.853364</td>\n",
       "      <td>87213.840000</td>\n",
       "    </tr>\n",
       "    <tr>\n",
       "      <th>3</th>\n",
       "      <td>5003096290</td>\n",
       "      <td>138255.797492</td>\n",
       "      <td>97320.130000</td>\n",
       "    </tr>\n",
       "    <tr>\n",
       "      <th>4</th>\n",
       "      <td>5030032182</td>\n",
       "      <td>147810.264468</td>\n",
       "      <td>114738.320000</td>\n",
       "    </tr>\n",
       "    <tr>\n",
       "      <th>...</th>\n",
       "      <td>...</td>\n",
       "      <td>...</td>\n",
       "      <td>...</td>\n",
       "    </tr>\n",
       "    <tr>\n",
       "      <th>508</th>\n",
       "      <td>7743937357</td>\n",
       "      <td>133640.888636</td>\n",
       "      <td>101535.783333</td>\n",
       "    </tr>\n",
       "    <tr>\n",
       "      <th>509</th>\n",
       "      <td>7743939315</td>\n",
       "      <td>129557.090472</td>\n",
       "      <td>104930.220000</td>\n",
       "    </tr>\n",
       "    <tr>\n",
       "      <th>510</th>\n",
       "      <td>7743940590</td>\n",
       "      <td>148376.080980</td>\n",
       "      <td>106855.770000</td>\n",
       "    </tr>\n",
       "    <tr>\n",
       "      <th>511</th>\n",
       "      <td>9715206976</td>\n",
       "      <td>144812.911397</td>\n",
       "      <td>86385.620000</td>\n",
       "    </tr>\n",
       "    <tr>\n",
       "      <th>512</th>\n",
       "      <td>9715217689</td>\n",
       "      <td>130309.595230</td>\n",
       "      <td>85944.050000</td>\n",
       "    </tr>\n",
       "  </tbody>\n",
       "</table>\n",
       "<p>513 rows × 3 columns</p>\n",
       "</div>"
      ],
      "text/plain": [
       "            inn        mean_cr         min_cr\n",
       "0    5003021368  132967.872721   91390.263333\n",
       "1    5003021495  137132.256511   96605.066667\n",
       "2    5003021640  143558.853364   87213.840000\n",
       "3    5003096290  138255.797492   97320.130000\n",
       "4    5030032182  147810.264468  114738.320000\n",
       "..          ...            ...            ...\n",
       "508  7743937357  133640.888636  101535.783333\n",
       "509  7743939315  129557.090472  104930.220000\n",
       "510  7743940590  148376.080980  106855.770000\n",
       "511  9715206976  144812.911397   86385.620000\n",
       "512  9715217689  130309.595230   85944.050000\n",
       "\n",
       "[513 rows x 3 columns]"
      ]
     },
     "execution_count": 264,
     "metadata": {},
     "output_type": "execute_result"
    }
   ],
   "source": [
    "cr_teach = res[res.class_ruk == 1][['szp_teach', 'inn']].groupby('inn').agg({\n",
    "    'szp_teach': ['mean', 'min']\n",
    "}).reset_index()\n",
    "cr_teach.columns = ['inn', 'mean_cr', 'min_cr']\n",
    "cr_teach"
   ]
  },
  {
   "cell_type": "code",
   "execution_count": 265,
   "metadata": {},
   "outputs": [
    {
     "data": {
      "text/html": [
       "<div>\n",
       "<style scoped>\n",
       "    .dataframe tbody tr th:only-of-type {\n",
       "        vertical-align: middle;\n",
       "    }\n",
       "\n",
       "    .dataframe tbody tr th {\n",
       "        vertical-align: top;\n",
       "    }\n",
       "\n",
       "    .dataframe thead th {\n",
       "        text-align: right;\n",
       "    }\n",
       "</style>\n",
       "<table border=\"1\" class=\"dataframe\">\n",
       "  <thead>\n",
       "    <tr style=\"text-align: right;\">\n",
       "      <th></th>\n",
       "      <th>inn</th>\n",
       "      <th>mean_teach</th>\n",
       "      <th>min_teach</th>\n",
       "    </tr>\n",
       "  </thead>\n",
       "  <tbody>\n",
       "    <tr>\n",
       "      <th>0</th>\n",
       "      <td>5003021368</td>\n",
       "      <td>125776.846286</td>\n",
       "      <td>70774.370000</td>\n",
       "    </tr>\n",
       "    <tr>\n",
       "      <th>1</th>\n",
       "      <td>5003021495</td>\n",
       "      <td>128093.454143</td>\n",
       "      <td>77157.910000</td>\n",
       "    </tr>\n",
       "    <tr>\n",
       "      <th>2</th>\n",
       "      <td>5003021640</td>\n",
       "      <td>137959.550920</td>\n",
       "      <td>84120.270000</td>\n",
       "    </tr>\n",
       "    <tr>\n",
       "      <th>3</th>\n",
       "      <td>5003096290</td>\n",
       "      <td>133322.108237</td>\n",
       "      <td>62584.356667</td>\n",
       "    </tr>\n",
       "    <tr>\n",
       "      <th>4</th>\n",
       "      <td>5030032182</td>\n",
       "      <td>136833.043060</td>\n",
       "      <td>84463.530000</td>\n",
       "    </tr>\n",
       "    <tr>\n",
       "      <th>...</th>\n",
       "      <td>...</td>\n",
       "      <td>...</td>\n",
       "      <td>...</td>\n",
       "    </tr>\n",
       "    <tr>\n",
       "      <th>590</th>\n",
       "      <td>7743940590</td>\n",
       "      <td>143160.343518</td>\n",
       "      <td>86891.053333</td>\n",
       "    </tr>\n",
       "    <tr>\n",
       "      <th>591</th>\n",
       "      <td>9705101759</td>\n",
       "      <td>NaN</td>\n",
       "      <td>NaN</td>\n",
       "    </tr>\n",
       "    <tr>\n",
       "      <th>592</th>\n",
       "      <td>9715206976</td>\n",
       "      <td>134672.887962</td>\n",
       "      <td>81436.823333</td>\n",
       "    </tr>\n",
       "    <tr>\n",
       "      <th>593</th>\n",
       "      <td>9715217689</td>\n",
       "      <td>121751.268404</td>\n",
       "      <td>85168.100000</td>\n",
       "    </tr>\n",
       "    <tr>\n",
       "      <th>594</th>\n",
       "      <td>9718071371</td>\n",
       "      <td>NaN</td>\n",
       "      <td>NaN</td>\n",
       "    </tr>\n",
       "  </tbody>\n",
       "</table>\n",
       "<p>595 rows × 3 columns</p>\n",
       "</div>"
      ],
      "text/plain": [
       "            inn     mean_teach     min_teach\n",
       "0    5003021368  125776.846286  70774.370000\n",
       "1    5003021495  128093.454143  77157.910000\n",
       "2    5003021640  137959.550920  84120.270000\n",
       "3    5003096290  133322.108237  62584.356667\n",
       "4    5030032182  136833.043060  84463.530000\n",
       "..          ...            ...           ...\n",
       "590  7743940590  143160.343518  86891.053333\n",
       "591  9705101759            NaN           NaN\n",
       "592  9715206976  134672.887962  81436.823333\n",
       "593  9715217689  121751.268404  85168.100000\n",
       "594  9718071371            NaN           NaN\n",
       "\n",
       "[595 rows x 3 columns]"
      ]
     },
     "execution_count": 265,
     "metadata": {},
     "output_type": "execute_result"
    }
   ],
   "source": [
    "teach = res[['szp_teach', 'inn']].groupby('inn').agg({\n",
    "    'szp_teach': ['mean', 'min']\n",
    "}).reset_index()\n",
    "teach.columns = ['inn', 'mean_teach', 'min_teach']\n",
    "teach"
   ]
  },
  {
   "cell_type": "code",
   "execution_count": 266,
   "metadata": {},
   "outputs": [
    {
     "data": {
      "text/html": [
       "<div>\n",
       "<style scoped>\n",
       "    .dataframe tbody tr th:only-of-type {\n",
       "        vertical-align: middle;\n",
       "    }\n",
       "\n",
       "    .dataframe tbody tr th {\n",
       "        vertical-align: top;\n",
       "    }\n",
       "\n",
       "    .dataframe thead th {\n",
       "        text-align: right;\n",
       "    }\n",
       "</style>\n",
       "<table border=\"1\" class=\"dataframe\">\n",
       "  <thead>\n",
       "    <tr style=\"text-align: right;\">\n",
       "      <th></th>\n",
       "      <th>inn</th>\n",
       "      <th>szp</th>\n",
       "    </tr>\n",
       "  </thead>\n",
       "  <tbody>\n",
       "  </tbody>\n",
       "</table>\n",
       "</div>"
      ],
      "text/plain": [
       "Empty DataFrame\n",
       "Columns: [inn, szp]\n",
       "Index: []"
      ]
     },
     "execution_count": 266,
     "metadata": {},
     "output_type": "execute_result"
    }
   ],
   "source": [
    "res[res.snils == '063-133-632 27'][['inn','szp']]"
   ]
  },
  {
   "cell_type": "code",
   "execution_count": 267,
   "metadata": {},
   "outputs": [],
   "source": [
    "print_df(res[res.szp_teach > 200000][['inn', 'szp_teach']].groupby('inn').count().reset_index(), 'teach more 200 c ' + months[0] + ' по ' + months[-1])"
   ]
  },
  {
   "cell_type": "code",
   "execution_count": 268,
   "metadata": {},
   "outputs": [],
   "source": [
    "print_df(res[(res.inn == 7727824902) & (res['szp_teach'].isna() == False)], 'check ' + str(7727824902))"
   ]
  },
  {
   "cell_type": "code",
   "execution_count": 269,
   "metadata": {},
   "outputs": [],
   "source": [
    "df_teach_cr = res[(res.szp_teach.isna() == False) & (res['class_ruk'] == 1)][['inn', 'snils', 'szp_teach']].groupby('inn')\n",
    "bot10_teach_cr = {}\n",
    "for group in df_teach_cr.groups:\n",
    "    cnt = df_teach_cr.get_group(group)['snils'].nunique()\n",
    "    bot10_teach_cr[group] = df_teach_cr.get_group(group).sort_values(by='szp_teach', ascending=False, axis=0).tail(ceil(cnt / 10))['snils'].to_list()\n",
    "res['bot10_teach_cr'] = res.apply(lambda row: give_grp_from_matcher(row, bot10_teach_cr, 'szp_teach'), axis=1)"
   ]
  },
  {
   "cell_type": "code",
   "execution_count": 270,
   "metadata": {},
   "outputs": [],
   "source": [
    "cnts = res.groupby('inn')[['top10_all', 'top10_teach', 'bot50_teach', 'bot50_ped']].count().reset_index().rename(columns={'top10_all': 'dezil_cnt', 'top10_teach': 'dezil_teach_cnt', 'bot50_teach': 'teach_diff_cnt', 'bot50_ped': 'ped_diff_cnt'})\n",
    "means = res.groupby('inn')[['szp', 'szp_ped', 'szp_teach', 'top10_all', 'bot10_all', 'top10_teach', 'bot10_teach', 'bot50_teach', 'bot50_ped', 'bot10_teach_cr']].mean().reset_index()\n",
    "stats = pd.merge(means, cnts)\n",
    "stats['dezil'] = stats.top10_all / stats.bot10_all\n",
    "stats['dezil_teach'] = stats.top10_teach / stats.bot10_teach\n",
    "stats['teach_diff'] = stats.szp_teach / stats.bot50_teach\n",
    "print_df(pd.merge(stats, for_fot[for_fot.type != 'Внешнее совместительство'].groupby('inn')[['fot', 'fot_aup', 'fot_isp']].sum().reset_index()), path_to_dir + 'stats c ' +  months[0] + ' по ' + months[-1])"
   ]
  },
  {
   "cell_type": "code",
   "execution_count": 271,
   "metadata": {},
   "outputs": [],
   "source": [
    "print_df(pd.merge(pd.merge(stats, teach, how='left'), cr_teach, how='left'), path_to_dir + 'stats for 7 vals с ' + months[0] + ' по ' + months[-1])"
   ]
  },
  {
   "cell_type": "code",
   "execution_count": 272,
   "metadata": {},
   "outputs": [],
   "source": [
    "static_names = {'inn': (np.nan, 'ИНН'), 'snils': (np.nan, 'СНИЛС'), 'szp': (np.nan, 'СЗП'), 'szp_teach': (np.nan, 'СЗП учителей'),\n",
    "'szp_ped': (np.nan, 'СЗП педы'), 'fot': (np.nan, 'ФОТ'), 'fot_aup': (np.nan, 'ФОТ АУП'), 'top10_all': (np.nan, 'max 10% от всех работников'),\n",
    "'bot10_all': (np.nan, 'min 10% от всех работников'), 'top10_teach': (np.nan, 'max 10% учителей'), 'bot10_teach': (np.nan, 'min 10% учителей'),\n",
    "'bot50_teach': (np.nan, 'min 50% учителей'), 'bot50_ped': (np.nan, 'min 50% педагогов'), 'fot_isp': (np.nan, 'ФОТ НОУВП')}\n",
    "per_month_names = {'sum': (np.nan, 'Начисления'), 'job': (np.nan, 'Должность'), 'day': (np.nan, 'Отработанный месяц'),\n",
    "'type': (np.nan, 'Вид занятости'), 'stv': (np.nan, 'Ставка'), 'status': (np.nan, 'Статус на конец месяца'), 'status_pref': (np.nan, 'Статус на начало месяца'),\n",
    "'wday': (np.nan, 'Отработано дней'), 'nday': (np.nan, 'Всего рабочих дней в месяце'), 'sum_all': (np.nan, 'Начисления всего'), 'spec': (np.nan, 'Направление деятельности')}\n",
    "monthly_names = {key: value for key, value in zip([key + '_' + month for key in per_month_names.keys() for month in months_year], [(month, value[1]) for value in per_month_names.values() for month in months_year_rus])}\n",
    "q_names = {key: value for key, value in zip([key + '_q_' + str(q) for key in static_names.keys() for q in range(1, 5)], [('кв_' + str(q), value[1]) for value in static_names.values() for q in range(1, 5)])}\n",
    "translate = static_names | per_month_names | monthly_names | q_names"
   ]
  },
  {
   "cell_type": "code",
   "execution_count": 273,
   "metadata": {},
   "outputs": [],
   "source": [
    "def print_with_trans(df_in, file, trans):\n",
    "    df = df_in.copy()\n",
    "    df.columns = pd.MultiIndex.from_tuples(df.rename(columns=trans).columns.to_list())\n",
    "    row = [[] for i in df.columns.names]\n",
    "    wb = Workbook()\n",
    "    ws = wb.active\n",
    "    for i in df.columns:\n",
    "        for j in range(len(row)):\n",
    "            row[j].append(i[j])\n",
    "    for i in row:\n",
    "        ws.append(i)\n",
    "    for i in df_to_row(df, header=False, index=False):\n",
    "        ws.append(i)\n",
    "    wb.save(file + '.xlsx')"
   ]
  },
  {
   "cell_type": "code",
   "execution_count": 274,
   "metadata": {},
   "outputs": [],
   "source": [
    "print_with_trans(for_fot, path_to_dir + 'accum_fot c ' +  months[0] + ' по ' + months[-1] + ' rus', translate)\n",
    "print_with_trans(res, path_to_dir + 'accum c ' +  months[0] + ' по ' + months[-1] + ' rus', translate)"
   ]
  },
  {
   "cell_type": "code",
   "execution_count": 275,
   "metadata": {},
   "outputs": [
    {
     "data": {
      "text/plain": [
       "3.1531565026591695"
      ]
     },
     "execution_count": 275,
     "metadata": {},
     "output_type": "execute_result"
    }
   ],
   "source": [
    "df = res[res.inn == 7701050524]\n",
    "cnt = df['snils'].nunique()\n",
    "df.sort_values(by='szp', ascending=False)['szp'].head(ceil(cnt / 10)).mean() / df.sort_values(by='szp', ascending=False)['szp'].tail(ceil(cnt / 10)).mean()"
   ]
  },
  {
   "cell_type": "code",
   "execution_count": 276,
   "metadata": {},
   "outputs": [],
   "source": [
    "#print_df(df, path_to_dir + 'check school info ' + str(7701050524))"
   ]
  },
  {
   "cell_type": "code",
   "execution_count": 277,
   "metadata": {},
   "outputs": [],
   "source": [
    "#print_df(res, path_to_dir + 'accum по ' + months[-1])"
   ]
  },
  {
   "cell_type": "code",
   "execution_count": 278,
   "metadata": {},
   "outputs": [],
   "source": [
    "#print_df(for_fot, path_to_dir + 'accum_fot по ' + months[-1])"
   ]
  }
 ],
 "metadata": {
  "interpreter": {
   "hash": "074f563457da44d7ed57bdc37c43fd9dc993318bca70a60ea87af59e9047f938"
  },
  "kernelspec": {
   "display_name": "Python 3.10.2 64-bit",
   "language": "python",
   "name": "python3"
  },
  "language_info": {
   "codemirror_mode": {
    "name": "ipython",
    "version": 3
   },
   "file_extension": ".py",
   "mimetype": "text/x-python",
   "name": "python",
   "nbconvert_exporter": "python",
   "pygments_lexer": "ipython3",
   "version": "3.10.2"
  },
  "orig_nbformat": 4
 },
 "nbformat": 4,
 "nbformat_minor": 2
}
