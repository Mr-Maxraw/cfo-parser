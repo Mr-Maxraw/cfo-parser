{
 "cells": [
  {
   "cell_type": "code",
   "execution_count": 1,
   "metadata": {},
   "outputs": [],
   "source": [
    "from openpyxl import Workbook, load_workbook\n",
    "import pandas as pd\n",
    "from openpyxl.utils.dataframe import dataframe_to_rows as df_to_row\n",
    "import numpy as np"
   ]
  },
  {
   "cell_type": "code",
   "execution_count": 2,
   "metadata": {},
   "outputs": [],
   "source": [
    "from szp_funcs import print_df, load_month, custom_create_res, months_year"
   ]
  },
  {
   "cell_type": "code",
   "execution_count": 13,
   "metadata": {},
   "outputs": [],
   "source": [
    "months = months_year[:4]\n",
    "job = ['Юрисконсульт', 'Ведущий юрисконсульт']"
   ]
  },
  {
   "cell_type": "code",
   "execution_count": 5,
   "metadata": {},
   "outputs": [],
   "source": [
    "res = custom_create_res(months, load_month)"
   ]
  },
  {
   "cell_type": "code",
   "execution_count": 8,
   "metadata": {},
   "outputs": [],
   "source": [
    "def re_szp(row, months):\n",
    "    active_months = 0\n",
    "    fot = 0\n",
    "    for month in months:\n",
    "        if row['day_' + month] == 1 and row['stv_' + month] >= 1 and row['status_' + month] == row['status_pref_' + month] and row['status_' + month] == 'Работа':\n",
    "            fot += row['sum_' + month]\n",
    "            active_months += 1\n",
    "    if active_months == 0:\n",
    "        return np.nan\n",
    "    return fot / active_months"
   ]
  },
  {
   "cell_type": "code",
   "execution_count": 9,
   "metadata": {},
   "outputs": [],
   "source": [
    "def re_szp_job(row, months, jobs):\n",
    "    active_months = 0\n",
    "    fot = 0\n",
    "    for month in months:\n",
    "        if row['job_' + month] in jobs and row['day_' + month] == 1 and row['stv_' + month] >= 1 and row['status_' + month] == row['status_pref_' + month] and row['status_' + month] == 'Работа':\n",
    "            fot += row['sum_' + month]\n",
    "            active_months += 1\n",
    "    if active_months == 0:\n",
    "        return np.nan\n",
    "    return fot / active_months"
   ]
  },
  {
   "cell_type": "code",
   "execution_count": 10,
   "metadata": {},
   "outputs": [],
   "source": [
    "def re_fot(row, months):\n",
    "    fot = 0\n",
    "    for month in months:\n",
    "        fot += row['sum_' + month]\n",
    "    if fot == 0:\n",
    "        return np.nan\n",
    "    return fot"
   ]
  },
  {
   "cell_type": "code",
   "execution_count": 11,
   "metadata": {},
   "outputs": [],
   "source": [
    "def re_fot_job(row, months, jobs):\n",
    "    fot = 0\n",
    "    for month in months:\n",
    "        if row['job_' + month] in jobs:\n",
    "            fot += row['sum_' + month]\n",
    "    if fot == 0:\n",
    "        return np.nan\n",
    "    return fot"
   ]
  },
  {
   "cell_type": "code",
   "execution_count": 14,
   "metadata": {},
   "outputs": [],
   "source": [
    "res['fot_job'] = res.apply(lambda row: re_fot_job(row, months, job), axis=1)\n",
    "res['szp_job'] = res.apply(lambda row: re_szp_job(row, months, job), axis=1)"
   ]
  },
  {
   "cell_type": "code",
   "execution_count": 16,
   "metadata": {},
   "outputs": [],
   "source": [
    "ans = res[['inn', 'fot_job', 'szp_job', 'stv_' + months[-1], 'snils']][res['job_' + months[-1]].isin(job)].groupby('inn').agg({\n",
    "    'fot_job': 'sum',\n",
    "    'szp_job': 'mean',\n",
    "    'stv_' + months[-1]: 'sum',\n",
    "    'snils': 'nunique'\n",
    "})"
   ]
  },
  {
   "cell_type": "code",
   "execution_count": 28,
   "metadata": {},
   "outputs": [
    {
     "data": {
      "text/html": [
       "<div>\n",
       "<style scoped>\n",
       "    .dataframe tbody tr th:only-of-type {\n",
       "        vertical-align: middle;\n",
       "    }\n",
       "\n",
       "    .dataframe tbody tr th {\n",
       "        vertical-align: top;\n",
       "    }\n",
       "\n",
       "    .dataframe thead th {\n",
       "        text-align: right;\n",
       "    }\n",
       "</style>\n",
       "<table border=\"1\" class=\"dataframe\">\n",
       "  <thead>\n",
       "    <tr style=\"text-align: right;\">\n",
       "      <th></th>\n",
       "      <th>inn</th>\n",
       "      <th>snils</th>\n",
       "      <th>sum_jan</th>\n",
       "      <th>job_jan</th>\n",
       "      <th>day_jan</th>\n",
       "      <th>type_jan</th>\n",
       "      <th>stv_jan</th>\n",
       "      <th>status_jan</th>\n",
       "      <th>status_pref_jan</th>\n",
       "      <th>sum_feb</th>\n",
       "      <th>...</th>\n",
       "      <th>job_apr</th>\n",
       "      <th>day_apr</th>\n",
       "      <th>type_apr</th>\n",
       "      <th>stv_apr</th>\n",
       "      <th>status_apr</th>\n",
       "      <th>status_pref_apr</th>\n",
       "      <th>wday_apr</th>\n",
       "      <th>nday_apr</th>\n",
       "      <th>fot_job</th>\n",
       "      <th>szp_job</th>\n",
       "    </tr>\n",
       "  </thead>\n",
       "  <tbody>\n",
       "    <tr>\n",
       "      <th>172134</th>\n",
       "      <td>7737078033</td>\n",
       "      <td>153-358-303 56</td>\n",
       "      <td>NaN</td>\n",
       "      <td>NaN</td>\n",
       "      <td>NaN</td>\n",
       "      <td>NaN</td>\n",
       "      <td>NaN</td>\n",
       "      <td>NaN</td>\n",
       "      <td>NaN</td>\n",
       "      <td>29763.9</td>\n",
       "      <td>...</td>\n",
       "      <td>Юрисконсульт</td>\n",
       "      <td>1.0</td>\n",
       "      <td>Основное место работы</td>\n",
       "      <td>1.0</td>\n",
       "      <td>Работа</td>\n",
       "      <td>Работа</td>\n",
       "      <td>21.0</td>\n",
       "      <td>21.0</td>\n",
       "      <td>139144.62</td>\n",
       "      <td>54690.36</td>\n",
       "    </tr>\n",
       "  </tbody>\n",
       "</table>\n",
       "<p>1 rows × 34 columns</p>\n",
       "</div>"
      ],
      "text/plain": [
       "               inn           snils  sum_jan job_jan  day_jan type_jan  \\\n",
       "172134  7737078033  153-358-303 56      NaN     NaN      NaN      NaN   \n",
       "\n",
       "        stv_jan status_jan status_pref_jan  sum_feb  ...       job_apr  \\\n",
       "172134      NaN        NaN             NaN  29763.9  ...  Юрисконсульт   \n",
       "\n",
       "        day_apr               type_apr  stv_apr status_apr status_pref_apr  \\\n",
       "172134      1.0  Основное место работы      1.0     Работа          Работа   \n",
       "\n",
       "        wday_apr nday_apr    fot_job   szp_job  \n",
       "172134      21.0     21.0  139144.62  54690.36  \n",
       "\n",
       "[1 rows x 34 columns]"
      ]
     },
     "execution_count": 28,
     "metadata": {},
     "output_type": "execute_result"
    }
   ],
   "source": [
    "res[(res['job_' + months[-1]].isin(job)) & (res.inn == 7737078033)]#[['job_' + month for month in months]]"
   ]
  },
  {
   "cell_type": "code",
   "execution_count": 17,
   "metadata": {},
   "outputs": [],
   "source": [
    "print_df(ans, job[0] + ' за ' + months[-1])"
   ]
  }
 ],
 "metadata": {
  "interpreter": {
   "hash": "074f563457da44d7ed57bdc37c43fd9dc993318bca70a60ea87af59e9047f938"
  },
  "kernelspec": {
   "display_name": "Python 3.10.2 64-bit",
   "language": "python",
   "name": "python3"
  },
  "language_info": {
   "codemirror_mode": {
    "name": "ipython",
    "version": 3
   },
   "file_extension": ".py",
   "mimetype": "text/x-python",
   "name": "python",
   "nbconvert_exporter": "python",
   "pygments_lexer": "ipython3",
   "version": "3.10.2"
  },
  "orig_nbformat": 4
 },
 "nbformat": 4,
 "nbformat_minor": 2
}
