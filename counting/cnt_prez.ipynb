{
 "cells": [
  {
   "cell_type": "code",
   "execution_count": 1,
   "metadata": {},
   "outputs": [],
   "source": [
    "from openpyxl import Workbook, load_workbook\n",
    "import pandas as pd\n",
    "from openpyxl.utils.dataframe import dataframe_to_rows as df_to_row\n",
    "import numpy as np"
   ]
  },
  {
   "cell_type": "code",
   "execution_count": 2,
   "metadata": {},
   "outputs": [],
   "source": [
    "path_to_data = 'C:/Users/PetukhovMD/Desktop/szp/'\n",
    "path_to_docs = 'C:/Users/PetukhovMD/Desktop/справочники/'\n",
    "months = ['feb.xlsx', 'jan.xlsx']\n",
    "sheet = 'Sheet'"
   ]
  },
  {
   "cell_type": "code",
   "execution_count": 3,
   "metadata": {},
   "outputs": [],
   "source": [
    "def to_double(row, f_name):\n",
    "    if type(row[f_name]) is float:\n",
    "        return row[f_name] \n",
    "    t = str(row[f_name]).split(',')\n",
    "    if t[0] == 'nan':\n",
    "        return 0.0\n",
    "    return float(t[0]+'.'+t[1])"
   ]
  },
  {
   "cell_type": "code",
   "execution_count": 4,
   "metadata": {},
   "outputs": [],
   "source": [
    "def print_df(df, name):\n",
    "    wb = Workbook()\n",
    "    ws = wb.active\n",
    "    for  i in df_to_row(df, header=True):\n",
    "        ws.append(i)\n",
    "    wb.save(name + '.xlsx')"
   ]
  },
  {
   "cell_type": "code",
   "execution_count": 80,
   "metadata": {},
   "outputs": [],
   "source": [
    "def load_data(file):\n",
    "    df = pd.read_excel(path_to_data + file + '.xlsx')\n",
    "    df.stv = df.apply(lambda row: to_double(row, 'stv'), axis=1)\n",
    "    sample = df[(df.day == 1) & ((df.type == 'Основное место работы') | (df.type == 'Внутреннее совместительство')) & (df.inn != 9718071371)]\n",
    "    sums = sample.iloc[:, [0,1,2,3]].groupby(['inn', 'snils']).sum().reset_index()\n",
    "    sums = pd.merge(sums, sample[sample.type == 'Основное место работы'], how='left', on='snils')\n",
    "    sums = sums[['inn_x', 'snils', 'sum_x', 'stv', 'job']].drop_duplicates(['inn_x', 'snils', 'sum_x'])\n",
    "    sums = sums.rename(columns = {'inn_x': 'inn', 'sum_x': 'sum_' + file, 'job':'job_' + file, 'stv': 'stv_' + file})\n",
    "    return sums"
   ]
  },
  {
   "cell_type": "code",
   "execution_count": 81,
   "metadata": {},
   "outputs": [],
   "source": [
    "jan = load_data('jan')\n",
    "feb = load_data('feb')"
   ]
  },
  {
   "cell_type": "code",
   "execution_count": 82,
   "metadata": {},
   "outputs": [],
   "source": [
    "res = pd.merge(jan, feb, how='outer', on=['inn', 'snils'])"
   ]
  },
  {
   "cell_type": "code",
   "execution_count": 20,
   "metadata": {},
   "outputs": [],
   "source": [
    "def szp_teach(row, months):\n",
    "    sum_szp = 0\n",
    "    cnt = 0\n",
    "    for month in months:\n",
    "        if row['job_' + month] in ['Учитель']:\n",
    "            cnt += 1\n",
    "            sum_szp += row['sum_' + month]\n",
    "    if cnt == 0:\n",
    "        return np.nan\n",
    "    return sum_szp / cnt"
   ]
  },
  {
   "cell_type": "code",
   "execution_count": 21,
   "metadata": {},
   "outputs": [],
   "source": [
    "def szp_teach_norm(row, months):\n",
    "    sum_szp = 0\n",
    "    cnt = 0\n",
    "    for month in months:\n",
    "        if row['job_' + month] in ['Учитель']:\n",
    "            cnt += 1\n",
    "            sum_szp += row['sum_' + month] / row['stv_' + month]\n",
    "    if cnt == 0:\n",
    "        return np.nan\n",
    "    return sum_szp / cnt"
   ]
  },
  {
   "cell_type": "code",
   "execution_count": 23,
   "metadata": {},
   "outputs": [],
   "source": [
    "def szp_teach_norm_sub1(row , months):\n",
    "    sum_szp = 0\n",
    "    cnt = 0\n",
    "    for month in months:\n",
    "        if row['job_' + month] in ['Учитель']:\n",
    "            cnt += 1\n",
    "            if row['stv_' + month] < 1:\n",
    "                sum_szp += row['sum_' + month] / row['stv_' + month]\n",
    "                continue\n",
    "            sum_szp += row['sum_' + month]\n",
    "    if cnt == 0:\n",
    "        return np.nan\n",
    "    return sum_szp / cnt"
   ]
  },
  {
   "cell_type": "code",
   "execution_count": 83,
   "metadata": {},
   "outputs": [],
   "source": [
    "res['szp1'] = res.apply(lambda row: szp_teach(row, ['jan', 'feb']), axis=1)\n",
    "res['szp2'] = res.apply(lambda row: szp_teach_norm(row, ['jan', 'feb']), axis=1)\n",
    "res['szp3'] = res.apply(lambda row: szp_teach_norm_sub1(row, ['jan', 'feb']), axis=1)"
   ]
  },
  {
   "cell_type": "code",
   "execution_count": 84,
   "metadata": {},
   "outputs": [
    {
     "data": {
      "text/html": [
       "<div>\n",
       "<style scoped>\n",
       "    .dataframe tbody tr th:only-of-type {\n",
       "        vertical-align: middle;\n",
       "    }\n",
       "\n",
       "    .dataframe tbody tr th {\n",
       "        vertical-align: top;\n",
       "    }\n",
       "\n",
       "    .dataframe thead th {\n",
       "        text-align: right;\n",
       "    }\n",
       "</style>\n",
       "<table border=\"1\" class=\"dataframe\">\n",
       "  <thead>\n",
       "    <tr style=\"text-align: right;\">\n",
       "      <th></th>\n",
       "      <th>snils</th>\n",
       "      <th>sum_jan</th>\n",
       "      <th>stv_jan</th>\n",
       "      <th>job_jan</th>\n",
       "      <th>sum_feb</th>\n",
       "      <th>stv_feb</th>\n",
       "      <th>job_feb</th>\n",
       "      <th>szp1</th>\n",
       "      <th>szp2</th>\n",
       "      <th>szp3</th>\n",
       "    </tr>\n",
       "    <tr>\n",
       "      <th>inn</th>\n",
       "      <th></th>\n",
       "      <th></th>\n",
       "      <th></th>\n",
       "      <th></th>\n",
       "      <th></th>\n",
       "      <th></th>\n",
       "      <th></th>\n",
       "      <th></th>\n",
       "      <th></th>\n",
       "      <th></th>\n",
       "    </tr>\n",
       "  </thead>\n",
       "  <tbody>\n",
       "    <tr>\n",
       "      <th>7737027335</th>\n",
       "      <td>563</td>\n",
       "      <td>504</td>\n",
       "      <td>504</td>\n",
       "      <td>504</td>\n",
       "      <td>500</td>\n",
       "      <td>500</td>\n",
       "      <td>500</td>\n",
       "      <td>316</td>\n",
       "      <td>316</td>\n",
       "      <td>316</td>\n",
       "    </tr>\n",
       "  </tbody>\n",
       "</table>\n",
       "</div>"
      ],
      "text/plain": [
       "            snils  sum_jan  stv_jan  job_jan  sum_feb  stv_feb  job_feb  szp1  \\\n",
       "inn                                                                             \n",
       "7737027335    563      504      504      504      500      500      500   316   \n",
       "\n",
       "            szp2  szp3  \n",
       "inn                     \n",
       "7737027335   316   316  "
      ]
     },
     "execution_count": 84,
     "metadata": {},
     "output_type": "execute_result"
    }
   ],
   "source": [
    "res[res.inn == 7737027335].groupby('inn').count()"
   ]
  },
  {
   "cell_type": "code",
   "execution_count": 85,
   "metadata": {},
   "outputs": [
    {
     "data": {
      "text/html": [
       "<div>\n",
       "<style scoped>\n",
       "    .dataframe tbody tr th:only-of-type {\n",
       "        vertical-align: middle;\n",
       "    }\n",
       "\n",
       "    .dataframe tbody tr th {\n",
       "        vertical-align: top;\n",
       "    }\n",
       "\n",
       "    .dataframe thead th {\n",
       "        text-align: right;\n",
       "    }\n",
       "</style>\n",
       "<table border=\"1\" class=\"dataframe\">\n",
       "  <thead>\n",
       "    <tr style=\"text-align: right;\">\n",
       "      <th></th>\n",
       "      <th>szp1</th>\n",
       "      <th>szp2</th>\n",
       "      <th>szp3</th>\n",
       "    </tr>\n",
       "    <tr>\n",
       "      <th>inn</th>\n",
       "      <th></th>\n",
       "      <th></th>\n",
       "      <th></th>\n",
       "    </tr>\n",
       "  </thead>\n",
       "  <tbody>\n",
       "    <tr>\n",
       "      <th>7737027335</th>\n",
       "      <td>120164.442658</td>\n",
       "      <td>89596.426486</td>\n",
       "      <td>124237.051595</td>\n",
       "    </tr>\n",
       "  </tbody>\n",
       "</table>\n",
       "</div>"
      ],
      "text/plain": [
       "                     szp1          szp2           szp3\n",
       "inn                                                   \n",
       "7737027335  120164.442658  89596.426486  124237.051595"
      ]
     },
     "execution_count": 85,
     "metadata": {},
     "output_type": "execute_result"
    }
   ],
   "source": [
    "calc = res[['inn', 'szp1', 'szp2', 'szp3']].groupby('inn').mean()\n",
    "calc[calc.index == 7737027335]"
   ]
  },
  {
   "cell_type": "code",
   "execution_count": 31,
   "metadata": {},
   "outputs": [],
   "source": [
    "print_df(calc, 'szp_diff')"
   ]
  }
 ],
 "metadata": {
  "interpreter": {
   "hash": "9086a9f3d68dfde60c8c4c50cddae0f31bfdd88b219c176f349b145997fbdd59"
  },
  "kernelspec": {
   "display_name": "Python 3.10.2 64-bit",
   "language": "python",
   "name": "python3"
  },
  "language_info": {
   "codemirror_mode": {
    "name": "ipython",
    "version": 3
   },
   "file_extension": ".py",
   "mimetype": "text/x-python",
   "name": "python",
   "nbconvert_exporter": "python",
   "pygments_lexer": "ipython3",
   "version": "3.10.2"
  },
  "orig_nbformat": 4
 },
 "nbformat": 4,
 "nbformat_minor": 2
}
